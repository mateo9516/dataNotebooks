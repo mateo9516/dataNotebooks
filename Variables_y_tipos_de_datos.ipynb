{
 "cells": [
  {
   "cell_type": "markdown",
   "metadata": {
    "id": "UFAyo9Sprd3M"
   },
   "source": [
    "## Variables"
   ]
  },
  {
   "cell_type": "markdown",
   "metadata": {
    "id": "Nu8Is2QBrrhP"
   },
   "source": [
    "En programación, a menudo calculamos muchos valores que queremos guardar para poder utilizar el resultado en un paso posterior. Por ejemplo, digamos que queremos encontrar el número de segundos en un día. Podemos calcularlo fácilmente con lo siguiente:\n",
    "\n",
    "60∗60∗24=86400 segundos\n",
    "\n",
    "Sin embargo, supongamos que tu amigo Alejandro te pregunta cuántos segundos hay en tres días. Por supuesto, podríamos realizar el cálculo de forma similar:\n",
    "\n",
    "(60∗60∗24)∗3=259200 segundos\n",
    "\n",
    "Pero vemos que hemos repetido el cálculo entre paréntesis más arriba. En lugar de volver a hacer este cálculo, podríamos haber guardado el resultado de nuestro primer paso (calcular el número de segundos de un día) como una variable."
   ]
  },
  {
   "cell_type": "code",
   "execution_count": 1,
   "metadata": {
    "colab": {
     "base_uri": "https://localhost:8080/"
    },
    "id": "ppD-An8gr9O8",
    "outputId": "4fe72f86-6c3c-4de7-a36c-5f949148b52b"
   },
   "outputs": [
    {
     "data": {
      "text/plain": [
       "86400"
      ]
     },
     "execution_count": 1,
     "metadata": {},
     "output_type": "execute_result"
    }
   ],
   "source": [
    "# Este es el código de Python que asigna variables.\n",
    "# El nombre a la izquierda del signo de igualdad es el nombre de la variable.\n",
    "# El valor a la derecha del signo de igual es el valor de la variable.\n",
    "\n",
    "seconds_in_day = 60 * 60 * 24 # This is equal to 86400.\n",
    "seconds_in_day"
   ]
  },
  {
   "cell_type": "markdown",
   "metadata": {
    "id": "1AoPxtr0sEE3"
   },
   "source": [
    "Entonces, podemos simplemente multiplicar esta variable por tres para obtener el número de segundos en tres días:"
   ]
  },
  {
   "cell_type": "code",
   "execution_count": null,
   "metadata": {
    "colab": {
     "base_uri": "https://localhost:8080/"
    },
    "id": "gCtTo7KBsOaB",
    "outputId": "d28b2bd5-8ee2-499d-ecf5-a8028a574b57"
   },
   "outputs": [
    {
     "data": {
      "text/plain": [
       "259200"
      ]
     },
     "execution_count": 2,
     "metadata": {},
     "output_type": "execute_result"
    }
   ],
   "source": [
    "seconds_in_three_days = seconds_in_day * 3  # This is equal to 259200.\n",
    "seconds_in_three_days"
   ]
  },
  {
   "cell_type": "markdown",
   "metadata": {
    "id": "pOLeKO48sU9r"
   },
   "source": [
    "Como puede ver, las variables pueden utilizarse para simplificar los cálculos, hacer que el código sea más legible y permitir la repetición y reutilización del código."
   ]
  },
  {
   "cell_type": "markdown",
   "metadata": {
    "id": "CZoLwrM_sY5P"
   },
   "source": [
    "## Tipos de variables"
   ]
  },
  {
   "cell_type": "markdown",
   "metadata": {
    "id": "QQYT_lKfsbM6"
   },
   "source": [
    "A continuación, hablaremos de algunos tipos de variables que utilizarás. Como vimos en el ejemplo anterior, un tipo común de variable es el entero (números enteros positivos y negativos). También usarás números decimales en Python, que se llaman dobles (números decimales positivos y negativos).\n",
    "\n",
    "Un tercer tipo de variable usado frecuentemente en Python es la cadena; las cadenas son esencialmente secuencias de caracteres, y puedes pensar en ellas como palabras o frases. Denotamos las cadenas rodeando el valor deseado con comillas. Por ejemplo, \"Data Science\" y \"2017\" son cadenas, mientras que osos y 2020 (ambos sin comillas) no son cadenas.\n",
    "\n",
    "Finalmente, el último tipo de variable que repasaremos es el booleano. Pueden tomar uno de dos valores: Verdadero o Falso. Los booleanos se utilizan a menudo para comprobar condiciones; por ejemplo, podemos tener una lista de perros y queremos ordenarlos en perros pequeños y perros grandes. Una forma de lograrlo es decir Verdadero o Falso para cada perro después de ver si el perro pesa más de 15 libras.\n",
    "\n",
    "A continuación se muestra una tabla que resume la información de esta sección:\n"
   ]
  },
  {
   "cell_type": "markdown",
   "metadata": {
    "id": "WtYjHpBtsuHr"
   },
   "source": [
    "<table>\n",
    "  <thead>\n",
    "    <tr>\n",
    "      <th>Tipo de variables</th>\n",
    "      <th>Definición</th>\n",
    "      <th>Ejemplos</th>\n",
    "    </tr>\n",
    "  </thead>\n",
    "  <tbody>\n",
    "    <tr>\n",
    "      <td>Integer</td>\n",
    "      <td>números enteros positivos y negativos</td>\n",
    "      <td><code class=\"language-plaintext highlighter-rouge\">42</code>, <code class=\"language-plaintext highlighter-rouge\">-10</code>, <code class=\"language-plaintext highlighter-rouge\">0</code></td>\n",
    "    </tr>\n",
    "    <tr>\n",
    "      <td>Double</td>\n",
    "      <td>números decimales positivos y negativos</td>\n",
    "      <td><code class=\"language-plaintext highlighter-rouge\">73.9</code>, <code class=\"language-plaintext highlighter-rouge\">2.4</code>, <code class=\"language-plaintext highlighter-rouge\">0.0</code></td>\n",
    "    </tr>\n",
    "    <tr>\n",
    "      <td>String</td>\n",
    "      <td>Secuencia de caracteres</td>\n",
    "      <td><code class=\"language-plaintext highlighter-rouge\">\"Go Bears!\"</code>, <code class=\"language-plaintext highlighter-rouge\">\"variables\"</code></td>\n",
    "    </tr>\n",
    "    <tr>\n",
    "      <td>Boolean</td>\n",
    "      <td>True or false value (verdadero o falso)</td>\n",
    "      <td><code class=\"language-plaintext highlighter-rouge\">True</code>, <code class=\"language-plaintext highlighter-rouge\">False</code></td>\n",
    "    </tr>\n",
    "  </tbody>\n",
    "</table>"
   ]
  },
  {
   "cell_type": "markdown",
   "metadata": {
    "id": "kWqARISNtw6x"
   },
   "source": [
    "## Aritmética"
   ]
  },
  {
   "cell_type": "markdown",
   "metadata": {
    "id": "KheLWYSlt1kl"
   },
   "source": [
    "Ahora que hemos hablado de los tipos de variables que podemos utilizar, hablemos de cómo podemos combinarlas. Como vimos al principio de esta sección, podemos hacer operaciones matemáticas básicas en Python. Aquí hay una tabla que muestra cómo escribir tales operaciones:"
   ]
  },
  {
   "cell_type": "markdown",
   "metadata": {
    "id": "4n5x8NtQuCaU"
   },
   "source": [
    "<table>\n",
    "  <thead>\n",
    "    <tr>\n",
    "      <th>Operación</th>\n",
    "      <th>Operador</th>\n",
    "      <th>Ejemplo</th>\n",
    "      <th>Valor</th>\n",
    "    </tr>\n",
    "  </thead>\n",
    "  <tbody>\n",
    "    <tr>\n",
    "      <td>Adición</td>\n",
    "      <td>+</td>\n",
    "      <td><code class=\"language-plaintext highlighter-rouge\">2 + 3</code></td>\n",
    "      <td><code class=\"language-plaintext highlighter-rouge\">5</code></td>\n",
    "    </tr>\n",
    "    <tr>\n",
    "      <td>Substracción</td>\n",
    "      <td>-</td>\n",
    "      <td><code class=\"language-plaintext highlighter-rouge\">2 - 3</code></td>\n",
    "      <td><code class=\"language-plaintext highlighter-rouge\">-1</code></td>\n",
    "    </tr>\n",
    "    <tr>\n",
    "      <td>Multiplicación</td>\n",
    "      <td>*</td>\n",
    "      <td><code class=\"language-plaintext highlighter-rouge\">2 * 3</code></td>\n",
    "      <td><code class=\"language-plaintext highlighter-rouge\">6</code></td>\n",
    "    </tr>\n",
    "    <tr>\n",
    "      <td>División</td>\n",
    "      <td>/</td>\n",
    "      <td><code class=\"language-plaintext highlighter-rouge\">7 / 3</code></td>\n",
    "      <td><code class=\"language-plaintext highlighter-rouge\">2.66667</code></td>\n",
    "    </tr>\n",
    "    <tr>\n",
    "      <td>Residuo</td>\n",
    "      <td>%</td>\n",
    "      <td><code class=\"language-plaintext highlighter-rouge\">7 % 3</code></td>\n",
    "      <td><code class=\"language-plaintext highlighter-rouge\">1</code></td>\n",
    "    </tr>\n",
    "    <tr>\n",
    "      <td>Exponenciación</td>\n",
    "      <td>**</td>\n",
    "      <td><code class=\"language-plaintext highlighter-rouge\">2 ** 0.5</code></td>\n",
    "      <td><code class=\"language-plaintext highlighter-rouge\">1.41421</code></td>\n",
    "    </tr>\n",
    "  </tbody>\n",
    "</table>"
   ]
  },
  {
   "cell_type": "markdown",
   "metadata": {
    "id": "15MRGRMuunP2"
   },
   "source": [
    "Además, puedes utilizar paréntesis para denotar la prioridad, al igual que en matemáticas.\n",
    "\n",
    "Como ejercicio, intenta predecir lo que imprimirá cada una de estas líneas de abajo. Luego, ejecuta la celda y comprueba tus respuestas."
   ]
  },
  {
   "cell_type": "code",
   "execution_count": null,
   "metadata": {
    "id": "6t_ZPayjuoYO"
   },
   "outputs": [],
   "source": [
    "q_1 = (3 + 4) / 2\n",
    "print(q_1) # What prints here?\n",
    "\n",
    "q_2 = 3 + 4 / 2\n",
    "print(q_2) # What prints here?\n",
    "\n",
    "some_variable = 1 + 2 + 3 + 4 + 5\n",
    "q_3 = some_variable * 4\n",
    "print(q_3) # What prints here?\n",
    "\n",
    "q_4 = some_variable % 3\n",
    "print(q_4) # What prints here?\n",
    "\n",
    "step_1 = 6 * 5 - (6 * 3)\n",
    "step_2 = (2 ** 3) / 4 * 7\n",
    "q_5 = 1 + step_1 ** 2 * step_2\n",
    "print(q_5) # What prints here?"
   ]
  },
  {
   "cell_type": "markdown",
   "metadata": {
    "id": "3_FbxzjPv_pt"
   },
   "source": [
    "## Funciones"
   ]
  },
  {
   "cell_type": "markdown",
   "metadata": {
    "id": "lUVqkrRBwKHE"
   },
   "source": [
    "Hasta ahora, has aprendido a realizar operaciones básicas con las entradas y a asignar variables a determinados valores. Ahora, vamos a intentar ser más eficientes.\n",
    "\n",
    "Digamos que queremos realizar una determinada operación sobre muchas entradas diferentes que produzcan distintas salidas. ¿Qué hacemos? Escribimos una función.\n",
    "\n",
    "Una función es un bloque de código que funciona como una máquina: toma una entrada, le hace algo y produce una salida.\n",
    "\n",
    "La entrada se pone entre paréntesis y también puede llamarse argumento o parámetro. Las funciones pueden tener múltiples argumentos.\n",
    "\n",
    "Intente ejecutar la celda de abajo después de cambiar el nombre de la variable:"
   ]
  },
  {
   "cell_type": "code",
   "execution_count": null,
   "metadata": {
    "id": "HTP5P8kWv_V9"
   },
   "outputs": [],
   "source": [
    "# Edita esta sección con tu nombre!\n",
    "name = \"John Doe\"\n",
    "\n",
    "# Nuestra función\n",
    "def hello(name):\n",
    "    return \"Hello \" + name + \"!\"\n",
    "\n",
    "hello(name)"
   ]
  },
  {
   "cell_type": "markdown",
   "metadata": {
    "id": "OH4Zdownwoxq"
   },
   "source": [
    "interesante, ¿verdad? Ahora, no necesitas escribir 10 líneas diferentes con 10 nombres distintos para imprimir un saludo especial para cada persona. Todo lo que necesitas es escribir una función que haga todo el trabajo por ti.\n",
    "\n",
    "Las funciones son muy útiles en programación porque te ayudan a escribir un código más corto y modular. Un buen ejemplo es la función print, que hemos utilizado bastante en este módulo. Toma muchas entradas diferentes y realiza la tarea especificada, imprimiendo su entrada, de una manera sencilla.\n",
    "\n",
    "Ahora, vamos a escribir nuestra propia función. Veamos las siguientes reglas:"
   ]
  },
  {
   "cell_type": "markdown",
   "metadata": {
    "id": "XRcYvyrwwvRz"
   },
   "source": [
    "- Todas las funciones deben comenzar con la palabra clave \"def\".\n",
    "- Todas las funciones deben tener un nombre, seguido de paréntesis, seguido de dos puntos. Ej. def hola( ):\n",
    "- Los paréntesis pueden tener una variable que almacene sus argumentos (entradas)\n",
    "- Todas las funciones deben tener una declaración \"return\" que devolverá la salida. Piensa en una función como en una máquina. Cuando pones algo dentro, quieres que devuelva algo. Por lo tanto, esto es muy importante.\n"
   ]
  },
  {
   "cell_type": "markdown",
   "metadata": {
    "id": "BcamcqnmxNpJ"
   },
   "source": [
    "Intenta realizar una función desde 0..."
   ]
  },
  {
   "cell_type": "code",
   "execution_count": 2,
   "metadata": {
    "id": "rN0I3HofxNWV"
   },
   "outputs": [
    {
     "data": {
      "text/plain": [
       "25"
      ]
     },
     "execution_count": 2,
     "metadata": {},
     "output_type": "execute_result"
    }
   ],
   "source": [
    "# square function \n",
    "def square(x):\n",
    "    return x**2\n",
    "\n",
    "square(5)"
   ]
  },
  {
   "cell_type": "markdown",
   "metadata": {
    "id": "Gt_r1X98xyaO"
   },
   "source": [
    "Tarea: Escribe una función llamada mulpowply que tome tres entradas (x, y, z) y devuelva el valor de x multiplicado por y a la potencia z. Simbólicamente, debería devolver (xy)^z."
   ]
  },
  {
   "cell_type": "code",
   "execution_count": 3,
   "metadata": {
    "id": "zVx8M7Ntpq3a"
   },
   "outputs": [
    {
     "data": {
      "text/plain": [
       "216"
      ]
     },
     "execution_count": 3,
     "metadata": {},
     "output_type": "execute_result"
    }
   ],
   "source": [
    "# mulpowply function\n",
    "def mulplowly(x,y,z):\n",
    "    return (x*y)**z\n",
    "mulplowly(2,3,3)"
   ]
  },
  {
   "cell_type": "code",
   "execution_count": null,
   "metadata": {
    "id": "J8wLAUoXrHX8"
   },
   "outputs": [],
   "source": [
    "#Area de un triangulo dado s base y altura (bh/2)\n",
    "def areaTri(h,b):\n",
    "    \n"
   ]
  },
  {
   "cell_type": "markdown",
   "metadata": {
    "id": "bPxraS_byKVM"
   },
   "source": [
    "## Control"
   ]
  },
  {
   "cell_type": "markdown",
   "metadata": {
    "id": "aQYyfTXZyMdQ"
   },
   "source": [
    "A veces, queremos manipular el flujo de nuestro código. Por ejemplo, podemos querer que nuestro código tome decisiones por sí mismo o que se repita una cierta cantidad de veces. Al implementar estructuras de control, podemos evitar el código redundante y hacer que los procesos sean más eficientes."
   ]
  },
  {
   "cell_type": "markdown",
   "metadata": {
    "id": "zWehnGEkyajs"
   },
   "source": [
    "Utilizamos condicionales para ejecutar ciertas piezas de código si algo es cierto. Por ejemplo, ¡sólo debemos ir al supermercado si no tenemos mantequilla de cacahuete!\n",
    "\n",
    "Utilizamos comparadores para determinar si una expresión es verdadera o falsa. Hay seis comparadores que hay que conocer:\n",
    "\n",
    "1. Igual a: ==\n",
    "2. No es igual a: !=\n",
    "3. Mayor que: >\n",
    "4. Mayor o igual que: >=\n",
    "5. Menor que: <\n",
    "6. Menor o igual que: <="
   ]
  },
  {
   "cell_type": "code",
   "execution_count": null,
   "metadata": {
    "id": "KxPXR9Rlykh6"
   },
   "outputs": [],
   "source": [
    "# EJERCICIO 1\n",
    "# Determina si lo siguiente imprimirá verdadero o falso\n",
    "# Ejecuta el código para comprobar tus respuestas\n",
    "\n",
    "print(10 == 10)\n",
    "\n",
    "print(2016 < 2017)\n",
    "\n",
    "print(\"foo\" != \"bar\")\n",
    "\n",
    "print( (1+2+3+4+5) <=  (1*2*3))"
   ]
  },
  {
   "cell_type": "code",
   "execution_count": null,
   "metadata": {
    "id": "rfKdtskeyrGj"
   },
   "outputs": [],
   "source": [
    "# EJERCICIO 2\n",
    "\n",
    "# Escribe una expresión que se evalúe como True\n",
    "expression1 = # YOUR CODE HERE\n",
    "\n",
    "# Escribe una expresión que se evalúe como FALSE\n",
    "expression2 = # YOUR CODE HERE\n",
    "\n",
    "print(expression1)\n",
    "print(expression2)"
   ]
  },
  {
   "cell_type": "markdown",
   "metadata": {
    "id": "WA9PBxMZzG4p"
   },
   "source": [
    "Ahora que sabemos cómo comparar valores, podemos decirle a nuestra computadora que tome decisiones usando la sentencia if.\n",
    "\n",
    "Sentencias If\n",
    "Una sentencia if tiene la siguiente forma:"
   ]
  },
  {
   "cell_type": "code",
   "execution_count": null,
   "metadata": {
    "id": "6WvniNc-zKop"
   },
   "outputs": [],
   "source": [
    "# No correr! Se\n",
    "\n",
    "if (condition1):\n",
    "    # code to be executed if condition1 is true\n",
    "elif (condition2):\n",
    "    # code to be executed if condition2 is true\n",
    "else:\n",
    "    # code to be executed otherwise"
   ]
  },
  {
   "cell_type": "code",
   "execution_count": null,
   "metadata": {
    "id": "fdN9YkRqzRlT"
   },
   "outputs": [],
   "source": [
    "# We want to make a PB&J sandwich, but things keep going wrong!\n",
    "\n",
    "# Modify the variables below so that you go grocery shopping \n",
    "# with no mishaps and successfully purchase some peanut butter.\n",
    "\n",
    "# Run the code when you're done to see the results.\n",
    "\n",
    "print(\"Let's make a PB&J sandwich!\")\n",
    "peanut_butter = 10\n",
    "jelly = 100\n",
    "gas = 60\n",
    "flat_tire = True\n",
    "\n",
    "if (peanut_butter < 50):\n",
    "    print(\"Uh oh! We need more peanut butter. Must go grocery shopping...\")\n",
    "    if (gas < 75):\n",
    "        print(\"Oops! Your car is out of gas :(\")\n",
    "    elif (flat_tire):\n",
    "        print(\"Oh no! You have a flat tire :'(\")\n",
    "    else:\n",
    "        print(\"You made it to the grocery store and succesfully got peanut butter!\")\n",
    "        peanut_butter = # reset the value of peanut_butter so it is 100% full again\n",
    "else:\n",
    "    print(\"We have all the ingredients we need! Yummy yummy yay!\")"
   ]
  }
 ],
 "metadata": {
  "colab": {
   "collapsed_sections": [],
   "name": "Variables_y_tipos_de_datos.ipynb",
   "provenance": []
  },
  "kernelspec": {
   "display_name": "Python 3 (ipykernel)",
   "language": "python",
   "name": "python3"
  },
  "language_info": {
   "codemirror_mode": {
    "name": "ipython",
    "version": 3
   },
   "file_extension": ".py",
   "mimetype": "text/x-python",
   "name": "python",
   "nbconvert_exporter": "python",
   "pygments_lexer": "ipython3",
   "version": "3.9.7"
  }
 },
 "nbformat": 4,
 "nbformat_minor": 1
}
