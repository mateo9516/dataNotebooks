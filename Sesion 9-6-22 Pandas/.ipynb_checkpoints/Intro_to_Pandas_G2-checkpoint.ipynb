{
 "cells": [
  {
   "cell_type": "markdown",
   "metadata": {
    "id": "D-xGnIRT0u6z"
   },
   "source": [
    "## Introducción a Pandas"
   ]
  },
  {
   "cell_type": "markdown",
   "metadata": {
    "id": "guni9r6M030K"
   },
   "source": [
    "Pandas (nombre derivado de panel data, término usado para referirse a conjuntos de datos estructurados multidimensionales).\n",
    "\n",
    "Los principales objetos ofrecidos por pandas son el **dataframe**, estructura tabular bidimensional y la **serie**, ambas basadas en el array multidimensional de NumPy.\n",
    "\n",
    "Pandas, y en particular sus objetos Series y DataFrame, se basa en la estructura de matrices de NumPy y proporciona un acceso eficiente a este tipo de tareas de \"manipulación de datos\" que ocupan gran parte del tiempo de un científico de datos.\n",
    "\n",
    "Así como generalmente importamos NumPy bajo el alias np, importaremos Pandas bajo el alias pd. Como se ha comentado, pandas se basa en la funcionalidad de NumPy, por lo que numerosas funciones de esta última librería son perfectamente aplicables a las series y a los dataframes. Para poder probarlas, también debemos importar la función NumPy,"
   ]
  },
  {
   "cell_type": "code",
   "execution_count": 1,
   "metadata": {
    "id": "mpdh48d63Pmg"
   },
   "outputs": [],
   "source": [
    "import pandas as pd\n",
    "import numpy as np"
   ]
  },
  {
   "cell_type": "markdown",
   "metadata": {
    "id": "c0z1reNj2o4d"
   },
   "source": [
    "### Documentación y ayuda"
   ]
  },
  {
   "cell_type": "markdown",
   "metadata": {
    "id": "-qe3t41P2vg1"
   },
   "source": [
    "Jupyter ofrece la posibilidad de explorar rápidamente el contenido de un paquete (utilizando la función de completado), así como la documentación de varias funciones (utilizando el carácter ?)"
   ]
  },
  {
   "cell_type": "code",
   "execution_count": 2,
   "metadata": {
    "id": "T-Vkl3pK2QXp"
   },
   "outputs": [],
   "source": [
    "pd?"
   ]
  },
  {
   "cell_type": "code",
   "execution_count": 3,
   "metadata": {
    "id": "XRk0mgoWz4UB"
   },
   "outputs": [],
   "source": [
    "pd.read_csv?"
   ]
  },
  {
   "cell_type": "code",
   "execution_count": 4,
   "metadata": {
    "id": "FJI5Zby8z51y"
   },
   "outputs": [
    {
     "ename": "SyntaxError",
     "evalue": "invalid syntax (Temp/ipykernel_1836/3133375982.py, line 1)",
     "output_type": "error",
     "traceback": [
      "\u001b[1;36m  File \u001b[1;32m\"C:\\Users\\Mateo\\AppData\\Local\\Temp/ipykernel_1836/3133375982.py\"\u001b[1;36m, line \u001b[1;32m1\u001b[0m\n\u001b[1;33m    pd.\u001b[0m\n\u001b[1;37m       ^\u001b[0m\n\u001b[1;31mSyntaxError\u001b[0m\u001b[1;31m:\u001b[0m invalid syntax\n"
     ]
    }
   ],
   "source": [
    "pd."
   ]
  },
  {
   "cell_type": "code",
   "execution_count": null,
   "metadata": {
    "id": "t3CF0lYZz9pd"
   },
   "outputs": [],
   "source": [
    "pd.read_csv?"
   ]
  },
  {
   "cell_type": "markdown",
   "metadata": {
    "id": "KFYU6cAH3hx5"
   },
   "source": [
    "Puede encontrar documentación más detallada, junto con tutoriales y otros recursos, en http://pandas.pydata.org/."
   ]
  },
  {
   "cell_type": "markdown",
   "metadata": {
    "id": "iQ1kAbXf3lw-"
   },
   "source": [
    "### El objeto Series"
   ]
  },
  {
   "cell_type": "markdown",
   "metadata": {
    "id": "gwDkw7hm41Y1"
   },
   "source": [
    "A un nivel muy básico, los objetos Pandas pueden considerarse como versiones mejoradas de las matrices estructuradas de NumPy en las que las filas y columnas se identifican con etiquetas en lugar de simples índices enteros. Una Series es un array unidimensional de datos indexados. Se puede crear a partir de una lista o un array de la siguiente manera:"
   ]
  },
  {
   "cell_type": "code",
   "execution_count": null,
   "metadata": {
    "colab": {
     "base_uri": "https://localhost:8080/"
    },
    "id": "XLtKAK-Qz-lk",
    "outputId": "f2d4e314-5722-4155-ba37-23c12a63c95f"
   },
   "outputs": [],
   "source": [
    "data = pd.Series([0.25, 0.5, 0.75, 1.0])\n",
    "data"
   ]
  },
  {
   "cell_type": "markdown",
   "metadata": {
    "id": "apG9IS-15UOi"
   },
   "source": [
    "Como vemos en la salida, la Serie envuelve tanto una secuencia de valores como una secuencia de índices, a los que podemos acceder con los atributos **values** e **index**. Los valores son simplemente una matriz NumPy:"
   ]
  },
  {
   "cell_type": "code",
   "execution_count": null,
   "metadata": {
    "colab": {
     "base_uri": "https://localhost:8080/"
    },
    "id": "vmtN9EG25E3p",
    "outputId": "062d5f94-792c-431a-ac0a-e18cb1043ab4"
   },
   "outputs": [],
   "source": [
    "print(data.values)\n",
    "print(type(data.values))"
   ]
  },
  {
   "cell_type": "code",
   "execution_count": null,
   "metadata": {
    "colab": {
     "base_uri": "https://localhost:8080/"
    },
    "id": "5tKVVy3P5YYO",
    "outputId": "335c6fbe-bfcc-4247-ab87-60fdf780bdfe"
   },
   "outputs": [],
   "source": [
    "type(data.index"
   ]
  },
  {
   "cell_type": "markdown",
   "metadata": {
    "id": "8e5YfL6q6M8G"
   },
   "source": [
    "Al igual que con un array de NumPy, se puede acceder a los datos por el índice asociado mediante la conocida notación de corchetes de Python"
   ]
  },
  {
   "cell_type": "code",
   "execution_count": null,
   "metadata": {
    "colab": {
     "base_uri": "https://localhost:8080/"
    },
    "id": "G7tlct_O5qGD",
    "outputId": "210b44e0-4de5-41a7-e07c-673a8b66c8b0"
   },
   "outputs": [],
   "source": [
    "data[1]"
   ]
  },
  {
   "cell_type": "code",
   "execution_count": null,
   "metadata": {
    "colab": {
     "base_uri": "https://localhost:8080/"
    },
    "id": "go1oiECc6R5L",
    "outputId": "0597a068-55d8-4fcb-847d-d53af9bb7820"
   },
   "outputs": [],
   "source": [
    "data[1:3]"
   ]
  },
  {
   "cell_type": "markdown",
   "metadata": {
    "id": "AtEBmm_L6zu9"
   },
   "source": [
    "#### Diferencias con el array de numpy"
   ]
  },
  {
   "cell_type": "markdown",
   "metadata": {
    "id": "91UqYG4e68F0"
   },
   "source": [
    "La diferencia esencial es la presencia del índice: mientras que la matriz Numpy tiene un índice entero definido implícitamente que se utiliza para acceder a los valores, la serie Pandas tiene un índice definido explícitamente asociado a los valores.\n",
    "\n",
    "Esta definición explícita del índice proporciona al objeto Series capacidades adicionales. Por ejemplo, no es necesario que el índice sea un número entero, sino que puede consistir en valores de cualquier tipo deseado. Por ejemplo, si lo deseamos, podemos utilizar cadenas como índice:"
   ]
  },
  {
   "cell_type": "code",
   "execution_count": null,
   "metadata": {
    "colab": {
     "base_uri": "https://localhost:8080/"
    },
    "id": "QhcWGXUK6fqM",
    "outputId": "04cdaf0b-1ec0-4cf1-a54c-14981e56ec8f"
   },
   "outputs": [],
   "source": [
    "data = pd.Series([0.25, 0.5, 0.75, 1.0],\n",
    "                 index=['a', 'b', 'c', 'd'])\n",
    "data"
   ]
  },
  {
   "cell_type": "markdown",
   "metadata": {
    "id": "1pzNvO0N8AmK"
   },
   "source": [
    "Y para acceder..."
   ]
  },
  {
   "cell_type": "code",
   "execution_count": null,
   "metadata": {
    "colab": {
     "base_uri": "https://localhost:8080/"
    },
    "id": "Yvsm04VP7_Cz",
    "outputId": "d3b136c8-9205-4fd5-8b15-162e2f6ab1e7"
   },
   "outputs": [],
   "source": [
    "data['b']"
   ]
  },
  {
   "cell_type": "markdown",
   "metadata": {
    "id": "ppFZprqF8KKZ"
   },
   "source": [
    "Incluso podemos utilizar índices no contiguos o no secuenciales:"
   ]
  },
  {
   "cell_type": "code",
   "execution_count": null,
   "metadata": {
    "colab": {
     "base_uri": "https://localhost:8080/"
    },
    "id": "iKkaexTn8FJ_",
    "outputId": "74c8d9b0-859d-45b7-c105-4b99e12b876b"
   },
   "outputs": [],
   "source": [
    "data = pd.Series([0.25, 0.5, 0.75, 1.0],\n",
    "                 index=[2, 5, 3, 7])\n",
    "data"
   ]
  },
  {
   "cell_type": "code",
   "execution_count": null,
   "metadata": {
    "colab": {
     "base_uri": "https://localhost:8080/"
    },
    "id": "1jBM-CNr8Mfe",
    "outputId": "56360de1-ba4d-4563-e8da-35732d8b5edd"
   },
   "outputs": [],
   "source": [
    "data[5]"
   ]
  },
  {
   "cell_type": "markdown",
   "metadata": {
    "id": "NZ_U5Zyl8y9V"
   },
   "source": [
    "#### De diccionarios a Series"
   ]
  },
  {
   "cell_type": "markdown",
   "metadata": {
    "id": "erTv5iw483-y"
   },
   "source": [
    "Se puede pensar en una Serie de Pandas como una especialización de un diccionario de Python. Un diccionario es una estructura que asigna claves arbitrarias a un conjunto de valores arbitrarios, y una serie es una estructura que asigna claves tipificadas a un conjunto de valores tipificados. "
   ]
  },
  {
   "cell_type": "code",
   "execution_count": null,
   "metadata": {
    "colab": {
     "base_uri": "https://localhost:8080/"
    },
    "id": "Gy1FTcsa8Pls",
    "outputId": "e9c7bb3e-bdc3-46f5-e552-e023bc7a5249"
   },
   "outputs": [],
   "source": [
    "population_dict = {'California': 38332521,\n",
    "                   'Texas': 26448193,\n",
    "                   'New York': 19651127,\n",
    "                   'Florida': 19552860,\n",
    "                   'Illinois': 12882135}\n",
    "population = pd.Series(population_dict)\n",
    "population"
   ]
  },
  {
   "cell_type": "code",
   "execution_count": null,
   "metadata": {
    "colab": {
     "base_uri": "https://localhost:8080/"
    },
    "id": "K1i9_ATt878t",
    "outputId": "35869c5b-4bec-4170-95f9-8ca840e8a5c1"
   },
   "outputs": [],
   "source": [
    "population['California']"
   ]
  },
  {
   "cell_type": "markdown",
   "metadata": {
    "id": "2JzlOfE29F9l"
   },
   "source": [
    "Sin embargo, a diferencia de un diccionario, la Serie también admite operaciones de tipo matriz, como el 'slicing':"
   ]
  },
  {
   "cell_type": "code",
   "execution_count": null,
   "metadata": {
    "colab": {
     "base_uri": "https://localhost:8080/"
    },
    "id": "Z5mZGoY_9BZD",
    "outputId": "ccdb9306-fc5e-4a90-abd0-4aa6e45d0585"
   },
   "outputs": [],
   "source": [
    "population['California':'Florida']"
   ]
  },
  {
   "cell_type": "code",
   "execution_count": null,
   "metadata": {
    "id": "k_gxR2w49K6H"
   },
   "outputs": [],
   "source": []
  },
  {
   "cell_type": "markdown",
   "metadata": {
    "id": "3P_ZyR9h9twM"
   },
   "source": [
    "### El objeto Pandas DataFrame"
   ]
  },
  {
   "cell_type": "markdown",
   "metadata": {
    "id": "sYo6hpBl-Hm2"
   },
   "source": [
    "Al igual que el objeto Series discutido en la sección anterior, el DataFrame puede pensarse como una generalización de un array NumPy, o como una particularización de un diccionario Python.\n",
    "\n",
    "se puede pensar en un DataFrame como una secuencia de objetos Series alineados. Por \"alineados\" entendemos que comparten el mismo índice."
   ]
  },
  {
   "cell_type": "markdown",
   "metadata": {
    "id": "1upQvsFd-jUv"
   },
   "source": [
    "<img src=\"https://storage.googleapis.com/lds-media/images/series-and-dataframe.width-1200.png\" alt=\"drawing\" width=\"500\"/>"
   ]
  },
  {
   "cell_type": "code",
   "execution_count": null,
   "metadata": {
    "colab": {
     "base_uri": "https://localhost:8080/"
    },
    "id": "PewDH9y19vhM",
    "outputId": "0501ebb6-056d-4a19-8a7a-c9db586b0269"
   },
   "outputs": [],
   "source": [
    "area_dict = {'California': 423967, 'Texas': 695662, 'New York': 141297,\n",
    "             'Florida': 170312, 'Illinois': 149995}\n",
    "area = pd.Series(area_dict)\n",
    "area"
   ]
  },
  {
   "cell_type": "markdown",
   "metadata": {
    "id": "TLCaqITd_V1n"
   },
   "source": [
    "Ahora que tenemos esto junto con las series de población de antes, podemos utilizar un diccionario para construir un único objeto bidimensional que contenga esta información:"
   ]
  },
  {
   "cell_type": "code",
   "execution_count": null,
   "metadata": {
    "colab": {
     "base_uri": "https://localhost:8080/"
    },
    "id": "qLWF5meD_cDI",
    "outputId": "067103f5-2047-46ed-907a-0aa7e142bcd7"
   },
   "outputs": [],
   "source": [
    "print(population)"
   ]
  },
  {
   "cell_type": "code",
   "execution_count": null,
   "metadata": {
    "colab": {
     "base_uri": "https://localhost:8080/"
    },
    "id": "Hzkmdcyq_uwP",
    "outputId": "ac8b3bf4-bb38-4200-f9e0-37e2651015b4"
   },
   "outputs": [],
   "source": [
    "print(area)"
   ]
  },
  {
   "cell_type": "code",
   "execution_count": null,
   "metadata": {
    "colab": {
     "base_uri": "https://localhost:8080/",
     "height": 206
    },
    "id": "1taNaHVr_C9q",
    "outputId": "e6521c68-b684-4f82-80a9-993799350164"
   },
   "outputs": [],
   "source": [
    "states = pd.DataFrame({'population': population,\n",
    "                       'area': area})\n",
    "states"
   ]
  },
  {
   "cell_type": "markdown",
   "metadata": {
    "id": "9BN_kVLi_414"
   },
   "source": [
    "Al igual que el objeto Series, el DataFrame tiene un atributo de índice que da acceso a las etiquetas de índice:"
   ]
  },
  {
   "cell_type": "code",
   "execution_count": null,
   "metadata": {
    "colab": {
     "base_uri": "https://localhost:8080/"
    },
    "id": "9bsd1JTf_YRj",
    "outputId": "ee812439-e094-4d73-96f8-c68073f6e4b0"
   },
   "outputs": [],
   "source": [
    "states.index"
   ]
  },
  {
   "cell_type": "markdown",
   "metadata": {
    "id": "w2HCY_iwAA0f"
   },
   "source": [
    "Además, el DataFrame tiene un atributo columns, que es un objeto Index que contiene las etiquetas de las columnas:"
   ]
  },
  {
   "cell_type": "code",
   "execution_count": null,
   "metadata": {
    "colab": {
     "base_uri": "https://localhost:8080/"
    },
    "id": "x6biha7M_7B9",
    "outputId": "598fda58-1ae9-4016-e911-ffe163d0f786"
   },
   "outputs": [],
   "source": [
    "states.columns"
   ]
  },
  {
   "cell_type": "markdown",
   "metadata": {
    "id": "TkAezr1YAMWp"
   },
   "source": [
    "Por lo tanto, el DataFrame puede pensarse como una generalización de un array NumPy bidimensional, donde tanto las filas como las columnas tienen un índice generalizado para acceder a los datos."
   ]
  },
  {
   "cell_type": "markdown",
   "metadata": {
    "id": "nzPanXLHAfqe"
   },
   "source": [
    "El DataFrame asigna un nombre de columna a una Serie. Por ejemplo, al pedir el atributo \"area\" se devuelve el objeto Serie que contiene las áreas que vimos anteriormente:"
   ]
  },
  {
   "cell_type": "code",
   "execution_count": null,
   "metadata": {
    "colab": {
     "base_uri": "https://localhost:8080/"
    },
    "id": "NhKEXj9LADL4",
    "outputId": "6c9fafdb-07e0-4746-c639-b35364023214"
   },
   "outputs": [],
   "source": [
    "states['area']"
   ]
  },
  {
   "cell_type": "markdown",
   "metadata": {
    "id": "WtglqnaOBUo-"
   },
   "source": [
    "#### Formas de construir DataFrames"
   ]
  },
  {
   "cell_type": "code",
   "execution_count": null,
   "metadata": {
    "colab": {
     "base_uri": "https://localhost:8080/",
     "height": 143
    },
    "id": "Tu9Ub-YxAq6W",
    "outputId": "18a614cf-eff6-4b1d-bc26-a69726f9fc8a"
   },
   "outputs": [],
   "source": [
    "pd.DataFrame(np.random.rand(3, 2),\n",
    "             columns=['foo', 'bar'],\n",
    "             index=['a', 'b', 'c'])"
   ]
  },
  {
   "cell_type": "code",
   "execution_count": null,
   "metadata": {
    "colab": {
     "base_uri": "https://localhost:8080/",
     "height": 206
    },
    "id": "x2h0zsz6BXYQ",
    "outputId": "ed3adf45-e06e-4966-c74d-8e95c8a21f3d"
   },
   "outputs": [],
   "source": [
    "pd.DataFrame(population, columns=['population'])"
   ]
  },
  {
   "cell_type": "code",
   "execution_count": null,
   "metadata": {
    "colab": {
     "base_uri": "https://localhost:8080/",
     "height": 112
    },
    "id": "ys-ncXKQBeI1",
    "outputId": "7b711341-9150-4d3d-92aa-3ab755b87614"
   },
   "outputs": [],
   "source": [
    "pd.DataFrame([{'a': 1, 'b': 2}, {'b': 3, 'c': 4}])"
   ]
  },
  {
   "cell_type": "code",
   "execution_count": null,
   "metadata": {
    "id": "qP75UX0tBi8Z"
   },
   "outputs": [],
   "source": []
  },
  {
   "cell_type": "markdown",
   "metadata": {
    "id": "wt3jj820ILJw"
   },
   "source": [
    "### Indexers: loc, iloc"
   ]
  },
  {
   "cell_type": "markdown",
   "metadata": {
    "id": "emjgsZGiIWtN"
   },
   "source": [
    "Estas convenciones de 'slicing' e indexación pueden ser una fuente de confusión. Por ejemplo, si tu Serie tiene un índice entero explícito, una operación de indexación como data[1] utilizará los índices explícitos, mientras que una operación de corte como data[1:3] utilizará el índice implícito de estilo Python."
   ]
  },
  {
   "cell_type": "code",
   "execution_count": null,
   "metadata": {
    "colab": {
     "base_uri": "https://localhost:8080/"
    },
    "id": "8U7MeOuhIMPk",
    "outputId": "7658b5bd-3900-4840-c65d-2f819105dbd8"
   },
   "outputs": [],
   "source": [
    "data = pd.Series(['a', 'b', 'c'], index=[1, 3, 5])\n",
    "data"
   ]
  },
  {
   "cell_type": "code",
   "execution_count": null,
   "metadata": {
    "colab": {
     "base_uri": "https://localhost:8080/",
     "height": 35
    },
    "id": "QtjkGWn5IZvD",
    "outputId": "e6be9e03-4f1d-4b9e-ba68-58f9dd8c373b"
   },
   "outputs": [],
   "source": [
    "# explicit index when indexing\n",
    "data[1]"
   ]
  },
  {
   "cell_type": "code",
   "execution_count": null,
   "metadata": {
    "colab": {
     "base_uri": "https://localhost:8080/"
    },
    "id": "zBEBtXZeIbYN",
    "outputId": "1b02146e-7168-46b6-aedb-799287c8c25b"
   },
   "outputs": [],
   "source": [
    "# implicit index when slicing\n",
    "data[1:3]"
   ]
  },
  {
   "cell_type": "markdown",
   "metadata": {
    "id": "iLO_0WYBImqi"
   },
   "source": [
    "Debido a esta potencial confusión en el caso de los índices enteros, Pandas proporciona algunos atributos especiales de indexadores que exponen explícitamente ciertos esquemas de indexación. No se trata de métodos funcionales, sino de atributos que exponen una interfaz de 'slicing' particular a los datos de la Serie."
   ]
  },
  {
   "cell_type": "markdown",
   "metadata": {
    "id": "dhyuh4FvI-Yy"
   },
   "source": [
    "En primer lugar, el atributo loc permite la indexación y el corte que siempre hace referencia al índice explícito:"
   ]
  },
  {
   "cell_type": "code",
   "execution_count": null,
   "metadata": {
    "colab": {
     "base_uri": "https://localhost:8080/",
     "height": 35
    },
    "id": "OEp3GDJXIc04",
    "outputId": "3f5f04b0-3b42-40fe-9e1e-85963659ccdc"
   },
   "outputs": [],
   "source": [
    "data.loc[1]"
   ]
  },
  {
   "cell_type": "code",
   "execution_count": null,
   "metadata": {
    "colab": {
     "base_uri": "https://localhost:8080/"
    },
    "id": "nIeOKk-IJCqL",
    "outputId": "12458fa7-0db3-494e-c5d3-8531699b6007"
   },
   "outputs": [],
   "source": [
    "data.loc[1:3]"
   ]
  },
  {
   "cell_type": "markdown",
   "metadata": {
    "id": "fjxVFlruJKN7"
   },
   "source": [
    "El atributo iloc permite la indexación y el corte que siempre hace referencia al índice implícito de estilo Python:"
   ]
  },
  {
   "cell_type": "code",
   "execution_count": null,
   "metadata": {
    "colab": {
     "base_uri": "https://localhost:8080/",
     "height": 35
    },
    "id": "GGBZf3nEJENS",
    "outputId": "027a3b7f-920f-46a8-a79d-5c8d6721ce5f"
   },
   "outputs": [],
   "source": [
    "data.iloc[1]"
   ]
  },
  {
   "cell_type": "code",
   "execution_count": null,
   "metadata": {
    "colab": {
     "base_uri": "https://localhost:8080/"
    },
    "id": "NxVcugFcJMbv",
    "outputId": "25435c16-5540-4374-dd34-460f7c4d5cee"
   },
   "outputs": [],
   "source": [
    "data.iloc[1:3]"
   ]
  },
  {
   "cell_type": "markdown",
   "metadata": {
    "id": "h2Q9dnBmLs76"
   },
   "source": [
    "#### En DataFrames"
   ]
  },
  {
   "cell_type": "code",
   "execution_count": null,
   "metadata": {
    "colab": {
     "base_uri": "https://localhost:8080/",
     "height": 206
    },
    "id": "KaxDdYYiJN-F",
    "outputId": "65c52b3e-7635-4302-d43f-4b2869a4178e"
   },
   "outputs": [],
   "source": [
    "area = pd.Series({'California': 423967, 'Texas': 695662,\n",
    "                  'New York': 141297, 'Florida': 170312,\n",
    "                  'Illinois': 149995})\n",
    "pop = pd.Series({'California': 38332521, 'Texas': 26448193,\n",
    "                 'New York': 19651127, 'Florida': 19552860,\n",
    "                 'Illinois': 12882135})\n",
    "data = pd.DataFrame({'area':area, 'pop':pop})\n",
    "data"
   ]
  },
  {
   "cell_type": "code",
   "execution_count": null,
   "metadata": {
    "colab": {
     "base_uri": "https://localhost:8080/"
    },
    "id": "1eW6-IY_L8Qt",
    "outputId": "90cd9618-6cb6-4ae5-a388-775e3da999dd"
   },
   "outputs": [],
   "source": [
    "#Acceder a Columnas\n",
    "data['area']"
   ]
  },
  {
   "cell_type": "code",
   "execution_count": null,
   "metadata": {
    "colab": {
     "base_uri": "https://localhost:8080/"
    },
    "id": "RWkluv6wMEXN",
    "outputId": "675e2ef2-7fa1-4faa-8ead-ba35fc04d74f"
   },
   "outputs": [],
   "source": [
    "data.area"
   ]
  },
  {
   "cell_type": "code",
   "execution_count": null,
   "metadata": {
    "colab": {
     "base_uri": "https://localhost:8080/",
     "height": 206
    },
    "id": "cdr5T169MGZB",
    "outputId": "42e7eae6-f277-40cc-b5ed-82dfb8a7191e"
   },
   "outputs": [],
   "source": [
    "#Crear una nueva columna\n",
    "data['density'] = data['pop'] / data['area']\n",
    "data"
   ]
  },
  {
   "cell_type": "code",
   "execution_count": null,
   "metadata": {
    "colab": {
     "base_uri": "https://localhost:8080/",
     "height": 143
    },
    "id": "WrDobu-_MMiK",
    "outputId": "07d64d72-ba28-4353-94ee-77ab55be29d7"
   },
   "outputs": [],
   "source": [
    "#usando iloc\n",
    "data.iloc[:3, :2]"
   ]
  },
  {
   "cell_type": "code",
   "execution_count": null,
   "metadata": {
    "colab": {
     "base_uri": "https://localhost:8080/",
     "height": 206
    },
    "id": "kNmm5IMmMZna",
    "outputId": "dd790baf-8a7e-4ae9-ffc2-141d78de89fe"
   },
   "outputs": [],
   "source": [
    "#usando loc\n",
    "data.loc[:'Illinois', :'pop']"
   ]
  },
  {
   "cell_type": "markdown",
   "metadata": {
    "id": "XZ9A25ExMsTh"
   },
   "source": [
    "Dentro de estos indexadores se puede utilizar cualquiera de los patrones de acceso a datos conocidos del estilo de NumPy. Por ejemplo, en el indexador loc podemos combinar el enmascaramiento y la indexación como en lo siguiente:"
   ]
  },
  {
   "cell_type": "code",
   "execution_count": null,
   "metadata": {
    "colab": {
     "base_uri": "https://localhost:8080/",
     "height": 112
    },
    "id": "7MRSRS0qMeFu",
    "outputId": "42bd7a99-712a-4f89-9c14-93c0b31a697a"
   },
   "outputs": [],
   "source": [
    "data.loc[data.density > 100, ['pop', 'density']]"
   ]
  },
  {
   "cell_type": "markdown",
   "metadata": {
    "id": "EtdZTUEeM9BT"
   },
   "source": [
    "Cualquiera de estas convenciones de indexación también se puede utilizar para establecer o modificar valores; esto se hace de la manera estándar a la que puede estar acostumbrado de trabajar con NumPy"
   ]
  },
  {
   "cell_type": "code",
   "execution_count": null,
   "metadata": {
    "colab": {
     "base_uri": "https://localhost:8080/",
     "height": 206
    },
    "id": "lNwbtcDZM1OK",
    "outputId": "7508b673-ac01-4379-f68f-a118b365e44f"
   },
   "outputs": [],
   "source": [
    "data.iloc[0, 2] = 90\n",
    "data"
   ]
  },
  {
   "cell_type": "code",
   "execution_count": null,
   "metadata": {
    "colab": {
     "base_uri": "https://localhost:8080/",
     "height": 112
    },
    "id": "nKmR2v7PNJ10",
    "outputId": "9fefbb0b-a768-47db-e454-20b18f1ae150"
   },
   "outputs": [],
   "source": [
    "data[data.density > 100]"
   ]
  },
  {
   "cell_type": "code",
   "execution_count": null,
   "metadata": {
    "id": "MUfF9Gq-N30z"
   },
   "outputs": [],
   "source": [
    "data[data['density'] > 5]"
   ]
  },
  {
   "cell_type": "markdown",
   "metadata": {
    "id": "ckmT-0MsbzUj"
   },
   "source": [
    "### Droppigng"
   ]
  },
  {
   "cell_type": "code",
   "execution_count": null,
   "metadata": {
    "colab": {
     "base_uri": "https://localhost:8080/"
    },
    "id": "SO2l2DXwcBk0",
    "outputId": "0f176a67-ab18-47e6-90ef-ddd6f43afc3a"
   },
   "outputs": [],
   "source": [
    "obj = pd.Series(np.arange(5.), index=['a', 'b', 'c', 'd', 'e'])\n",
    "obj"
   ]
  },
  {
   "cell_type": "code",
   "execution_count": null,
   "metadata": {
    "colab": {
     "base_uri": "https://localhost:8080/"
    },
    "id": "hAoy_aCfcDEy",
    "outputId": "ce2911ec-a752-497a-e67c-3d1cdbd23636"
   },
   "outputs": [],
   "source": [
    "new_obj = obj.drop('c')\n",
    "new_obj"
   ]
  },
  {
   "cell_type": "code",
   "execution_count": null,
   "metadata": {
    "colab": {
     "base_uri": "https://localhost:8080/"
    },
    "id": "7PH_lM2Nda_y",
    "outputId": "c7586e47-da96-4642-c058-303a686f48d0"
   },
   "outputs": [],
   "source": [
    "#tambien varios\n",
    "obj.drop(['d', 'c'])"
   ]
  },
  {
   "cell_type": "code",
   "execution_count": null,
   "metadata": {
    "id": "P-SGrHGZfmrI"
   },
   "outputs": [],
   "source": [
    "data = pd.DataFrame(np.arange(16).reshape((4, 4)),index=['Ohio', 'Colorado', 'Utah', 'New York'],columns=['one', 'two', 'three', 'four'])"
   ]
  },
  {
   "cell_type": "code",
   "execution_count": null,
   "metadata": {
    "colab": {
     "base_uri": "https://localhost:8080/",
     "height": 175
    },
    "id": "oOhKJkHSf8p5",
    "outputId": "fe79a8e6-6d1f-4f07-c349-673bf2c3b1e8"
   },
   "outputs": [],
   "source": [
    "data"
   ]
  },
  {
   "cell_type": "code",
   "execution_count": null,
   "metadata": {
    "colab": {
     "base_uri": "https://localhost:8080/",
     "height": 112
    },
    "id": "SGlxSlj5fqrh",
    "outputId": "7cf3c1ad-e268-434f-a422-e2b2dfee06a3"
   },
   "outputs": [],
   "source": [
    "#index\n",
    "data.drop(['Colorado', 'Ohio'])"
   ]
  },
  {
   "cell_type": "code",
   "execution_count": null,
   "metadata": {
    "colab": {
     "base_uri": "https://localhost:8080/",
     "height": 175
    },
    "id": "N7B6NGiVfqhU",
    "outputId": "e0529159-a38e-49fd-e3d2-ea220e2c41b6"
   },
   "outputs": [],
   "source": [
    "#columns\n",
    "data.drop('two', axis=1)"
   ]
  },
  {
   "cell_type": "markdown",
   "metadata": {
    "id": "hekZiZgahICL"
   },
   "source": [
    "Muchas funciones, como drop, que modifican el tamaño o la forma de una Serie o DataFrame\n",
    "pueden manipular un objeto en su lugar sin devolver un nuevo objeto:"
   ]
  },
  {
   "cell_type": "code",
   "execution_count": null,
   "metadata": {
    "id": "JcnHMf4Rg7HD"
   },
   "outputs": [],
   "source": [
    "obj.drop('c', inplace=True)"
   ]
  },
  {
   "cell_type": "markdown",
   "metadata": {
    "id": "-XdavZaejLBa"
   },
   "source": [
    "### Renaming"
   ]
  },
  {
   "cell_type": "code",
   "execution_count": null,
   "metadata": {
    "colab": {
     "base_uri": "https://localhost:8080/",
     "height": 175
    },
    "id": "X-XyVzgvj78Z",
    "outputId": "3a6370f6-8bd2-4a8d-e33f-e6f51085cda1"
   },
   "outputs": [],
   "source": [
    "data.rename(index={'OHIO': 'INDIANA'},columns={'three': 'peekaboo'})"
   ]
  },
  {
   "cell_type": "code",
   "execution_count": null,
   "metadata": {
    "colab": {
     "base_uri": "https://localhost:8080/",
     "height": 175
    },
    "id": "CTZ1nn0DkYlU",
    "outputId": "32129986-79f7-41e0-e188-b2919a03c2d9"
   },
   "outputs": [],
   "source": [
    "data.rename(index=str.title, columns=str.upper)"
   ]
  },
  {
   "cell_type": "code",
   "execution_count": null,
   "metadata": {
    "colab": {
     "base_uri": "https://localhost:8080/",
     "height": 175
    },
    "id": "mryHJX3cj-td",
    "outputId": "1d3a9ae4-ad12-4d52-d6e8-1cb347a87433"
   },
   "outputs": [],
   "source": [
    "data.rename(index={'Ohio': 'INDIANA'})"
   ]
  },
  {
   "cell_type": "markdown",
   "metadata": {
    "id": "Up-4D7-ilQ-z"
   },
   "source": [
    "### Usar funciones para transformar"
   ]
  },
  {
   "cell_type": "code",
   "execution_count": null,
   "metadata": {
    "id": "kVwZ32d8lVl-"
   },
   "outputs": [],
   "source": [
    "data = pd.DataFrame({'food': ['bacon', 'pulled pork', 'bacon',\n",
    "....: 'Pastrami', 'corned beef', 'Bacon',\n",
    "....: 'pastrami', 'honey ham', 'nova lox'],\n",
    "....: 'ounces': [4, 3, 12, 6, 7.5, 8, 3, 5, 6]})"
   ]
  },
  {
   "cell_type": "code",
   "execution_count": null,
   "metadata": {
    "colab": {
     "base_uri": "https://localhost:8080/",
     "height": 332
    },
    "id": "2l_Lm5mskV2T",
    "outputId": "390e4358-1e12-4054-92f1-08cce97e315b"
   },
   "outputs": [],
   "source": [
    "data"
   ]
  },
  {
   "cell_type": "code",
   "execution_count": null,
   "metadata": {
    "id": "uQwEtM5vlkBh"
   },
   "outputs": [],
   "source": [
    "data[\"food\"]=data[\"food\"].str.lower()"
   ]
  },
  {
   "cell_type": "code",
   "execution_count": null,
   "metadata": {
    "colab": {
     "base_uri": "https://localhost:8080/",
     "height": 332
    },
    "id": "I9csUS9AlvrH",
    "outputId": "49e80b34-c1c3-4ea9-a2c1-07dd29a6f699"
   },
   "outputs": [],
   "source": [
    "data"
   ]
  },
  {
   "cell_type": "code",
   "execution_count": null,
   "metadata": {
    "id": "6OhhK0cbnRoH"
   },
   "outputs": [],
   "source": [
    "meat_to_animal = {\n",
    "'bacon': 'pig',\n",
    "'pulled pork': 'pig',\n",
    "'pastrami': 'cow',\n",
    "'corned beef': 'cow',\n",
    "'honey ham': 'pig',\n",
    "'nova lox': 'salmon'\n",
    "}"
   ]
  },
  {
   "cell_type": "markdown",
   "metadata": {
    "id": "FlhL6mP_oCUW"
   },
   "source": [
    "El método map de una Serie acepta una función o un objeto tipo dict que contiene un mapeo,"
   ]
  },
  {
   "cell_type": "code",
   "execution_count": null,
   "metadata": {
    "id": "dGOmClqXnS4V"
   },
   "outputs": [],
   "source": [
    "data[\"animal\"]=data[\"food\"].map(meat_to_animal)"
   ]
  },
  {
   "cell_type": "code",
   "execution_count": null,
   "metadata": {
    "colab": {
     "base_uri": "https://localhost:8080/",
     "height": 332
    },
    "id": "KVGaShSgnoX-",
    "outputId": "7d46ff4c-2317-4e59-f38b-8e0f56a139ca"
   },
   "outputs": [],
   "source": [
    "data"
   ]
  },
  {
   "cell_type": "markdown",
   "metadata": {
    "id": "vXe88Wl5ociO"
   },
   "source": [
    "### Los duplicados...."
   ]
  },
  {
   "cell_type": "code",
   "execution_count": null,
   "metadata": {
    "id": "zt-Huvd5oewI"
   },
   "outputs": [],
   "source": [
    "data = pd.DataFrame({'k1': ['one', 'two'] * 3 + ['two'],\n",
    "....: 'k2': [1, 1, 2, 3, 3, 4, 4]})"
   ]
  },
  {
   "cell_type": "code",
   "execution_count": null,
   "metadata": {
    "colab": {
     "base_uri": "https://localhost:8080/",
     "height": 269
    },
    "id": "ze-knF6Monwk",
    "outputId": "6767b9dd-5efc-463f-df6f-48811a8bef2d"
   },
   "outputs": [],
   "source": [
    "data"
   ]
  },
  {
   "cell_type": "code",
   "execution_count": null,
   "metadata": {
    "colab": {
     "base_uri": "https://localhost:8080/"
    },
    "id": "BHYL3K-9ofdt",
    "outputId": "89559d02-30aa-425d-e7f1-5567ba73401a"
   },
   "outputs": [],
   "source": [
    "data.duplicated()"
   ]
  },
  {
   "cell_type": "code",
   "execution_count": null,
   "metadata": {
    "colab": {
     "base_uri": "https://localhost:8080/",
     "height": 238
    },
    "id": "0Qa4Mrqyol_9",
    "outputId": "04af4d07-255d-498a-e173-9b691785c4a2"
   },
   "outputs": [],
   "source": [
    "data.drop_duplicates()"
   ]
  },
  {
   "cell_type": "markdown",
   "metadata": {
    "id": "-jzxBS9xcGCL"
   },
   "source": [
    "### Combinaciones"
   ]
  },
  {
   "cell_type": "markdown",
   "metadata": {
    "id": "_wfLsEOgcGCL"
   },
   "source": [
    "Ahora, parte principal de la manipulación de los dataframes es la creacion o concatenación de columnas adicionales o la copias sobre las mismas. Esto, porque siempre estaremos se estará añadiendo información adicional que ayude sobre nuestros analísis."
   ]
  },
  {
   "cell_type": "code",
   "execution_count": null,
   "metadata": {
    "id": "60Nd5SfjcGCL",
    "outputId": "2bed37dc-1790-4674-e43a-780cbf70a95b"
   },
   "outputs": [],
   "source": [
    "df1 = pd.DataFrame({\n",
    "'column_a':[1,2,3,4],\n",
    "'column_b':['a','b','c','d'],\n",
    "'column_c':[True,True,False,True]\n",
    "})\n",
    "\n",
    "df1"
   ]
  },
  {
   "cell_type": "code",
   "execution_count": null,
   "metadata": {
    "id": "gs71W4rUcGCL",
    "outputId": "b37c3677-4886-4e03-93cf-f0f4bb23077c"
   },
   "outputs": [],
   "source": [
    "df2 = pd.DataFrame({\n",
    "'column_a':[1,2,9,10],\n",
    "'column_b':['a','k','l','m'],\n",
    "'column_c':[False,False,False,True]\n",
    "})\n",
    "\n",
    "df2"
   ]
  },
  {
   "cell_type": "markdown",
   "metadata": {
    "id": "x3KIcJrHcGCL"
   },
   "source": [
    "Una forma de combinar o concatenar DataFrames es la función concat(). Puede utilizarse para concatenar DataFrames a lo largo de filas o columnas cambiando el parámetro del eje. El valor por defecto del parámetro del eje es 0, que indica la combinación a lo largo de las filas."
   ]
  },
  {
   "cell_type": "code",
   "execution_count": null,
   "metadata": {
    "id": "5D06YDpNcGCL",
    "outputId": "296cda23-5cfe-4f92-cac2-6cad66cc3f6a"
   },
   "outputs": [],
   "source": [
    "df = pd.concat([df1,df2])\n",
    "df"
   ]
  },
  {
   "cell_type": "code",
   "execution_count": null,
   "metadata": {
    "id": "2cVQTh7LcGCL",
    "outputId": "6c1d1500-d1c3-4938-f98f-8d8514c983c3"
   },
   "outputs": [],
   "source": [
    "df = pd.concat([df1,df2], axis=1)\n",
    "df"
   ]
  },
  {
   "cell_type": "markdown",
   "metadata": {
    "id": "zQLgBjnacGCL"
   },
   "source": [
    "Como pueden ver en la primera figura de arriba, los índices de los DataFrames individuales se mantienen. Para cambiarlo y volver a indexar el DataFrame combinado, el parámetro ignore_index se establece como True."
   ]
  },
  {
   "cell_type": "code",
   "execution_count": null,
   "metadata": {
    "id": "vScE3qOKcGCM",
    "outputId": "87df31e9-5ab0-41e5-fd37-9a8534dc56f2"
   },
   "outputs": [],
   "source": [
    "df = pd.concat([df1,df2], ignore_index=True)\n",
    "df"
   ]
  },
  {
   "cell_type": "markdown",
   "metadata": {
    "id": "ATEc90-kcGCM"
   },
   "source": [
    "El parámetro join de la función concat() determina cómo combinar los DataFrames. El valor por defecto es 'outer' y devuelve todos los índices de ambos DataFrames. Si se selecciona la opción 'inner', sólo se devuelven las filas con índices compartidos. A cotinuación diferencia entre 'inner' y 'outer'. "
   ]
  },
  {
   "cell_type": "code",
   "execution_count": null,
   "metadata": {
    "id": "bl7XmXctcGCM",
    "outputId": "0f8c1433-1663-44e6-fa71-840a135695ea"
   },
   "outputs": [],
   "source": [
    "df2 = pd.DataFrame({\n",
    "'column_b':['y','q','n','a','k','l','m'],\n",
    "'column_c':[False,False,False,False,False,False,True]\n",
    "})\n",
    "df2 = df2.drop([0,1,2])\n",
    "df2"
   ]
  },
  {
   "cell_type": "code",
   "execution_count": null,
   "metadata": {
    "id": "9CX9g8OmcGCM",
    "outputId": "1351f2f5-89d0-446a-e8b5-09fbfffcdee3"
   },
   "outputs": [],
   "source": [
    "df = pd.concat([df1,df2], axis=1, join='inner')\n",
    "df"
   ]
  },
  {
   "cell_type": "code",
   "execution_count": null,
   "metadata": {
    "id": "evHlYGFUcGCM",
    "outputId": "3e4cea7a-667b-472d-984a-805e3e9a7b4d"
   },
   "outputs": [],
   "source": [
    "df = pd.concat([df1,df2], axis=1, join='outer')\n",
    "df"
   ]
  },
  {
   "cell_type": "markdown",
   "metadata": {
    "id": "7-APyhTBcGCM"
   },
   "source": [
    "La función append() también se utiliza para combinar DataFrames. Se puede ver como un caso particular de la función concat() (axis=0 y join='outer')."
   ]
  },
  {
   "cell_type": "code",
   "execution_count": null,
   "metadata": {
    "id": "6eJ4HdmXcGCM",
    "outputId": "190420a9-ca0a-444a-d79c-d0195db99b35"
   },
   "outputs": [],
   "source": [
    "df = df1.append(df2)\n",
    "df"
   ]
  },
  {
   "cell_type": "markdown",
   "metadata": {
    "id": "Vg38JlGrcGCM"
   },
   "source": [
    "Otra función muy utilizada para combinar DataFrames es merge(). La función Concat() simplemente añade los DataFrames uno encima del otro o los añade uno al lado del otro. Es más bien una forma de añadir DataFrames. Merge() combina los DataFrames basándose en los valores de las columnas compartidas. La función Merge() ofrece más flexibilidad que la función concat(). Se verá claramente cuando vea los ejemplos."
   ]
  },
  {
   "cell_type": "code",
   "execution_count": null,
   "metadata": {
    "id": "HeWroT5ocGCM",
    "outputId": "f7644ea9-c98f-48bf-e053-559e5d588d09"
   },
   "outputs": [],
   "source": [
    "df1 = pd.DataFrame({\n",
    "'column_a':[1,2,3,4],\n",
    "'column_b':['a','b','c','d'],\n",
    "'column_c':[True,True,False,True]\n",
    "})\n",
    "\n",
    "df1"
   ]
  },
  {
   "cell_type": "code",
   "execution_count": null,
   "metadata": {
    "id": "dAetkfyIcGCM",
    "outputId": "13ba40ad-e631-4a3c-d324-666e1c5e1bb6"
   },
   "outputs": [],
   "source": [
    "df2 = pd.DataFrame({\n",
    "'column_a':[1,2,9,10],\n",
    "'column_b':['a','k','l','m'],\n",
    "'column_c':[False,False,False,True]\n",
    "})\n",
    "\n",
    "df2"
   ]
  },
  {
   "cell_type": "code",
   "execution_count": null,
   "metadata": {
    "id": "yAC52-yecGCM",
    "outputId": "c4170ba4-ad0d-4348-d168-f02ebb4fd25c"
   },
   "outputs": [],
   "source": [
    "df_merge = pd.merge(df1, df2, on='column_a')\n",
    "df_merge"
   ]
  },
  {
   "cell_type": "markdown",
   "metadata": {
    "id": "NV2EOeGGcGCN"
   },
   "source": [
    "Los nombres de las columnas no tienen por qué ser los mismos. Nuestro objetivo son los valores de las columnas. Supongamos que dos DataFrames tienen valores comunes en una columna que desea utilizar para fusionar estos DataFrames pero los nombres de las columnas son diferentes. En este caso, en lugar del parámetro on, puede utilizar los parámetros left_on y right_on. Para mostrar la diferencia, cambiaré el nombre de la columna en df2 y luego usaré merge:"
   ]
  },
  {
   "cell_type": "code",
   "execution_count": null,
   "metadata": {
    "id": "kWmNs0hPcGCN",
    "outputId": "cc152d78-2a55-4988-c472-d7b52839ea38"
   },
   "outputs": [],
   "source": [
    "df2.rename(columns={'column_a':'new_column_a'}, inplace=True)\n",
    "df2"
   ]
  },
  {
   "cell_type": "code",
   "execution_count": null,
   "metadata": {
    "id": "azv0bcjocGCN",
    "outputId": "5579b07e-ac5c-43a3-8d25-d19faad850e6"
   },
   "outputs": [],
   "source": [
    "df_merge = pd.merge(df1, df2, left_on='column_a', right_on='new_column_a')\n",
    "df_merge"
   ]
  },
  {
   "cell_type": "markdown",
   "metadata": {
    "id": "K6kceKhscGCN"
   },
   "source": [
    "También puede pasar múltiples valores al parámetro on. El DataFrame devuelto sólo incluye las filas que tienen los mismos valores en todas las columnas pasadas al parámetro on."
   ]
  },
  {
   "cell_type": "code",
   "execution_count": null,
   "metadata": {
    "id": "xD10qmKEcGCN",
    "outputId": "d1f3f6d7-7601-4cd3-c9b5-fb0a760ed961"
   },
   "outputs": [],
   "source": [
    "df2.rename(columns={'new_column_a':'column_a'}, inplace=True)\n",
    "df_merge = pd.merge(df1, df2, on=['column_a','column_b'])\n",
    "df_merge"
   ]
  },
  {
   "cell_type": "markdown",
   "metadata": {
    "id": "QHU6w7F3VgyM"
   },
   "source": [
    "### Lectura"
   ]
  },
  {
   "cell_type": "markdown",
   "metadata": {
    "id": "sN-2_uiZcGCE"
   },
   "source": [
    "En la mayoría de los casos, leemos datos de un fichero y los convertimos en un DataFrame. Pandas proporciona funciones para leer datos de muchos tipos de archivos diferentes. La más utilizada es read_csv. También existen otros tipos como read_excel, read_json, read_html, etc. Vamos a ver un ejemplo usando read_csv:"
   ]
  },
  {
   "cell_type": "code",
   "execution_count": null,
   "metadata": {
    "colab": {
     "base_uri": "https://localhost:8080/",
     "height": 206
    },
    "id": "6fBYA9GVcGCE",
    "outputId": "0d7ada3e-71f9-4485-85c8-038674c46973"
   },
   "outputs": [],
   "source": [
    "df = pd.read_csv(\"boston.csv\")\n",
    "df.head()"
   ]
  },
  {
   "cell_type": "markdown",
   "metadata": {
    "id": "RCrN4UtWXcD1"
   },
   "source": [
    "Observemos las dimensiones del dataset..."
   ]
  },
  {
   "cell_type": "code",
   "execution_count": null,
   "metadata": {
    "colab": {
     "base_uri": "https://localhost:8080/"
    },
    "id": "ewWwi46tXLTd",
    "outputId": "a782f85d-cee6-4680-9881-42eb498c9977"
   },
   "outputs": [],
   "source": [
    "df.shape"
   ]
  },
  {
   "cell_type": "code",
   "execution_count": null,
   "metadata": {
    "colab": {
     "base_uri": "https://localhost:8080/"
    },
    "id": "WYD0zGTCXfzS",
    "outputId": "d5158e45-3c9a-482a-c96a-61e94a90213f"
   },
   "outputs": [],
   "source": [
    "#columnsa y tipo de datos\n",
    "df.info()"
   ]
  },
  {
   "cell_type": "code",
   "execution_count": null,
   "metadata": {
    "colab": {
     "base_uri": "https://localhost:8080/",
     "height": 206
    },
    "id": "Kt5RReC9XlCy",
    "outputId": "eae26512-0bd2-4967-902e-7b7ef8f97f4f"
   },
   "outputs": [],
   "source": [
    "#Primeras filas\n",
    "df.head()"
   ]
  },
  {
   "cell_type": "code",
   "execution_count": null,
   "metadata": {
    "colab": {
     "base_uri": "https://localhost:8080/",
     "height": 363
    },
    "id": "J6sOHDzQXuuq",
    "outputId": "a4160ec6-9c02-40e0-e600-806b3d8860d6"
   },
   "outputs": [],
   "source": [
    "# primeras 10 filas\n",
    "df.head(10)"
   ]
  },
  {
   "cell_type": "code",
   "execution_count": null,
   "metadata": {
    "colab": {
     "base_uri": "https://localhost:8080/",
     "height": 206
    },
    "id": "d-zuLLSwX16j",
    "outputId": "05e146f2-744c-4eb4-8747-28eb2e9d13ee"
   },
   "outputs": [],
   "source": [
    "#Ultimas filas\n",
    "df.tail()"
   ]
  },
  {
   "cell_type": "code",
   "execution_count": null,
   "metadata": {
    "colab": {
     "base_uri": "https://localhost:8080/",
     "height": 363
    },
    "id": "H7jiwdUZX7T1",
    "outputId": "62245dd9-81df-4ac1-d33d-227c1f37bef0"
   },
   "outputs": [],
   "source": [
    "#ultimas 10 filas \n",
    "df.tail(10)"
   ]
  },
  {
   "cell_type": "markdown",
   "metadata": {
    "id": "EwFNLqZUcGCH"
   },
   "source": [
    "Con el uso de describe también podemos tener una vista genera de nuestros datos. Podemos obtener una información básica sobre ellos sin tener que indagar a analizar cada columna por aparte."
   ]
  },
  {
   "cell_type": "code",
   "execution_count": null,
   "metadata": {
    "colab": {
     "base_uri": "https://localhost:8080/",
     "height": 344
    },
    "id": "ycismx19Ykx8",
    "outputId": "967c997a-6427-4bc5-b9c4-80235b392687"
   },
   "outputs": [],
   "source": [
    "df.describe()"
   ]
  },
  {
   "cell_type": "code",
   "execution_count": null,
   "metadata": {
    "colab": {
     "base_uri": "https://localhost:8080/"
    },
    "id": "zrcJy8IpYlK5",
    "outputId": "41721a17-d393-49d0-f930-9727383523be"
   },
   "outputs": [],
   "source": [
    "df.CHAS.value_counts()"
   ]
  },
  {
   "cell_type": "markdown",
   "metadata": {
    "id": "ZnCjPK8qYzq6"
   },
   "source": [
    "Podemos tener información sobre los diferentes tipos de datos que tenemos. En este caso podemos evidencia que CHAS solo varía entre el uso de variables enteras int64 mientrás que las demás solo funcionan con variables de tipo decimal o de punto flotante float64."
   ]
  },
  {
   "cell_type": "markdown",
   "metadata": {
    "id": "-2jzfEVbcGCI"
   },
   "source": [
    "Podemos tener información sobre los diferentes tipos de datos que tenemos. En este caso podemos evidencia que CHAS solo varía entre el uso de variables enteras int64 mientrás que las demás solo funcionan con variables de tipo decimal o de punto flotante float64."
   ]
  },
  {
   "cell_type": "code",
   "execution_count": null,
   "metadata": {
    "id": "GV9tZLfvcGCI",
    "outputId": "91a4a0f7-81f9-4e80-877c-cfd8fd080935"
   },
   "outputs": [],
   "source": [
    "df = pd.DataFrame({\n",
    "'column_a':[1, 2, 4, 4, np.nan, np.nan, 6],     \n",
    "'column_b':[1.2, 1.4, np.nan, 6.2 ,None, 1.1, 4.3],\n",
    "'column_c':['a', '?', 'c', 'd', '--', np.nan, 'd'],\n",
    "'column_d':[True, True, np.nan, None, False, True, False]\n",
    "})\n",
    "df"
   ]
  },
  {
   "cell_type": "markdown",
   "metadata": {
    "id": "Yu_VoGqtcGCI"
   },
   "source": [
    "En muchas ocasiones nos encontraremos con bases de datos con datos faltantes, en este caso descritos como NaN. Esto es muy común verlo entre grandes cantidades de datos. Dichos datos pueden generar algún tipo de ruido o imprecisión sobre nuestro análisis. Por tanto, aprenderémos a como identificarlos e eliminarlos en caso de ser necesario."
   ]
  },
  {
   "cell_type": "code",
   "execution_count": null,
   "metadata": {
    "id": "tslpWBqEcGCI",
    "outputId": "4ee8076e-71fb-42f5-9436-7ba6fe9c13a3"
   },
   "outputs": [],
   "source": [
    "df.isna()"
   ]
  },
  {
   "cell_type": "markdown",
   "metadata": {
    "id": "yzf169WGcGCJ"
   },
   "source": [
    "Con isNa tenemos información sobre que variables que tenemos dentro de nuestro dataframe. Podemos ver notna caso contrario al anterior visto."
   ]
  },
  {
   "cell_type": "code",
   "execution_count": null,
   "metadata": {
    "id": "TveW7kXjcGCJ",
    "outputId": "8eab0120-2935-4980-960f-e659fe10c488"
   },
   "outputs": [],
   "source": [
    "df.isna().sum()"
   ]
  },
  {
   "cell_type": "markdown",
   "metadata": {
    "id": "ppxhOMA0cGCJ"
   },
   "source": [
    "Podemos sumar la cantidad de NaN o datos faltantes por columnas."
   ]
  },
  {
   "cell_type": "code",
   "execution_count": null,
   "metadata": {
    "id": "DaxS0paqcGCJ",
    "outputId": "87aeaf8a-81a7-41f0-ce2c-dc1bde77b1d2"
   },
   "outputs": [],
   "source": [
    "df.replace(['?','--'],np.nan, inplace=True)\n",
    "df"
   ]
  },
  {
   "cell_type": "markdown",
   "metadata": {
    "id": "pS5CH3oEcGCJ"
   },
   "source": [
    "Podemos remplazar otros valores como el ? o el -- por NaN. Para tener una normalización de datos faltantes."
   ]
  },
  {
   "cell_type": "code",
   "execution_count": null,
   "metadata": {
    "id": "2Ii8aBZgcGCJ",
    "outputId": "91cd09d0-82fc-4b09-b128-a615e116fa5b"
   },
   "outputs": [],
   "source": [
    "df.dropna(axis=0)"
   ]
  },
  {
   "cell_type": "markdown",
   "metadata": {
    "id": "zZ7cXGOdcGCJ"
   },
   "source": [
    "O, eliminar de la base de datos registros completos en caso de tener un valor NaN. Caos más utilizado para no generar algún tipo de ruido en los datos. El axis = 0 indica que haga el análisis tomando en cuenta las columnas como criterio de decisión de eliminación. En caso de que fuera axis = 1, estaría buscando por columna donde exista algún NaN, y eliminaría toda la columna, como se muestra a continuación."
   ]
  },
  {
   "cell_type": "code",
   "execution_count": null,
   "metadata": {
    "id": "LWIUhcwQcGCK",
    "outputId": "5a79f2cc-844f-4a53-e5ca-b2cca06b47d7"
   },
   "outputs": [],
   "source": [
    "df = pd.DataFrame({\n",
    "'column_a':[1, 2, 4, 4, np.nan, np.nan, 6],     \n",
    "'column_b':[1.2, 1.4, np.nan, 6.2 , np.nan, 1.1, 4.3],\n",
    "'column_c':['a', '?', 'c', 'd', np.nan, np.nan, 'd'],\n",
    "'column_d':[True, True, False, True, False, True, False]\n",
    "})\n",
    "df"
   ]
  },
  {
   "cell_type": "markdown",
   "metadata": {
    "id": "PARBY9eqcGCK"
   },
   "source": [
    "Dataframe ahora con columna D sin ningún NaN"
   ]
  },
  {
   "cell_type": "code",
   "execution_count": null,
   "metadata": {
    "id": "9ZuXr8T9cGCK",
    "outputId": "b17899ce-62c7-4c35-eacc-2443bb5d1142"
   },
   "outputs": [],
   "source": [
    "df.dropna(axis=1)"
   ]
  },
  {
   "cell_type": "markdown",
   "metadata": {
    "id": "cHLmL2edcGCK"
   },
   "source": [
    "Resultado final solo teniendo en cuenta que la columna D cumple con no tener ningún NaN"
   ]
  },
  {
   "cell_type": "code",
   "execution_count": null,
   "metadata": {
    "id": "D_6kpaKUcGCK",
    "outputId": "618a1738-ce21-43f6-fe2f-58bfc647e9a7"
   },
   "outputs": [],
   "source": [
    "df = pd.DataFrame({\n",
    "'column_a':[1, 2, 4, 4, np.nan, np.nan, 6],     \n",
    "'column_b':[1.2, 1.4, np.nan, 6.2 , np.nan, 1.1, 4.3],\n",
    "'column_c':['a', '?', 'c', 'd', np.nan, np.nan, 'd'],\n",
    "'column_d':[True, True, False, True, False, True, False]\n",
    "})\n",
    "df"
   ]
  },
  {
   "cell_type": "markdown",
   "metadata": {
    "id": "nHJI1ClJcGCK"
   },
   "source": [
    "Podemos también rellenar un NaN con un valor escalar o valor fijo"
   ]
  },
  {
   "cell_type": "code",
   "execution_count": null,
   "metadata": {
    "id": "AqiOBggQcGCK",
    "outputId": "eb78b07b-f326-4ebb-8705-4702c9c9cc7d"
   },
   "outputs": [],
   "source": [
    "df.fillna(1.0)"
   ]
  },
  {
   "cell_type": "markdown",
   "metadata": {
    "id": "lZZ9uq0EcGCK"
   },
   "source": [
    "O podemos rellenarlo con algo más común como una media de la columna"
   ]
  },
  {
   "cell_type": "code",
   "execution_count": null,
   "metadata": {
    "id": "mxrPLISzcGCK",
    "outputId": "763d59a0-24d2-43a7-8239-def786876800"
   },
   "outputs": [],
   "source": [
    "df = pd.DataFrame({\n",
    "'column_a':[1, 2, 4, 4, np.nan, np.nan, 6],     \n",
    "'column_b':[1.2, 1.4, np.nan, 6.2 , np.nan, 1.1, 4.3],\n",
    "'column_c':['a', '?', 'c', 'd', np.nan, np.nan, 'd'],\n",
    "'column_d':[True, True, False, True, False, True, False]\n",
    "})\n",
    "df"
   ]
  },
  {
   "cell_type": "code",
   "execution_count": null,
   "metadata": {
    "id": "6BC6feG4cGCL",
    "outputId": "03d56433-4716-4273-9d66-405b5f3f4335"
   },
   "outputs": [],
   "source": [
    "mean = df.column_a.mean()\n",
    "df.column_a.fillna(mean)"
   ]
  },
  {
   "cell_type": "markdown",
   "metadata": {
    "id": "znpfxCCAcGCL"
   },
   "source": [
    "También podemos rellenarlo según e dato anterior presentado con df.fillna(axis=0,method=\"ffill\") ffill refenriendóse a forward fill."
   ]
  },
  {
   "cell_type": "markdown",
   "metadata": {
    "id": "Nkqs-fWrpKQK"
   },
   "source": [
    "### Referencias"
   ]
  },
  {
   "cell_type": "markdown",
   "metadata": {
    "id": "gaUnNBO7pOfu"
   },
   "source": [
    "\n",
    "\n",
    "*   https://interactivechaos.com/es/manual/tutorial-de-pandas/union-de-series-y-dataframes\n",
    "*   https://jakevdp.github.io/PythonDataScienceHandbook/index.html\n",
    "\n",
    "* Python for Data Analysis: Data Wrangling with Pandas, NumPy, and IPython. Wes McKinney\n",
    "\n"
   ]
  }
 ],
 "metadata": {
  "colab": {
   "collapsed_sections": [
    "c0z1reNj2o4d",
    "iQ1kAbXf3lw-",
    "3P_ZyR9h9twM",
    "WtglqnaOBUo-",
    "-jzxBS9xcGCL"
   ],
   "name": "Intro to Pandas G2.ipynb",
   "provenance": [],
   "toc_visible": true
  },
  "kernelspec": {
   "display_name": "Python 3 (ipykernel)",
   "language": "python",
   "name": "python3"
  },
  "language_info": {
   "codemirror_mode": {
    "name": "ipython",
    "version": 3
   },
   "file_extension": ".py",
   "mimetype": "text/x-python",
   "name": "python",
   "nbconvert_exporter": "python",
   "pygments_lexer": "ipython3",
   "version": "3.9.7"
  }
 },
 "nbformat": 4,
 "nbformat_minor": 1
}
