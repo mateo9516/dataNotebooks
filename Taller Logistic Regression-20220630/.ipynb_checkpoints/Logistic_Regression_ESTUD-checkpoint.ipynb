{
 "cells": [
  {
   "cell_type": "markdown",
   "metadata": {
    "id": "CkvnpAlVyef5"
   },
   "source": [
    "En este caso, llevaremos a cabo un recorrido exhaustivo de un problema de ciencia de datos de clasificación binaria. Nuestro objetivo es combinar las diversas técnicas de pre-modelado que hemos aprendido con la validación cruzada para afinar un modelo de regresión logística.\n",
    "Además, introducimos varias métricas (ROC/AUC) para evaluar el rendimiento de nuestro modelo de clasificación, que es intrínsecamente diferente de los anteriores modelos de regresión lineal que hemos encontrado. Este objetivo puede parecer un poco intimidante o técnico, pero al final del caso, todos estos términos deberían estar claros para usted."
   ]
  },
  {
   "cell_type": "code",
   "execution_count": 1,
   "metadata": {
    "id": "MGbfIPIkyCfJ"
   },
   "outputs": [],
   "source": [
    "### Load relevant packages\n",
    "import pandas                  as pd\n",
    "import numpy                   as np\n",
    "import matplotlib.pyplot       as plt\n",
    "import seaborn                 as sns\n",
    "import os\n",
    "\n",
    "from scipy import stats\n",
    "\n",
    "%matplotlib inline\n",
    "plt.style.use('ggplot')\n",
    "\n",
    "import warnings\n",
    "warnings.filterwarnings('ignore')"
   ]
  },
  {
   "cell_type": "markdown",
   "metadata": {
    "id": "JJ6QGHejyn82"
   },
   "source": [
    "## Contexto"
   ]
  },
  {
   "cell_type": "markdown",
   "metadata": {
    "id": "ShEhWipwysBR"
   },
   "source": [
    "Los bancos comerciales tradicionales no solían basarse en modelos estadísticos para decidir si debían emitirse préstamos personales, aunque esto está cambiando rápidamente en la actualidad. Usted es un científico de datos que trabaja en un banco comercial moderno. Su equipo de ciencia de datos ya ha construido modelos de regresión sencillos para predecir la probabilidad de que esos préstamos sean incumplidos. Sin embargo, ha observado que muchos de estos modelos funcionan mucho peor en producción que en las pruebas."
   ]
  },
  {
   "cell_type": "markdown",
   "metadata": {
    "id": "2AjPLVGDy8ce"
   },
   "source": [
    "Su tarea consiste en crear un modelo de probabilidad de incumplimiento que le resulte cómodo poner en producción."
   ]
  },
  {
   "cell_type": "markdown",
   "metadata": {
    "id": "iacAY8U1zBJK"
   },
   "source": [
    "El conjunto de datos contiene los detalles de 5.000 solicitudes de préstamo que han sido emitidas previamente por su banco. Para cada préstamo, también se dispone del estado final del mismo (es decir, si el préstamo ha entrado en mora):\n",
    "El archivo \"loan_light.csv\" contiene los detalles de 5000 préstamos\n",
    "El archivo \"loan_param.xlsx\" contiene la descripción de cada covariable\n",
    "El caso se desarrollará de la siguiente manera: 1) realizará una exploración de los datos para determinar las transformaciones adecuadas de las variables; 2) ajustará algunos modelos simples; 3) aprenderá sobre la validación cruzada y la utilizará para seleccionar el mejor modelo simple; y finalmente 4) construirá responsablemente modelos más complejos utilizando la validación cruzada."
   ]
  },
  {
   "cell_type": "markdown",
   "metadata": {
    "id": "HDGSDV19zeVJ"
   },
   "source": [
    "## Ejericios"
   ]
  },
  {
   "cell_type": "markdown",
   "metadata": {
    "id": "MuHat4PkzgVA"
   },
   "source": [
    "1. Cargue los datos y el diccionario de variables."
   ]
  },
  {
   "cell_type": "code",
   "execution_count": null,
   "metadata": {
    "id": "VjnZoF79yjou"
   },
   "outputs": [],
   "source": [
    "#Cargar csv\n",
    "\n",
    "\n",
    "\n",
    "#pista para diccionario\n",
    "df_description = pd.read_excel('loan_param.xlsx').dropna()\n",
    "df_description.style.set_properties(subset=['Description'], **{'width': '1000px'})\n",
    "\n",
    "\n",
    "\n"
   ]
  },
  {
   "cell_type": "markdown",
   "metadata": {
    "id": "zGDJLibtzzV1"
   },
   "source": [
    "2. Cree un gráfico de barras que muestre el número de préstamos que han entrado en mora y los que no."
   ]
  },
  {
   "cell_type": "code",
   "execution_count": null,
   "metadata": {
    "id": "L3GWOfmoz0cp"
   },
   "outputs": [],
   "source": []
  },
  {
   "cell_type": "markdown",
   "metadata": {
    "id": "SdKOrEUHz1dg"
   },
   "source": [
    "3. Crea un histograma de los ingresos anuales y describelo."
   ]
  },
  {
   "cell_type": "code",
   "execution_count": null,
   "metadata": {
    "id": "ngbIGxmGz9AK"
   },
   "outputs": [],
   "source": []
  },
  {
   "cell_type": "markdown",
   "metadata": {
    "id": "OwhAWqBlz9uC"
   },
   "source": [
    "4. Explora la asociación entre los ingresos anuales y la cuota mensual (scatterplot)."
   ]
  },
  {
   "cell_type": "code",
   "execution_count": null,
   "metadata": {
    "id": "M-adHEau0JJ4"
   },
   "outputs": [],
   "source": []
  },
  {
   "cell_type": "markdown",
   "metadata": {
    "id": "hvfX8_Oc0PeA"
   },
   "source": [
    "5. Visualice la matriz de correlación en todas las características numéricas utilizando el comando sns.heatmap()"
   ]
  },
  {
   "cell_type": "code",
   "execution_count": null,
   "metadata": {
    "id": "jCf132SR0eI7"
   },
   "outputs": [],
   "source": []
  },
  {
   "cell_type": "markdown",
   "metadata": {
    "id": "Ki7mz6Zn0eoW"
   },
   "source": [
    "6. Cree un modelo básico de regresión logística para predecir el incumplimiento del préstamo con una sola característica: install_income. Llame a este modelo modelo1. Utilice una división 70/30 de los datos entre el entrenamiento y la prueba."
   ]
  },
  {
   "cell_type": "code",
   "execution_count": null,
   "metadata": {
    "id": "Ijfz3jb32PlE"
   },
   "outputs": [],
   "source": []
  },
  {
   "cell_type": "markdown",
   "metadata": {
    "id": "dMBAV7-S2RvK"
   },
   "source": [
    "7. Trace la curva [ROC](https://towardsdatascience.com/understanding-auc-roc-curve-68b2303cc9c5) del modelo1 y encuentre el área bajo la curva."
   ]
  },
  {
   "cell_type": "code",
   "execution_count": null,
   "metadata": {
    "id": "iv8gBzIZ2iFv"
   },
   "outputs": [],
   "source": [
    "#pista\n",
    "from sklearn import metrics\n",
    "y_pred_prob = model1.predict_proba(X_test)[::,1]\n",
    "fpr, tpr, _ = metrics.roc_curve(y_test,  y_pred_prob)\n",
    "auc = metrics.roc_auc_score(y_test, y_pred_prob)\n",
    "\n",
    "plt.plot(fpr,tpr,label=\"AUC=\"+str(auc))\n",
    "plt.ylabel('True Positive Rate')\n",
    "plt.xlabel('False Positive Rate')\n",
    "plt.legend(loc=4)\n",
    "plt.show()"
   ]
  },
  {
   "cell_type": "markdown",
   "metadata": {
    "id": "f4jD-aEN3AfL"
   },
   "source": [
    "8. Cree un modelo básico de regresión logística para predecir el incumplimiento del préstamo solo con las caracteristicas numericas. Llame a este modelo modelo2. Utilice una división 70/30 de los datos entre el entrenamiento y la prueba."
   ]
  },
  {
   "cell_type": "code",
   "execution_count": null,
   "metadata": {
    "id": "PoF0QEe2_0TK"
   },
   "outputs": [],
   "source": []
  },
  {
   "cell_type": "markdown",
   "metadata": {
    "id": "0wOYOe2f_04q"
   },
   "source": [
    "9. Trace la curva ROC del modelo2 y encuentre el área bajo la curva. Es mejor modelo?"
   ]
  },
  {
   "cell_type": "code",
   "execution_count": null,
   "metadata": {
    "id": "b-6Nl-Xl3IAc"
   },
   "outputs": [],
   "source": []
  },
  {
   "cell_type": "markdown",
   "metadata": {
    "id": "GHYuCF8F_848"
   },
   "source": [
    "10. Cree un modelo básico de regresión logística para predecir el incumplimiento del préstamo con las caracteristicas numericas, y agregue algunas categoricas (get_dummies()). Llame a este modelo modelo3. Utilice una división 70/30 de los datos entre el entrenamiento y la prueba. "
   ]
  },
  {
   "cell_type": "code",
   "execution_count": null,
   "metadata": {
    "id": "eaf8xA5XAUGS"
   },
   "outputs": [],
   "source": []
  },
  {
   "cell_type": "markdown",
   "metadata": {
    "id": "g5-WYz-4AV0X"
   },
   "source": [
    "11. Trace la curva ROC del modelo3, y encuentre el área bajo la curva. Mejora el modelo agregando variables categoricas?"
   ]
  },
  {
   "cell_type": "code",
   "execution_count": null,
   "metadata": {
    "id": "FFG39hBoAc4c"
   },
   "outputs": [],
   "source": []
  }
 ],
 "metadata": {
  "colab": {
   "collapsed_sections": [],
   "name": "Logistic Regression ESTUD.ipynb",
   "provenance": []
  },
  "kernelspec": {
   "display_name": "Python 3 (ipykernel)",
   "language": "python",
   "name": "python3"
  },
  "language_info": {
   "codemirror_mode": {
    "name": "ipython",
    "version": 3
   },
   "file_extension": ".py",
   "mimetype": "text/x-python",
   "name": "python",
   "nbconvert_exporter": "python",
   "pygments_lexer": "ipython3",
   "version": "3.9.7"
  }
 },
 "nbformat": 4,
 "nbformat_minor": 1
}
