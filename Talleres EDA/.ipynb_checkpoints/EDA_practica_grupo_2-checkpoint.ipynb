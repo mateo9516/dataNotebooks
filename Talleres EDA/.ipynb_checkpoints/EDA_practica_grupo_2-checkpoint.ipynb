{
 "cells": [
  {
   "cell_type": "markdown",
   "metadata": {
    "id": "EIL9XCHpnvjm"
   },
   "source": [
    "Taller tomado e inspirado en EC1 del curso DS4A"
   ]
  },
  {
   "cell_type": "markdown",
   "metadata": {
    "id": "mxd_StlInqRT"
   },
   "source": [
    "## Introducción\n",
    "\n",
    "**Contexto empresarial.** La ciudad de Nueva York ha visto aumentar el número de accidentes en las carreteras de la ciudad. Quieren saber si el número de accidentes ha aumentado en las últimas semanas. Para todos los accidentes reportados, han recopilado detalles para cada accidente y han estado manteniendo registros durante el último año y medio (desde enero de 2018 hasta agosto de 2019). \n",
    "\n",
    "La ciudad te ha contratado para construir visualizaciones que les ayuden a identificar patrones en los accidentes, lo que les ayudaría a tomar acciones preventivas para reducir el número de accidentes en el futuro. Tienen ciertos parámetros como municipio, hora del día, motivo del accidente, etc. Que les importa y de los que les gustaría obtener información específica.\n",
    "\n",
    "**Tu tarea es formatear los datos dados y proporcionar visualizaciones que respondan a las preguntas específicas del cliente, que se mencionan a continuación.\n",
    "\n",
    "**Contexto analítico: Se le da un archivo CSV (almacenado en la carpeta \"datos\" ya creada) que contiene detalles sobre cada accidente, como la fecha, la hora, la ubicación del accidente, el motivo del accidente, los tipos de vehículos implicados, el número de heridos y muertos, etc. El delimitador en el archivo CSV dado es `;` en lugar del predeterminado `,`. Usted realizará las siguientes tareas con los datos:\n",
    "\n",
    "1. Extraer los datos adicionales del municipio almacenados en un archivo JSON\n",
    "2. Leer, transformar y preparar los datos para su visualización\n",
    "3. Realizar análisis y construir visualizaciones de los datos para identificar patrones en el conjunto de datos\n",
    "        \n",
    "El cliente tiene un conjunto específico de preguntas a las que le gustaría obtener respuestas. Usted tendrá que proporcionar visualizaciones para acompañarlas."
   ]
  },
  {
   "cell_type": "markdown",
   "metadata": {
    "id": "i5BAya77o13Q"
   },
   "source": [
    "Tenemos las siguientes columnas:\n",
    "\n",
    "1. **BOROUGH**: The borough in which the accident occurred\n",
    "2. **COLLISION_ID**: A unique identifier for this collision\n",
    "3. **CONTRIBUTING FACTOR VEHICLE (1, 2, 3, 4, 5)**: Reasons for the accident\n",
    "4. **CROSS STREET NAME**: Nearest cross street to the location of the accident\n",
    "5. **DATE**: Date of the accident\n",
    "6. **TIME**: Time of the accident\n",
    "7. **LATITUDE**: Latitude of the accident\n",
    "8. **LONGITUDE**: Longitude of the accident\n",
    "9. **NUMBER OF (CYCLISTS, MOTORISTS, PEDESTRIANS) INJURED**: Injuries by category\n",
    "10. **NUMBER OF (CYCLISTS, MOTORISTS, PEDESTRIANS) KILLED**: Deaths by category\n",
    "11. **ON STREET NAME**: Street where the accident occurred\n",
    "13. **VEHICLE TYPE CODE (1, 2, 3, 4, 5)**: Types of vehicles involved in the accident\n",
    "14. **ZIP CODE**: Zip code of the accident location"
   ]
  },
  {
   "cell_type": "markdown",
   "metadata": {
    "id": "6htM2kQqpJZh"
   },
   "source": [
    "## Ejercicios"
   ]
  },
  {
   "cell_type": "code",
   "execution_count": 1,
   "metadata": {
    "id": "Kb9mTNR9p7tQ"
   },
   "outputs": [],
   "source": [
    "# Importe aqui las librerias necesarias (numpy,pandas,seaborn,etc)\n",
    "import json\n",
    "import numpy as np\n",
    "import pandas as pd\n",
    "import seaborn as sns"
   ]
  },
  {
   "cell_type": "markdown",
   "metadata": {
    "id": "GGK_KLynpSx3"
   },
   "source": [
    "1. Utilice (adapte) la función json.load() para cargar el archivo borough_data.json como un diccionario."
   ]
  },
  {
   "cell_type": "code",
   "execution_count": 2,
   "metadata": {
    "id": "zthCt5aVm-Ia"
   },
   "outputs": [
    {
     "data": {
      "text/plain": [
       "{'the bronx': {'name': 'the bronx', 'population': 1471160.0, 'area': 42.1},\n",
       " 'brooklyn': {'name': 'brooklyn', 'population': 2648771.0, 'area': 70.82},\n",
       " 'manhattan': {'name': 'manhattan', 'population': 1664727.0, 'area': 22.83},\n",
       " 'queens': {'name': 'queens', 'population': 2358582.0, 'area': 108.53},\n",
       " 'staten island': {'name': 'staten island',\n",
       "  'population': 479458.0,\n",
       "  'area': 58.37}}"
      ]
     },
     "execution_count": 2,
     "metadata": {},
     "output_type": "execute_result"
    }
   ],
   "source": [
    "#Pista\n",
    "with open('data/borough_data.json') as f:\n",
    "    borough_data=json.load(f)\n",
    "borough_data"
   ]
  },
  {
   "cell_type": "markdown",
   "metadata": {
    "id": "0btKIFbdpiBp"
   },
   "source": [
    "2. Del mismo modo, utilice la función de pandas read_csv() para cargar el archivo accidents.csv como un DataFrame. Nombre este DataFrame df. Nota: Recuerde que ek separador es ';' en lugar de ','"
   ]
  },
  {
   "cell_type": "code",
   "execution_count": 3,
   "metadata": {
    "id": "1hU6Jh6nphnt"
   },
   "outputs": [
    {
     "data": {
      "text/html": [
       "<div>\n",
       "<style scoped>\n",
       "    .dataframe tbody tr th:only-of-type {\n",
       "        vertical-align: middle;\n",
       "    }\n",
       "\n",
       "    .dataframe tbody tr th {\n",
       "        vertical-align: top;\n",
       "    }\n",
       "\n",
       "    .dataframe thead th {\n",
       "        text-align: right;\n",
       "    }\n",
       "</style>\n",
       "<table border=\"1\" class=\"dataframe\">\n",
       "  <thead>\n",
       "    <tr style=\"text-align: right;\">\n",
       "      <th></th>\n",
       "      <th>DATE</th>\n",
       "      <th>TIME</th>\n",
       "      <th>BOROUGH</th>\n",
       "      <th>ZIP CODE</th>\n",
       "      <th>LATITUDE</th>\n",
       "      <th>LONGITUDE</th>\n",
       "      <th>ON STREET NAME</th>\n",
       "      <th>NUMBER OF PEDESTRIANS INJURED</th>\n",
       "      <th>NUMBER OF PEDESTRIANS KILLED</th>\n",
       "      <th>NUMBER OF CYCLIST INJURED</th>\n",
       "      <th>...</th>\n",
       "      <th>CONTRIBUTING FACTOR VEHICLE 2</th>\n",
       "      <th>CONTRIBUTING FACTOR VEHICLE 3</th>\n",
       "      <th>CONTRIBUTING FACTOR VEHICLE 4</th>\n",
       "      <th>CONTRIBUTING FACTOR VEHICLE 5</th>\n",
       "      <th>COLLISION_ID</th>\n",
       "      <th>VEHICLE TYPE CODE 1</th>\n",
       "      <th>VEHICLE TYPE CODE 2</th>\n",
       "      <th>VEHICLE TYPE CODE 3</th>\n",
       "      <th>VEHICLE TYPE CODE 4</th>\n",
       "      <th>VEHICLE TYPE CODE 5</th>\n",
       "    </tr>\n",
       "  </thead>\n",
       "  <tbody>\n",
       "    <tr>\n",
       "      <th>0</th>\n",
       "      <td>09/26/2018</td>\n",
       "      <td>12:12</td>\n",
       "      <td>BRONX</td>\n",
       "      <td>10454.0</td>\n",
       "      <td>40.808987</td>\n",
       "      <td>-73.911316</td>\n",
       "      <td>NaN</td>\n",
       "      <td>0</td>\n",
       "      <td>0</td>\n",
       "      <td>0</td>\n",
       "      <td>...</td>\n",
       "      <td>NaN</td>\n",
       "      <td>NaN</td>\n",
       "      <td>NaN</td>\n",
       "      <td>NaN</td>\n",
       "      <td>3988123</td>\n",
       "      <td>Sedan</td>\n",
       "      <td>NaN</td>\n",
       "      <td>NaN</td>\n",
       "      <td>NaN</td>\n",
       "      <td>NaN</td>\n",
       "    </tr>\n",
       "    <tr>\n",
       "      <th>1</th>\n",
       "      <td>09/25/2018</td>\n",
       "      <td>16:30</td>\n",
       "      <td>BROOKLYN</td>\n",
       "      <td>11236.0</td>\n",
       "      <td>40.636005</td>\n",
       "      <td>-73.912510</td>\n",
       "      <td>FLATLANDS AVENUE</td>\n",
       "      <td>1</td>\n",
       "      <td>0</td>\n",
       "      <td>0</td>\n",
       "      <td>...</td>\n",
       "      <td>NaN</td>\n",
       "      <td>NaN</td>\n",
       "      <td>NaN</td>\n",
       "      <td>NaN</td>\n",
       "      <td>3987962</td>\n",
       "      <td>Sedan</td>\n",
       "      <td>NaN</td>\n",
       "      <td>NaN</td>\n",
       "      <td>NaN</td>\n",
       "      <td>NaN</td>\n",
       "    </tr>\n",
       "    <tr>\n",
       "      <th>2</th>\n",
       "      <td>08/22/2019</td>\n",
       "      <td>19:30</td>\n",
       "      <td>QUEENS</td>\n",
       "      <td>11101.0</td>\n",
       "      <td>40.755490</td>\n",
       "      <td>-73.939530</td>\n",
       "      <td>NaN</td>\n",
       "      <td>0</td>\n",
       "      <td>0</td>\n",
       "      <td>0</td>\n",
       "      <td>...</td>\n",
       "      <td>NaN</td>\n",
       "      <td>NaN</td>\n",
       "      <td>NaN</td>\n",
       "      <td>NaN</td>\n",
       "      <td>4193132</td>\n",
       "      <td>Sedan</td>\n",
       "      <td>NaN</td>\n",
       "      <td>NaN</td>\n",
       "      <td>NaN</td>\n",
       "      <td>NaN</td>\n",
       "    </tr>\n",
       "    <tr>\n",
       "      <th>3</th>\n",
       "      <td>09/23/2018</td>\n",
       "      <td>13:10</td>\n",
       "      <td>QUEENS</td>\n",
       "      <td>11367.0</td>\n",
       "      <td>NaN</td>\n",
       "      <td>NaN</td>\n",
       "      <td>MAIN STREET</td>\n",
       "      <td>0</td>\n",
       "      <td>0</td>\n",
       "      <td>1</td>\n",
       "      <td>...</td>\n",
       "      <td>Unspecified</td>\n",
       "      <td>NaN</td>\n",
       "      <td>NaN</td>\n",
       "      <td>NaN</td>\n",
       "      <td>3985962</td>\n",
       "      <td>Bike</td>\n",
       "      <td>Station Wagon/Sport Utility Vehicle</td>\n",
       "      <td>NaN</td>\n",
       "      <td>NaN</td>\n",
       "      <td>NaN</td>\n",
       "    </tr>\n",
       "    <tr>\n",
       "      <th>4</th>\n",
       "      <td>08/20/2019</td>\n",
       "      <td>22:40</td>\n",
       "      <td>BRONX</td>\n",
       "      <td>10468.0</td>\n",
       "      <td>40.868336</td>\n",
       "      <td>-73.901270</td>\n",
       "      <td>NaN</td>\n",
       "      <td>0</td>\n",
       "      <td>0</td>\n",
       "      <td>0</td>\n",
       "      <td>...</td>\n",
       "      <td>Unspecified</td>\n",
       "      <td>NaN</td>\n",
       "      <td>NaN</td>\n",
       "      <td>NaN</td>\n",
       "      <td>4192111</td>\n",
       "      <td>Sedan</td>\n",
       "      <td>Sedan</td>\n",
       "      <td>NaN</td>\n",
       "      <td>NaN</td>\n",
       "      <td>NaN</td>\n",
       "    </tr>\n",
       "  </tbody>\n",
       "</table>\n",
       "<p>5 rows × 24 columns</p>\n",
       "</div>"
      ],
      "text/plain": [
       "         DATE   TIME   BOROUGH  ZIP CODE   LATITUDE  LONGITUDE  \\\n",
       "0  09/26/2018  12:12     BRONX   10454.0  40.808987 -73.911316   \n",
       "1  09/25/2018  16:30  BROOKLYN   11236.0  40.636005 -73.912510   \n",
       "2  08/22/2019  19:30    QUEENS   11101.0  40.755490 -73.939530   \n",
       "3  09/23/2018  13:10    QUEENS   11367.0        NaN        NaN   \n",
       "4  08/20/2019  22:40     BRONX   10468.0  40.868336 -73.901270   \n",
       "\n",
       "                     ON STREET NAME  NUMBER OF PEDESTRIANS INJURED  \\\n",
       "0                               NaN                              0   \n",
       "1  FLATLANDS AVENUE                                              1   \n",
       "2                               NaN                              0   \n",
       "3  MAIN STREET                                                   0   \n",
       "4                               NaN                              0   \n",
       "\n",
       "   NUMBER OF PEDESTRIANS KILLED  NUMBER OF CYCLIST INJURED  ...  \\\n",
       "0                             0                          0  ...   \n",
       "1                             0                          0  ...   \n",
       "2                             0                          0  ...   \n",
       "3                             0                          1  ...   \n",
       "4                             0                          0  ...   \n",
       "\n",
       "   CONTRIBUTING FACTOR VEHICLE 2  CONTRIBUTING FACTOR VEHICLE 3  \\\n",
       "0                            NaN                            NaN   \n",
       "1                            NaN                            NaN   \n",
       "2                            NaN                            NaN   \n",
       "3                    Unspecified                            NaN   \n",
       "4                    Unspecified                            NaN   \n",
       "\n",
       "   CONTRIBUTING FACTOR VEHICLE 4 CONTRIBUTING FACTOR VEHICLE 5 COLLISION_ID  \\\n",
       "0                            NaN                           NaN      3988123   \n",
       "1                            NaN                           NaN      3987962   \n",
       "2                            NaN                           NaN      4193132   \n",
       "3                            NaN                           NaN      3985962   \n",
       "4                            NaN                           NaN      4192111   \n",
       "\n",
       "  VEHICLE TYPE CODE 1                  VEHICLE TYPE CODE 2  \\\n",
       "0               Sedan                                  NaN   \n",
       "1               Sedan                                  NaN   \n",
       "2               Sedan                                  NaN   \n",
       "3                Bike  Station Wagon/Sport Utility Vehicle   \n",
       "4               Sedan                                Sedan   \n",
       "\n",
       "  VEHICLE TYPE CODE 3  VEHICLE TYPE CODE 4 VEHICLE TYPE CODE 5  \n",
       "0                 NaN                  NaN                 NaN  \n",
       "1                 NaN                  NaN                 NaN  \n",
       "2                 NaN                  NaN                 NaN  \n",
       "3                 NaN                  NaN                 NaN  \n",
       "4                 NaN                  NaN                 NaN  \n",
       "\n",
       "[5 rows x 24 columns]"
      ]
     },
     "execution_count": 3,
     "metadata": {},
     "output_type": "execute_result"
    }
   ],
   "source": [
    "df = pd.read_csv('data/accidents.csv', sep = ';') \n",
    "df.head()"
   ]
  },
  {
   "cell_type": "markdown",
   "metadata": {
    "id": "YTKNGxwGqYoN"
   },
   "source": [
    "### Respondiendo las preguntas del cliente"
   ]
  },
  {
   "cell_type": "markdown",
   "metadata": {
    "id": "eTvJh3smrvwK"
   },
   "source": []
  },
  {
   "cell_type": "markdown",
   "metadata": {
    "id": "mA5qcbwVr_T0"
   },
   "source": [
    "1. Agrupe los datos de accidentes por mes."
   ]
  },
  {
   "cell_type": "code",
   "execution_count": 4,
   "metadata": {
    "id": "OY7uBiCfq1AE"
   },
   "outputs": [],
   "source": [
    "#Pista. que hacen estas funciones? \n",
    "df[\"MES\"]=pd.to_datetime(df[\"DATE\"]).dt.to_period(\"M\")\n",
    "df_mes=df.groupby(\"MES\").size()"
   ]
  },
  {
   "cell_type": "markdown",
   "metadata": {
    "id": "CBO1I2X4sovx"
   },
   "source": [
    "2. Genere un diagrama de linea cuyo eje 'x' sea la fecha y el 'y' numero de accidentes. "
   ]
  },
  {
   "cell_type": "code",
   "execution_count": 5,
   "metadata": {},
   "outputs": [
    {
     "data": {
      "text/plain": [
       "<AxesSubplot:xlabel='MES'>"
      ]
     },
     "execution_count": 5,
     "metadata": {},
     "output_type": "execute_result"
    },
    {
     "data": {
      "image/png": "[encoded data removed]",
      "text/plain": [
       "<Figure size 432x288 with 1 Axes>"
      ]
     },
     "metadata": {
      "needs_background": "light"
     },
     "output_type": "display_data"
    }
   ],
   "source": [
    "df_mes.plot.line()"
   ]
  },
  {
   "cell_type": "markdown",
   "metadata": {
    "id": "G8KBF0Cds6Lp"
   },
   "source": [
    "3. Responda: Segun el diagrama anterior, incrementaron los accidentes durante el ultimo año y medio?"
   ]
  },
  {
   "cell_type": "markdown",
   "metadata": {
    "id": "-Xq1HscBtOk-"
   },
   "source": [
    "R/"
   ]
  },
  {
   "cell_type": "markdown",
   "metadata": {},
   "source": [
    "### Los datos se comportaron de forma volatil, no tienen un comportamiento establecido se deberia verificar mas a fondo la variacion porcentual de cada mes"
   ]
  },
  {
   "cell_type": "markdown",
   "metadata": {
    "id": "nLDCiT0-tfhk"
   },
   "source": [
    "4. Según el gráfico anterior, ¿qué meses parecen tener el menor número de accidentes? ¿A qué crees que se debe esto?"
   ]
  },
  {
   "cell_type": "markdown",
   "metadata": {
    "id": "s6yrsiHgtgsu"
   },
   "source": [
    "R/"
   ]
  },
  {
   "cell_type": "markdown",
   "metadata": {},
   "source": [
    "### Notamos que los meses con menor numero de accidentes son los meses de febrero de ambos, pero no se puede deducir el por qué a partir del grafico"
   ]
  },
  {
   "cell_type": "markdown",
   "metadata": {
    "id": "KpzRIxZwtkZN"
   },
   "source": [
    "5. Cree una nueva columna HORA basada en los datos de la columna TIME.\n",
    "Sugerencia: Puede encontrar útil la funcion dt.hour."
   ]
  },
  {
   "cell_type": "code",
   "execution_count": 6,
   "metadata": {
    "id": "IVJxeYhbtegr"
   },
   "outputs": [],
   "source": [
    "df['HORA'] = pd.to_datetime(df['TIME']).dt.hour"
   ]
  },
  {
   "cell_type": "markdown",
   "metadata": {
    "id": "Ah4N5OlNt-xe"
   },
   "source": [
    "6. Genere un grafico de barras cuyo eje 'x' sea la hora y eje 'y' el numero de accidentes "
   ]
  },
  {
   "cell_type": "code",
   "execution_count": 7,
   "metadata": {
    "id": "NvAYZj_LuqMy"
   },
   "outputs": [
    {
     "data": {
      "text/plain": [
       "<AxesSubplot:xlabel='HORA', ylabel='DATE'>"
      ]
     },
     "execution_count": 7,
     "metadata": {},
     "output_type": "execute_result"
    },
    {
     "data": {
      "image/png": "[encoded data removed]",
      "text/plain": [
       "<Figure size 432x288 with 1 Axes>"
      ]
     },
     "metadata": {
      "needs_background": "light"
     },
     "output_type": "display_data"
    }
   ],
   "source": [
    "dfHoras = df.groupby(['HORA']).count()\n",
    "dfHoras.reset_index(inplace =True)\n",
    "sns.barplot(x = 'HORA', y = 'DATE', data = dfHoras, palette = 'colorblind')"
   ]
  },
  {
   "cell_type": "markdown",
   "metadata": {
    "id": "G6370vntuu2b"
   },
   "source": [
    "7. ¿Cómo varía el número de accidentes a lo largo de un mismo día?"
   ]
  },
  {
   "cell_type": "markdown",
   "metadata": {
    "id": "vuXOtoI2uwQI"
   },
   "source": [
    "R/"
   ]
  },
  {
   "cell_type": "markdown",
   "metadata": {
    "id": "IunuuB2Xuvu3"
   },
   "source": [
    " ### Las horas de mayor índice de accidentalidad son las horas pico  (7 am, 4-5 pm) que pueden reflejar un resultado de comportamiento de los conductores con mayor presión y estrés. En las horas de la noche se aprecia que el índice de accidentalidad es mayor a la medianoche y vale la pena revisar la correlación con otros factores que se han medido.\n"
   ]
  },
  {
   "cell_type": "markdown",
   "metadata": {
    "id": "lvUhcBvXu8pZ"
   },
   "source": [
    "8. En la pregunta anterior hemos agregado el número de accidentes por hora sin tener en cuenta la fecha y el lugar de ocurrencia. ¿Qué crítica le haría a este enfoque?"
   ]
  },
  {
   "cell_type": "markdown",
   "metadata": {
    "id": "M_IeiC6iu-jQ"
   },
   "source": [
    "R/"
   ]
  },
  {
   "cell_type": "markdown",
   "metadata": {
    "id": "xoidsPQNu-Hc"
   },
   "source": [
    "### Se debería discriminar el análisis por día de la semana pues el comportamiento del tráfico varía mucho en días hábiles y en fin de semana. Adicionalmente, el análisis de los lugares de ocurrencia porque pueden influir factores como la señalización, el estado de las vías, el tipo de actividades en los barrios (residencial, comercial, etc.). En ese sentido, es muy importante ampliar el enfoque de análisis.\n"
   ]
  },
  {
   "cell_type": "markdown",
   "metadata": {
    "id": "lSNIbP2_vS6k"
   },
   "source": [
    "9. Calcule el número de accidentes por día de la semana.\n",
    "Sugerencia: Puede encontrar útil dt.weekday."
   ]
  },
  {
   "cell_type": "code",
   "execution_count": 8,
   "metadata": {
    "id": "w_ECck9lvW4o"
   },
   "outputs": [
    {
     "data": {
      "text/html": [
       "<div>\n",
       "<style scoped>\n",
       "    .dataframe tbody tr th:only-of-type {\n",
       "        vertical-align: middle;\n",
       "    }\n",
       "\n",
       "    .dataframe tbody tr th {\n",
       "        vertical-align: top;\n",
       "    }\n",
       "\n",
       "    .dataframe thead th {\n",
       "        text-align: right;\n",
       "    }\n",
       "</style>\n",
       "<table border=\"1\" class=\"dataframe\">\n",
       "  <thead>\n",
       "    <tr style=\"text-align: right;\">\n",
       "      <th></th>\n",
       "      <th>DIA</th>\n",
       "      <th>cantidad</th>\n",
       "    </tr>\n",
       "  </thead>\n",
       "  <tbody>\n",
       "    <tr>\n",
       "      <th>0</th>\n",
       "      <td>lunes</td>\n",
       "      <td>34719</td>\n",
       "    </tr>\n",
       "    <tr>\n",
       "      <th>1</th>\n",
       "      <td>martes</td>\n",
       "      <td>35651</td>\n",
       "    </tr>\n",
       "    <tr>\n",
       "      <th>2</th>\n",
       "      <td>miercoles</td>\n",
       "      <td>35188</td>\n",
       "    </tr>\n",
       "    <tr>\n",
       "      <th>3</th>\n",
       "      <td>jueves</td>\n",
       "      <td>36254</td>\n",
       "    </tr>\n",
       "    <tr>\n",
       "      <th>4</th>\n",
       "      <td>viernes</td>\n",
       "      <td>37886</td>\n",
       "    </tr>\n",
       "    <tr>\n",
       "      <th>5</th>\n",
       "      <td>sabado</td>\n",
       "      <td>31784</td>\n",
       "    </tr>\n",
       "    <tr>\n",
       "      <th>6</th>\n",
       "      <td>domingo</td>\n",
       "      <td>27040</td>\n",
       "    </tr>\n",
       "  </tbody>\n",
       "</table>\n",
       "</div>"
      ],
      "text/plain": [
       "         DIA  cantidad\n",
       "0      lunes     34719\n",
       "1     martes     35651\n",
       "2  miercoles     35188\n",
       "3     jueves     36254\n",
       "4    viernes     37886\n",
       "5     sabado     31784\n",
       "6    domingo     27040"
      ]
     },
     "execution_count": 8,
     "metadata": {},
     "output_type": "execute_result"
    }
   ],
   "source": [
    "semana = dict({0:'lunes',\n",
    "               1:'martes',\n",
    "               2:'miercoles',\n",
    "               3:'jueves',\n",
    "               4:'viernes',\n",
    "               5:'sabado',\n",
    "               6:'domingo'\n",
    "              })\n",
    "\n",
    "df['DIA'] = pd.to_datetime(df[\"DATE\"]).dt.weekday\n",
    "accDia = df.groupby(['DIA'])['COLLISION_ID'].count().reset_index(name = 'cantidad')\n",
    "accDia['DIA'] = accDia['DIA'].map(semana)\n",
    "accDia"
   ]
  },
  {
   "cell_type": "markdown",
   "metadata": {
    "id": "b9P4ZXAKvkzE"
   },
   "source": [
    "10. Cree un gráfico de barras basado en el recuento de accidentes por día de la semana."
   ]
  },
  {
   "cell_type": "code",
   "execution_count": 9,
   "metadata": {},
   "outputs": [
    {
     "data": {
      "text/plain": [
       "<AxesSubplot:xlabel='DIA', ylabel='cantidad'>"
      ]
     },
     "execution_count": 9,
     "metadata": {},
     "output_type": "execute_result"
    },
    {
     "data": {
      "image/png": "[encoded data removed]",
      "text/plain": [
       "<Figure size 432x288 with 1 Axes>"
      ]
     },
     "metadata": {
      "needs_background": "light"
     },
     "output_type": "display_data"
    }
   ],
   "source": [
    "sns.barplot(x = 'DIA', y = 'cantidad', data = accDia)"
   ]
  },
  {
   "cell_type": "markdown",
   "metadata": {
    "id": "U9aVfwF5vsFv"
   },
   "source": [
    "11. ¿Cómo varía el número de accidentes a lo largo de una misma semana?"
   ]
  },
  {
   "cell_type": "markdown",
   "metadata": {
    "id": "5SbP4wlMvjrt"
   },
   "source": [
    "### Se puede decir que el numero de accidentes es consistente a lo largo de la semana mostrando un pequeño decremento el fin de semana posiblemente porque la gente no labora y hay menos automoviles en las calles"
   ]
  },
  {
   "cell_type": "markdown",
   "metadata": {
    "id": "3x2IsErUv2Qv"
   },
   "source": [
    "12. Calcule el número total de accidentes de cada borough"
   ]
  },
  {
   "cell_type": "code",
   "execution_count": 10,
   "metadata": {
    "id": "4BISSvJ1v6Hx"
   },
   "outputs": [
    {
     "data": {
      "text/html": [
       "<div>\n",
       "<style scoped>\n",
       "    .dataframe tbody tr th:only-of-type {\n",
       "        vertical-align: middle;\n",
       "    }\n",
       "\n",
       "    .dataframe tbody tr th {\n",
       "        vertical-align: top;\n",
       "    }\n",
       "\n",
       "    .dataframe thead th {\n",
       "        text-align: right;\n",
       "    }\n",
       "</style>\n",
       "<table border=\"1\" class=\"dataframe\">\n",
       "  <thead>\n",
       "    <tr style=\"text-align: right;\">\n",
       "      <th></th>\n",
       "      <th>BOROUGH</th>\n",
       "      <th>Cantidad</th>\n",
       "    </tr>\n",
       "  </thead>\n",
       "  <tbody>\n",
       "    <tr>\n",
       "      <th>0</th>\n",
       "      <td>BRONX</td>\n",
       "      <td>37709</td>\n",
       "    </tr>\n",
       "    <tr>\n",
       "      <th>1</th>\n",
       "      <td>BROOKLYN</td>\n",
       "      <td>76253</td>\n",
       "    </tr>\n",
       "    <tr>\n",
       "      <th>2</th>\n",
       "      <td>MANHATTAN</td>\n",
       "      <td>48749</td>\n",
       "    </tr>\n",
       "    <tr>\n",
       "      <th>3</th>\n",
       "      <td>QUEENS</td>\n",
       "      <td>67120</td>\n",
       "    </tr>\n",
       "    <tr>\n",
       "      <th>4</th>\n",
       "      <td>STATEN ISLAND</td>\n",
       "      <td>8691</td>\n",
       "    </tr>\n",
       "  </tbody>\n",
       "</table>\n",
       "</div>"
      ],
      "text/plain": [
       "         BOROUGH  Cantidad\n",
       "0          BRONX     37709\n",
       "1       BROOKLYN     76253\n",
       "2      MANHATTAN     48749\n",
       "3         QUEENS     67120\n",
       "4  STATEN ISLAND      8691"
      ]
     },
     "execution_count": 10,
     "metadata": {},
     "output_type": "execute_result"
    }
   ],
   "source": [
    "municipios = df.groupby(['BOROUGH'])['COLLISION_ID'].count().reset_index(name = 'Cantidad')\n",
    "municipios"
   ]
  },
  {
   "cell_type": "markdown",
   "metadata": {
    "id": "KIURs7JswA3M"
   },
   "source": [
    "13. Cree un gráfico con lo anterior"
   ]
  },
  {
   "cell_type": "code",
   "execution_count": 11,
   "metadata": {
    "id": "KTVu3qFqwF6C"
   },
   "outputs": [
    {
     "data": {
      "text/plain": [
       "<AxesSubplot:xlabel='BOROUGH', ylabel='Cantidad'>"
      ]
     },
     "execution_count": 11,
     "metadata": {},
     "output_type": "execute_result"
    },
    {
     "data": {
      "image/png": "[encoded data removed]",
      "text/plain": [
       "<Figure size 432x288 with 1 Axes>"
      ]
     },
     "metadata": {
      "needs_background": "light"
     },
     "output_type": "display_data"
    }
   ],
   "source": [
    "sns.barplot(x = 'BOROUGH',y = 'Cantidad', data = municipios)"
   ]
  },
  {
   "cell_type": "markdown",
   "metadata": {
    "id": "mtdIxUWLwGhd"
   },
   "source": [
    "14. Qué notas en este gráfico?"
   ]
  },
  {
   "cell_type": "markdown",
   "metadata": {
    "id": "sCjntUIBwPnt"
   },
   "source": [
    "R/"
   ]
  },
  {
   "cell_type": "markdown",
   "metadata": {},
   "source": [
    "### Las localidades de Brooklyn y queens son las que presentan mayor cantidad de accidentes, cabe resaltar que estas localidades son las mas grandes de NY "
   ]
  },
  {
   "cell_type": "markdown",
   "metadata": {
    "id": "BttR7SqQwnN4"
   },
   "source": [
    "15. (dificil) ¿Y por milla cuadrada? Calcule el número de accidentes por milla cuadrada para cada municipio.\n",
    "Pista: Tendrás que actualizar las claves del diccionario de municipios para que coincidan con los nombres del DataFrame."
   ]
  },
  {
   "cell_type": "code",
   "execution_count": 12,
   "metadata": {},
   "outputs": [
    {
     "data": {
      "text/plain": [
       "{'brooklyn': {'name': 'brooklyn', 'population': 2648771.0, 'area': 70.82},\n",
       " 'manhattan': {'name': 'manhattan', 'population': 1664727.0, 'area': 22.83},\n",
       " 'queens': {'name': 'queens', 'population': 2358582.0, 'area': 108.53},\n",
       " 'staten island': {'name': 'staten island',\n",
       "  'population': 479458.0,\n",
       "  'area': 58.37},\n",
       " 'bronx': {'name': 'the bronx', 'population': 1471160.0, 'area': 42.1}}"
      ]
     },
     "execution_count": 12,
     "metadata": {},
     "output_type": "execute_result"
    }
   ],
   "source": [
    "for nombre, info in borough_data.items():\n",
    "    if \"the \" in nombre:\n",
    "        aux = borough_data[nombre] ### en auxiliar guardo toda la información \"el valor de la clave\"\n",
    "        nombreAux = nombre ## aqui guardo el nombre para poderlo borrar\n",
    "        del borough_data[nombre] ### borro todo ese registro \n",
    "        borough_data[nombreAux.replace(\"the \",\"\")] = aux #cambio el nombre de la clave para que coincida y al mismo tiempo le asigno el valor \n",
    "\n",
    "borough_data"
   ]
  },
  {
   "cell_type": "code",
   "execution_count": 20,
   "metadata": {
    "id": "ydtFGea0wPB9"
   },
   "outputs": [
    {
     "name": "stderr",
     "output_type": "stream",
     "text": [
      "C:\\Users\\Mateo\\AppData\\Local\\Temp/ipykernel_25708/2364662809.py:4: SettingWithCopyWarning: \n",
      "A value is trying to be set on a copy of a slice from a DataFrame\n",
      "\n",
      "See the caveats in the documentation: https://pandas.pydata.org/pandas-docs/stable/user_guide/indexing.html#returning-a-view-versus-a-copy\n",
      "  municipios['accidentes_x_m2'][i] = municipios['Cantidad'][i]/ borough_data[indices[i].lower()]['area']\n"
     ]
    },
    {
     "data": {
      "text/html": [
       "<div>\n",
       "<style scoped>\n",
       "    .dataframe tbody tr th:only-of-type {\n",
       "        vertical-align: middle;\n",
       "    }\n",
       "\n",
       "    .dataframe tbody tr th {\n",
       "        vertical-align: top;\n",
       "    }\n",
       "\n",
       "    .dataframe thead th {\n",
       "        text-align: right;\n",
       "    }\n",
       "</style>\n",
       "<table border=\"1\" class=\"dataframe\">\n",
       "  <thead>\n",
       "    <tr style=\"text-align: right;\">\n",
       "      <th></th>\n",
       "      <th>BOROUGH</th>\n",
       "      <th>Cantidad</th>\n",
       "      <th>accidentes_x_m2</th>\n",
       "    </tr>\n",
       "  </thead>\n",
       "  <tbody>\n",
       "    <tr>\n",
       "      <th>0</th>\n",
       "      <td>BRONX</td>\n",
       "      <td>37709</td>\n",
       "      <td>895.700713</td>\n",
       "    </tr>\n",
       "    <tr>\n",
       "      <th>1</th>\n",
       "      <td>BROOKLYN</td>\n",
       "      <td>76253</td>\n",
       "      <td>1076.715617</td>\n",
       "    </tr>\n",
       "    <tr>\n",
       "      <th>2</th>\n",
       "      <td>MANHATTAN</td>\n",
       "      <td>48749</td>\n",
       "      <td>2135.304424</td>\n",
       "    </tr>\n",
       "    <tr>\n",
       "      <th>3</th>\n",
       "      <td>QUEENS</td>\n",
       "      <td>67120</td>\n",
       "      <td>618.446512</td>\n",
       "    </tr>\n",
       "    <tr>\n",
       "      <th>4</th>\n",
       "      <td>STATEN ISLAND</td>\n",
       "      <td>8691</td>\n",
       "      <td>148.894980</td>\n",
       "    </tr>\n",
       "  </tbody>\n",
       "</table>\n",
       "</div>"
      ],
      "text/plain": [
       "         BOROUGH  Cantidad  accidentes_x_m2\n",
       "0          BRONX     37709       895.700713\n",
       "1       BROOKLYN     76253      1076.715617\n",
       "2      MANHATTAN     48749      2135.304424\n",
       "3         QUEENS     67120       618.446512\n",
       "4  STATEN ISLAND      8691       148.894980"
      ]
     },
     "execution_count": 20,
     "metadata": {},
     "output_type": "execute_result"
    }
   ],
   "source": [
    "indices = municipios.BOROUGH\n",
    "municipios['accidentes_x_m2'] = np.NaN\n",
    "for i in range(len(indices)):\n",
    "    municipios['accidentes_x_m2'][i] = municipios['Cantidad'][i]/ borough_data[indices[i].lower()]['area']\n",
    "\n",
    "municipios.head()"
   ]
  },
  {
   "cell_type": "markdown",
   "metadata": {
    "id": "eK8ySBFKw5hP"
   },
   "source": [
    "16. Traza un gráfico de barras de los accidentes por milla cuadrada por municipio con los datos que acabas de calcular."
   ]
  },
  {
   "cell_type": "code",
   "execution_count": 21,
   "metadata": {
    "id": "wfmgkDEww9Iw"
   },
   "outputs": [
    {
     "data": {
      "text/plain": [
       "<AxesSubplot:xlabel='BOROUGH', ylabel='accidentes_x_m2'>"
      ]
     },
     "execution_count": 21,
     "metadata": {},
     "output_type": "execute_result"
    },
    {
     "data": {
      "image/png": "[encoded data removed]",
      "text/plain": [
       "<Figure size 432x288 with 1 Axes>"
      ]
     },
     "metadata": {
      "needs_background": "light"
     },
     "output_type": "display_data"
    }
   ],
   "source": [
    "sns.barplot(x = \"BOROUGH\", y = 'accidentes_x_m2', data = municipios)"
   ]
  },
  {
   "cell_type": "markdown",
   "metadata": {
    "id": "E1juzpw1w-E9"
   },
   "source": [
    "17. Que puedes concluir de este grafico?"
   ]
  },
  {
   "cell_type": "markdown",
   "metadata": {
    "id": "rZPHOW0fxZOy"
   },
   "source": [
    "R/"
   ]
  },
  {
   "cell_type": "markdown",
   "metadata": {},
   "source": [
    "### Hay mas accidentes en manhattan por su gran afluencia de trafico dado que es el centro de la ciudad"
   ]
  },
  {
   "cell_type": "markdown",
   "metadata": {
    "id": "NL7eqkbyxMq0"
   },
   "source": [
    "18. Trace un gráfico de barras para cada borough que muestre el número de accidentes para cada hora del día. Sugerencia: Puede utilizar sns.FacetGrid para crear una cuadrícula de gráficos con los datos horarios de cada borough."
   ]
  },
  {
   "cell_type": "code",
   "execution_count": null,
   "metadata": {
    "id": "TC_w33OMxOdx"
   },
   "outputs": [],
   "source": [
    "mun_hora = df.groupby(['HORA','BOROUGH'])['COLLISION_ID'].count().reset_index(name = 'cantidad')\n",
    "\n",
    "g = sns.FacetGrid(mun_hora, col='BOROUGH', row='HORA')\n",
    "g.map(sns.barplot, x = 'HORA')"
   ]
  },
  {
   "cell_type": "markdown",
   "metadata": {
    "id": "Wve3oNs7xUCH"
   },
   "source": [
    "19. ¿Cuáles son las horas en las que se producen más accidentes en cada borough?"
   ]
  },
  {
   "cell_type": "markdown",
   "metadata": {
    "id": "uvtVpGa8xXYN"
   },
   "source": [
    "R/"
   ]
  },
  {
   "cell_type": "code",
   "execution_count": null,
   "metadata": {
    "id": "Cg3PFm0uxWwD"
   },
   "outputs": [],
   "source": []
  }
 ],
 "metadata": {
  "colab": {
   "collapsed_sections": [],
   "name": "EDA practica grupo 2.ipynb",
   "provenance": []
  },
  "kernelspec": {
   "display_name": "Python 3 (ipykernel)",
   "language": "python",
   "name": "python3"
  },
  "language_info": {
   "codemirror_mode": {
    "name": "ipython",
    "version": 3
   },
   "file_extension": ".py",
   "mimetype": "text/x-python",
   "name": "python",
   "nbconvert_exporter": "python",
   "pygments_lexer": "ipython3",
   "version": "3.9.7"
  }
 },
 "nbformat": 4,
 "nbformat_minor": 1
}
