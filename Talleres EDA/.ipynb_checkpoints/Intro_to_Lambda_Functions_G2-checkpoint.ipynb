{
 "cells": [
  {
   "cell_type": "markdown",
   "metadata": {
    "id": "YYk51fYQStzj"
   },
   "source": [
    "## Lambda y otras funciones importantes"
   ]
  },
  {
   "cell_type": "markdown",
   "metadata": {
    "id": "0bQy1tzlSujQ"
   },
   "source": [
    "En el Procesamiento de Datos, a menudo es necesario realizar operaciones (como cálculos estadísticos, división o sustitución de valores) en una determinada fila o columna para obtener nuevos datos. Escribir un bucle for para iterar a través de Pandas DataFrame y Series hará el trabajo, pero no parece una buena idea. El bucle for tiende a tener más líneas de código, menos legibilidad del código y un rendimiento más lento."
   ]
  },
  {
   "cell_type": "markdown",
   "metadata": {
    "id": "QMYmJuIVTCXq"
   },
   "source": [
    "Afortunadamente, ¡ya hay grandes métodos incorporados en Pandas para ayudarte a lograr los objetivos! En este artículo, veremos cómo realizar operaciones usando apply() y applymap(), y cómo sustituir valores usando map()."
   ]
  },
  {
   "cell_type": "markdown",
   "metadata": {
    "id": "tjyREHGcTO9Y"
   },
   "source": [
    "* apply() se utiliza para aplicar una función a lo largo de un eje del DataFrame o sobre valores de Series.\n",
    "* applymap() se utiliza para aplicar una función a un DataFrame por elementos.\n",
    "* map() se utiliza para sustituir cada valor de una Serie por otro valor."
   ]
  },
  {
   "cell_type": "markdown",
   "metadata": {
    "id": "OeHbyOXzTk1S"
   },
   "source": [
    "Creemos un dataset dummy..."
   ]
  },
  {
   "cell_type": "code",
   "execution_count": null,
   "metadata": {
    "id": "f970Hqh-STlb"
   },
   "outputs": [],
   "source": [
    "import pandas as pd\n",
    "import numpy as np\n",
    "df = pd.DataFrame({ 'A': [1,2,3,4], \n",
    "                   'B': [10,20,30,40],\n",
    "                   'C': [20,40,60,80]\n",
    "                  }, \n",
    "                  index=['Row 1', 'Row 2', 'Row 3', 'Row 4'])"
   ]
  },
  {
   "cell_type": "markdown",
   "metadata": {
    "id": "gKRLsy6uUsLY"
   },
   "source": [
    "El Pandas apply() se utiliza para aplicar una función a lo largo de un eje del DataFrame o sobre valores de Series."
   ]
  },
  {
   "cell_type": "code",
   "execution_count": null,
   "metadata": {
    "id": "2a-iiFYXTpJU"
   },
   "outputs": [],
   "source": [
    "def custom_sum(row):\n",
    "    return row.sum()\n",
    "    \n",
    "df['D'] = df.apply(custom_sum, axis=1)"
   ]
  },
  {
   "cell_type": "code",
   "execution_count": null,
   "metadata": {
    "id": "ejYSvT4QU3VK"
   },
   "outputs": [],
   "source": [
    "df"
   ]
  },
  {
   "cell_type": "code",
   "execution_count": null,
   "metadata": {
    "id": "XUROLVuXU4BY"
   },
   "outputs": [],
   "source": [
    "df.loc['Row 5'] = df.apply(custom_sum, axis=0)"
   ]
  },
  {
   "cell_type": "code",
   "execution_count": null,
   "metadata": {
    "id": "i78p4I3hVBO4"
   },
   "outputs": [],
   "source": [
    "df"
   ]
  },
  {
   "cell_type": "code",
   "execution_count": null,
   "metadata": {
    "id": "iUQFkIIHVB3C"
   },
   "outputs": [],
   "source": [
    "df = pd.DataFrame({ 'A': [1,2,3,4], \n",
    "                   'B': [10,20,30,40],\n",
    "                   'C': [20,40,60,80]\n",
    "                  }, \n",
    "                  index=['Row 1', 'Row 2', 'Row 3', 'Row 4'])"
   ]
  },
  {
   "cell_type": "markdown",
   "metadata": {
    "id": "XORLPDL0VTh9"
   },
   "source": [
    "Las funciones Lambda son también conocidas como funciones anónimas ya que se definen sin un nombre."
   ]
  },
  {
   "cell_type": "code",
   "execution_count": null,
   "metadata": {
    "id": "zfDDS13sVQ49"
   },
   "outputs": [],
   "source": [
    "df['D'] = df.apply(lambda x:x.sum(), axis=1)"
   ]
  },
  {
   "cell_type": "code",
   "execution_count": null,
   "metadata": {
    "id": "44TKnLKlVsr4"
   },
   "outputs": [],
   "source": [
    "df"
   ]
  },
  {
   "cell_type": "code",
   "execution_count": null,
   "metadata": {
    "id": "X2tVhj1sVtP5"
   },
   "outputs": [],
   "source": [
    "df.loc['Row 5'] = df.apply(lambda x:x.sum(), axis=0)"
   ]
  },
  {
   "cell_type": "code",
   "execution_count": null,
   "metadata": {
    "id": "tfASNV_2V0Ya"
   },
   "outputs": [],
   "source": [
    "df"
   ]
  },
  {
   "cell_type": "code",
   "execution_count": null,
   "metadata": {
    "id": "-cVfNXREV0wn"
   },
   "outputs": [],
   "source": [
    "df['D'] = df['C'].apply(lambda x:x*2)"
   ]
  },
  {
   "cell_type": "code",
   "execution_count": null,
   "metadata": {
    "id": "kaGZCUozWBEj"
   },
   "outputs": [],
   "source": [
    "df"
   ]
  },
  {
   "cell_type": "markdown",
   "metadata": {
    "id": "vqS8FF1pXIEL"
   },
   "source": [
    "applymap() sólo está disponible en DataFrame y se utiliza para la operación por elementos en todo el DataFrame"
   ]
  },
  {
   "cell_type": "code",
   "execution_count": null,
   "metadata": {
    "id": "BZeBledEXODf"
   },
   "outputs": [],
   "source": [
    "df.applymap(np.square)"
   ]
  },
  {
   "cell_type": "code",
   "execution_count": null,
   "metadata": {
    "id": "aD7QM6ODWut_"
   },
   "outputs": [],
   "source": [
    "df.applymap(lambda x: x*2)"
   ]
  },
  {
   "cell_type": "markdown",
   "metadata": {
    "id": "kG4pqqD1X10a"
   },
   "source": [
    "map() sólo está disponible en Series y se utiliza para sustituir cada valor de una Serie por otro valor."
   ]
  },
  {
   "cell_type": "code",
   "execution_count": null,
   "metadata": {
    "id": "IZRWtAMlXoMb"
   },
   "outputs": [],
   "source": [
    "s = pd.Series(['cat', 'dog', np.nan, 'rabbit'])"
   ]
  },
  {
   "cell_type": "code",
   "execution_count": null,
   "metadata": {
    "id": "lJrxuSuOX4DY"
   },
   "outputs": [],
   "source": [
    "s"
   ]
  },
  {
   "cell_type": "markdown",
   "metadata": {
    "id": "DRjHy3kvZMQs"
   },
   "source": [
    "map() acepta un dict o una Serie. Los valores que no se encuentran en el dict se convierten en NaN, a menos que el dict tenga un valor por defecto (por ejemplo, defaultdict):"
   ]
  },
  {
   "cell_type": "code",
   "execution_count": null,
   "metadata": {
    "id": "dU4JC7kPX4qz"
   },
   "outputs": [],
   "source": [
    "s.map({'cat': 'kitten', 'dog': 'puppy'})"
   ]
  },
  {
   "cell_type": "markdown",
   "metadata": {
    "id": "MpVxLBQmYN9w"
   },
   "source": [
    "También acepta funciones\n"
   ]
  },
  {
   "cell_type": "code",
   "execution_count": null,
   "metadata": {
    "id": "Q8G7oSzrX8wX"
   },
   "outputs": [],
   "source": [
    "s.map('I am a {}'.format)"
   ]
  },
  {
   "cell_type": "markdown",
   "metadata": {
    "id": "Ys0rxzQjZh1j"
   },
   "source": [
    "Para evitar aplicar la función a los valores perdidos (y mantenerlos como NaN) se puede utilizar na_action='ignore'"
   ]
  },
  {
   "cell_type": "code",
   "execution_count": null,
   "metadata": {
    "id": "xG0xjjnVZZZF"
   },
   "outputs": [],
   "source": [
    "s.map('I am a {}'.format, na_action='ignore')"
   ]
  },
  {
   "cell_type": "markdown",
   "metadata": {
    "id": "izyi2sdxZnDO"
   },
   "source": [
    "Tomado y adaptado de: https://towardsdatascience.com/introduction-to-pandas-apply-applymap-and-map-5d3e044e93ff"
   ]
  }
 ],
 "metadata": {
  "colab": {
   "collapsed_sections": [],
   "name": "Intro to Lambda Functions G2.ipynb",
   "provenance": []
  },
  "kernelspec": {
   "display_name": "Python 3 (ipykernel)",
   "language": "python",
   "name": "python3"
  },
  "language_info": {
   "codemirror_mode": {
    "name": "ipython",
    "version": 3
   },
   "file_extension": ".py",
   "mimetype": "text/x-python",
   "name": "python",
   "nbconvert_exporter": "python",
   "pygments_lexer": "ipython3",
   "version": "3.9.7"
  }
 },
 "nbformat": 4,
 "nbformat_minor": 1
}
