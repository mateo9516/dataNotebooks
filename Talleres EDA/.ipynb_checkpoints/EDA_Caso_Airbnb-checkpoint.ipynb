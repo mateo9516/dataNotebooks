{
 "cells": [
  {
   "cell_type": "code",
   "execution_count": 1,
   "metadata": {
    "id": "ZZFe7QlrgJHC"
   },
   "outputs": [],
   "source": [
    "#Librerias\n",
    "import numpy                 as np\n",
    "import pandas                as pd\n",
    "import matplotlib.pyplot     as plt\n",
    "import seaborn               as sns\n",
    "import folium\n",
    "from folium.plugins import HeatMap\n",
    "%matplotlib inline\n",
    "sns.set()"
   ]
  },
  {
   "cell_type": "markdown",
   "metadata": {
    "id": "7tpIfm9zhYmZ"
   },
   "source": [
    "Airbnb es un enorme mercado en línea para que la gente alquile lugares para alojarse. Es un mercado grande y lucrativo, pero muchos vendedores son simplemente individuos que alquilan su propia residencia principal para visitas cortas. Incluso los vendedores más grandes suelen ser pequeñas empresas con sólo un pequeño número de lugares para alquilar. Por ello, tienen una capacidad limitada para evaluar las tendencias a gran escala y fijar los precios óptimos.\n"
   ]
  },
  {
   "cell_type": "markdown",
   "metadata": {
    "id": "Fx-JnRIlhr40"
   },
   "source": [
    "Nuestra pregunta: ¿Qué características son más relevantes para el precio de un anuncio de Airbnb?"
   ]
  },
  {
   "cell_type": "markdown",
   "metadata": {
    "id": "yD5e3I2jh6UW"
   },
   "source": [
    "Nuestro conjunto de datos tiene 30.179 filas y 81 columnas. A continuación se detallan algunas de las columnas más importantes:"
   ]
  },
  {
   "cell_type": "markdown",
   "metadata": {
    "id": "qFWqIxtqh7ul"
   },
   "source": [
    "1. ```neighbourhood```:  which neighborhood the property is in\n",
    "2. ```longitude```, ```latitude```: longitude and latitude\n",
    "3. ```property_type```: type of property, such as apartment, condo etc.\n",
    "4. ```bathrooms```: number of bathrooms\n",
    "5. ```bedrooms```: number of bedrooms\n",
    "6. ```price```:  price of the listing\n",
    "7. ```number_of_reviews```: number of reviews given by customers who stayed there\n",
    "8. ```parking```: 1 means there is parking available, -1 means there is not\n",
    "\n",
    "Para otras variables categoricas tales como: ```outdoor_friendly```, ```gym```, etc., the 1,-1 sson interpretadas similarmente como ```parking```."
   ]
  },
  {
   "cell_type": "markdown",
   "metadata": {
    "id": "TcY6k0ZLikS9"
   },
   "source": [
    "### Ejercicios"
   ]
  },
  {
   "cell_type": "markdown",
   "metadata": {
    "id": "HoeLPWEGioDO"
   },
   "source": [
    "1. Cargue los datos"
   ]
  },
  {
   "cell_type": "code",
   "execution_count": null,
   "metadata": {
    "id": "V872d0ELikD-"
   },
   "outputs": [],
   "source": [
    "# para mostrar hasta 100 columnas: pd.options.display.max_columns = 100\n",
    "df= pd.read_csv(\"data/airbnb_nyc.csv\")\n",
    "df.head(10)"
   ]
  },
  {
   "cell_type": "markdown",
   "metadata": {
    "id": "5RaJUqQYiqgn"
   },
   "source": [
    "2. Genere estadisticas descriptivas para las variables: 'price','bedrooms','bathrooms','number_of_reviews'"
   ]
  },
  {
   "cell_type": "code",
   "execution_count": null,
   "metadata": {
    "id": "vjZisjc4iFxq"
   },
   "outputs": [],
   "source": []
  },
  {
   "cell_type": "markdown",
   "metadata": {
    "id": "vuchwjDxjI6u"
   },
   "source": [
    "3. Genere histogramas de las variables mencionadas en el punto 2. Qué puede observar de ellos?"
   ]
  },
  {
   "cell_type": "code",
   "execution_count": null,
   "metadata": {
    "id": "JizxJS_LjMuo"
   },
   "outputs": [],
   "source": []
  },
  {
   "cell_type": "markdown",
   "metadata": {
    "id": "qk8QpxpPkpv1"
   },
   "source": [
    "R/"
   ]
  },
  {
   "cell_type": "markdown",
   "metadata": {
    "id": "qRZ_gpPDjyzQ"
   },
   "source": [
    "4. Cree diagramas de cajas y bigotes para:  price vs. bathrooms, price vs. number_of_reviews, and price vs. review_scores_cleanliness, price vs bedrooms. Qué puede observar en cada uno de ellos?"
   ]
  },
  {
   "cell_type": "code",
   "execution_count": null,
   "metadata": {
    "id": "YAATXlZ2kszE"
   },
   "outputs": [],
   "source": []
  },
  {
   "cell_type": "markdown",
   "metadata": {
    "id": "sG4wpMrgjNTe"
   },
   "source": [
    "R/"
   ]
  },
  {
   "cell_type": "markdown",
   "metadata": {
    "id": "4ObnmYo_lHJk"
   },
   "source": [
    "5. Escriba un código para imprimir las columnas que están correlacionadas positivamente con el precio, de la más positiva a la menos positiva. Del mismo modo, imprima las columnas que están correlacionadas negativamente, de la más negativa a la menos negativa. (Pista: use el metodo corr()). A partir de las tablas anteriores, ¿qué factores están más correlacionados con el precio (positivo o negativo)? ¿Qué correlaciones son sorprendentes, y qué hipótesis podría explicarlas?"
   ]
  },
  {
   "cell_type": "code",
   "execution_count": null,
   "metadata": {
    "id": "ugcAqlDdkroE"
   },
   "outputs": [],
   "source": []
  },
  {
   "cell_type": "markdown",
   "metadata": {
    "id": "SJWgH6LllO-e"
   },
   "source": [
    "R/"
   ]
  },
  {
   "cell_type": "markdown",
   "metadata": {
    "id": "C0hSMpeJnB69"
   },
   "source": [
    "### Mas herramientas para visualización. Mapas!"
   ]
  },
  {
   "cell_type": "markdown",
   "metadata": {
    "id": "kKn8U1xjnNM3"
   },
   "source": [
    "Creemos un mapa interactivo para visualizar nuestros datos ya que tenemos lat y long. Como nuestros datos son de NY podemos situarnos allí"
   ]
  },
  {
   "cell_type": "code",
   "execution_count": null,
   "metadata": {
    "id": "LiCBbEYbmv9S"
   },
   "outputs": [],
   "source": [
    "ny_coords = [40.738, -73.98] # lat, long\n",
    "folium_map = folium.Map(location=ny_coords,zoom_start=13)\n",
    "folium_map"
   ]
  },
  {
   "cell_type": "markdown",
   "metadata": {
    "id": "KXJQsjXuoPrj"
   },
   "source": [
    "Con la función zip podemos concatener las coordenadas junto con el precio de la vivienda para luego crear una lista. Nota: reemplazar data con el nombre de su dataframe"
   ]
  },
  {
   "cell_type": "code",
   "execution_count": null,
   "metadata": {
    "id": "zfs13HScnSTQ"
   },
   "outputs": [],
   "source": [
    "my_zip = zip(data['latitude'], data['longitude'], data['price'])\n",
    "list_of_my_zip = list(my_zip)\n",
    "list_of_my_zip[0:15]"
   ]
  },
  {
   "cell_type": "markdown",
   "metadata": {
    "id": "j0zGsMUioo0s"
   },
   "source": [
    "Finalmente crearemos un mapa de calor HeatMap, que nos ayudará a visualizar donde están las más costosas"
   ]
  },
  {
   "cell_type": "code",
   "execution_count": null,
   "metadata": {
    "id": "2261_k73ow_g"
   },
   "outputs": [],
   "source": [
    "hm_layer = HeatMap(list_of_my_zip,\n",
    "                   min_opacity=0.2,\n",
    "                   radius=8,\n",
    "                   blur=6, \n",
    "                 )"
   ]
  },
  {
   "cell_type": "markdown",
   "metadata": {
    "id": "46RFTTLPo31s"
   },
   "source": [
    "Finalmente lo añadimos..."
   ]
  },
  {
   "cell_type": "code",
   "execution_count": null,
   "metadata": {
    "id": "0wudIUoko3a0"
   },
   "outputs": [],
   "source": [
    "folium_hmap.add_child(hm_layer)\n",
    "folium_hmap"
   ]
  },
  {
   "cell_type": "markdown",
   "metadata": {
    "id": "DF5r5fiXpTv8"
   },
   "source": [
    "6. Nombre los lugares de NY dondee son más caros y menos caros"
   ]
  },
  {
   "cell_type": "markdown",
   "metadata": {
    "id": "rhnJwKNpplFJ"
   },
   "source": [
    "R/"
   ]
  },
  {
   "cell_type": "markdown",
   "metadata": {
    "id": "UXTCzal5pmKx"
   },
   "source": [
    "7. Realizar los mismo que lo anterior pero ahora con review_score_rating en lugar de price. Nota: debes eliminar los NA's, asegurate de crear una copia de tu dataset original con el comando: data.copy() para evitar modificar el original "
   ]
  },
  {
   "cell_type": "code",
   "execution_count": null,
   "metadata": {
    "id": "o_AF27R1pkqr"
   },
   "outputs": [],
   "source": []
  }
 ],
 "metadata": {
  "colab": {
   "collapsed_sections": [],
   "name": "EDA Caso Airbnb.ipynb",
   "provenance": []
  },
  "kernelspec": {
   "display_name": "Python 3 (ipykernel)",
   "language": "python",
   "name": "python3"
  },
  "language_info": {
   "codemirror_mode": {
    "name": "ipython",
    "version": 3
   },
   "file_extension": ".py",
   "mimetype": "text/x-python",
   "name": "python",
   "nbconvert_exporter": "python",
   "pygments_lexer": "ipython3",
   "version": "3.9.7"
  }
 },
 "nbformat": 4,
 "nbformat_minor": 1
}
