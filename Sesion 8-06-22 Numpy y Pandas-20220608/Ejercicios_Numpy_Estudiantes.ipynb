{
 "cells": [
  {
   "cell_type": "code",
   "execution_count": 1,
   "metadata": {
    "id": "itUR4fs9CyrG"
   },
   "outputs": [],
   "source": [
    "import numpy as np"
   ]
  },
  {
   "cell_type": "markdown",
   "metadata": {
    "id": "_JKvbcbQC2S7"
   },
   "source": [
    "1. Crear un arreglo con todos los numeros pares del 10 al 50"
   ]
  },
  {
   "cell_type": "code",
   "execution_count": 3,
   "metadata": {},
   "outputs": [
    {
     "name": "stdout",
     "output_type": "stream",
     "text": [
      "[10 12 14 16 18 20 22 24 26 28 30 32 34 36 38 40 42 44 46 48 50]\n"
     ]
    }
   ],
   "source": [
    "a = np.arange(10,51,2)\n",
    "print(a)"
   ]
  },
  {
   "cell_type": "markdown",
   "metadata": {
    "id": "brTa9bEcC6JA"
   },
   "source": [
    "2. Crear una matriz 3x3 con valores del 0 al 8"
   ]
  },
  {
   "cell_type": "code",
   "execution_count": 6,
   "metadata": {
    "id": "VQXmgo9iC_NR"
   },
   "outputs": [
    {
     "name": "stdout",
     "output_type": "stream",
     "text": [
      "[[0 1 2]\n",
      " [3 4 5]\n",
      " [6 7 8]]\n"
     ]
    }
   ],
   "source": [
    "m = np.arange(9).reshape(3,3)\n",
    "print(m)"
   ]
  },
  {
   "cell_type": "markdown",
   "metadata": {
    "id": "odQovRe5DGzh"
   },
   "source": [
    "3. Utilizar numpy para generar un arreglo de 25 numeros aleatorioas"
   ]
  },
  {
   "cell_type": "code",
   "execution_count": 11,
   "metadata": {
    "id": "0OiNh9r_DHb1"
   },
   "outputs": [
    {
     "name": "stdout",
     "output_type": "stream",
     "text": [
      "[0.6562352  0.38724842 0.42323623 0.68403715 0.61584476 0.70743464\n",
      " 0.15122731 0.38126465 0.20157318 0.14885759 0.40229546 0.41828459\n",
      " 0.03767918 0.11289292 0.56293351 0.71634093 0.06436806 0.35766986\n",
      " 0.55091346 0.32356451 0.27565297 0.33171773 0.53416333 0.83975771\n",
      " 0.38238816]\n"
     ]
    }
   ],
   "source": [
    "c = np.random.random(25)\n",
    "print(c)"
   ]
  },
  {
   "cell_type": "markdown",
   "metadata": {
    "id": "tx7JCfAnDdHH"
   },
   "source": [
    "4. Crea un arreglo de una dimension e imprime el valor de la suma de todos sus elementos"
   ]
  },
  {
   "cell_type": "code",
   "execution_count": 15,
   "metadata": {
    "id": "Yonl_gj2DjLm"
   },
   "outputs": [
    {
     "name": "stdout",
     "output_type": "stream",
     "text": [
      "[0 1 2 3 4 5 6 7 8 9]\n",
      "45\n"
     ]
    }
   ],
   "source": [
    "p = np.arange(10)\n",
    "print(p)\n",
    "print(p.sum())"
   ]
  },
  {
   "cell_type": "markdown",
   "metadata": {
    "id": "kqs3dUmpDuTX"
   },
   "source": [
    "5. Crea un arreglo de una dimension e imprime el valor de la media de todos sus elementos"
   ]
  },
  {
   "cell_type": "code",
   "execution_count": 17,
   "metadata": {
    "id": "cncJl0evDyi1"
   },
   "outputs": [
    {
     "name": "stdout",
     "output_type": "stream",
     "text": [
      "[ 0  2  4  6  8 10 12 14 16 18]\n",
      "9.0\n"
     ]
    }
   ],
   "source": [
    "q = np.arange(10)*2\n",
    "print(q)\n",
    "print(q.mean())"
   ]
  },
  {
   "cell_type": "markdown",
   "metadata": {
    "id": "kNgnH9NUDzVw"
   },
   "source": []
  }
 ],
 "metadata": {
  "colab": {
   "name": "Ejercicios Numpy Estudiantes.ipynb",
   "provenance": []
  },
  "kernelspec": {
   "display_name": "Python 3 (ipykernel)",
   "language": "python",
   "name": "python3"
  },
  "language_info": {
   "codemirror_mode": {
    "name": "ipython",
    "version": 3
   },
   "file_extension": ".py",
   "mimetype": "text/x-python",
   "name": "python",
   "nbconvert_exporter": "python",
   "pygments_lexer": "ipython3",
   "version": "3.9.7"
  }
 },
 "nbformat": 4,
 "nbformat_minor": 1
}
