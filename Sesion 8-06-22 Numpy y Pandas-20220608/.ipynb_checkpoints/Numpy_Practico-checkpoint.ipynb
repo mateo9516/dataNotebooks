{
 "cells": [
  {
   "cell_type": "markdown",
   "metadata": {
    "id": "AvjQwXP5pD2d"
   },
   "source": [
    "# Código Ejemplo de la librería de Numpy"
   ]
  },
  {
   "cell_type": "code",
   "execution_count": null,
   "metadata": {
    "id": "Lx7rMMMVpAAU"
   },
   "outputs": [],
   "source": [
    "# Import Numpy Library \n",
    "import numpy as np"
   ]
  },
  {
   "cell_type": "code",
   "execution_count": null,
   "metadata": {
    "colab": {
     "base_uri": "https://localhost:8080/"
    },
    "id": "bxVZCbVAZQC6",
    "outputId": "068b2c53-2fa1-49c5-d4aa-299d017231a9"
   },
   "outputs": [
    {
     "name": "stdout",
     "output_type": "stream",
     "text": [
      "[2 3 4]\n",
      "int64\n",
      "int64\n",
      "<class 'numpy.ndarray'>\n",
      "8\n",
      "3\n",
      "1\n",
      "(3,)\n"
     ]
    }
   ],
   "source": [
    "a = np.array([2,3,4])\n",
    "print(a)\n",
    "print(a.dtype)\n",
    "print(a.dtype.name)\n",
    "print(type(a))\n",
    "print(a.itemsize)\n",
    "print(a.size)\n",
    "print(a.ndim)\n",
    "print(a.shape)"
   ]
  },
  {
   "cell_type": "code",
   "execution_count": null,
   "metadata": {
    "colab": {
     "base_uri": "https://localhost:8080/"
    },
    "id": "rqzBipEJZuvn",
    "outputId": "bdea939a-fabd-4597-b836-8622a06d2044"
   },
   "outputs": [
    {
     "name": "stdout",
     "output_type": "stream",
     "text": [
      "[[3.2 8.  2. ]\n",
      " [5.  9.4 6.1]]\n",
      "[[3. 2. 1.]\n",
      " [9. 8. 7.]]\n",
      "[[2.+0.j 4.+0.j 6.+0.j]\n",
      " [1.+0.j 3.+0.j 5.+0.j]]\n"
     ]
    }
   ],
   "source": [
    "#transforma\n",
    "#secuencias de secuencias en arreglos de dos\n",
    "#dimensiones. Secuencias de secuencias de secuencias\n",
    "b = np.array([(3.2, 8, 2), (5, 9.4, 6.1)])\n",
    "print(b)\n",
    "c = np.array([[3,2,1],[9,8,7]], dtype='float64')\n",
    "print(c)\n",
    "d = np.array([(2,4,6),(1,3,5)], dtype=complex)\n",
    "print(d)"
   ]
  },
  {
   "cell_type": "code",
   "execution_count": null,
   "metadata": {
    "colab": {
     "base_uri": "https://localhost:8080/"
    },
    "id": "JmKMrY4MaR5E",
    "outputId": "c216d641-76d5-49d9-f4ba-683f7ffb531f"
   },
   "outputs": [
    {
     "name": "stdout",
     "output_type": "stream",
     "text": [
      "[[0. 0. 0. 0.]\n",
      " [0. 0. 0. 0.]\n",
      " [0. 0. 0. 0.]]\n",
      "[[[1 1 1 1]\n",
      "  [1 1 1 1]]\n",
      "\n",
      " [[1 1 1 1]\n",
      "  [1 1 1 1]]\n",
      "\n",
      " [[1 1 1 1]\n",
      "  [1 1 1 1]]]\n",
      "[[2.26414713e-316 0.00000000e+000 0.00000000e+000 0.00000000e+000]\n",
      " [0.00000000e+000 0.00000000e+000 0.00000000e+000 0.00000000e+000]\n",
      " [0.00000000e+000 0.00000000e+000 0.00000000e+000 0.00000000e+000]\n",
      " [0.00000000e+000 0.00000000e+000 0.00000000e+000 0.00000000e+000]\n",
      " [0.00000000e+000 0.00000000e+000 0.00000000e+000 0.00000000e+000]]\n",
      "[[0.63225545 0.53052549 0.63267425 0.8805912 ]\n",
      " [0.5828905  0.26598852 0.25405713 0.9874857 ]]\n"
     ]
    }
   ],
   "source": [
    "#indiquemos, inicializado en zeros , unos, vacío o valores\n",
    "#aleatorios.\n",
    "\n",
    "e = np.zeros((3,4))\n",
    "print(e)\n",
    "f = np.ones((3,2,4), dtype=np.int16)\n",
    "print(f)\n",
    "g = np.empty((5,4))\n",
    "print(g)\n",
    "h = np.random.random((2,4))\n",
    "print(h)"
   ]
  },
  {
   "cell_type": "code",
   "execution_count": null,
   "metadata": {
    "colab": {
     "base_uri": "https://localhost:8080/"
    },
    "id": "SkrpF0FcdNAW",
    "outputId": "0f89437c-1a1f-48f4-b27e-1f222d0e795a"
   },
   "outputs": [
    {
     "name": "stdout",
     "output_type": "stream",
     "text": [
      "l=[ 3  9  1  4 10  6 12  8  2  5 11  7]\n",
      "m=[[ 3  9  1  4]\n",
      " [10  6 12  8]\n",
      " [ 2  5 11  7]]\n"
     ]
    }
   ],
   "source": [
    "#redimensionar\n",
    "l = np.array([3,9,1,4,10,6,12,8,2,5,11,7])\n",
    "m = l.reshape((3,4))\n",
    "print(\"l=%s\"%l)\n",
    "print(\"m=%s\"%m)"
   ]
  },
  {
   "cell_type": "code",
   "execution_count": null,
   "metadata": {
    "colab": {
     "base_uri": "https://localhost:8080/"
    },
    "id": "fP_XD7WhdxDC",
    "outputId": "32b8cced-6f0b-4d59-c2a7-510c76142dab"
   },
   "outputs": [
    {
     "name": "stdout",
     "output_type": "stream",
     "text": [
      "[[ 3  9  1  4 10  6]\n",
      " [12  8  2  5 11  7]]\n",
      "[[[ 3  9]\n",
      "  [ 1  4]\n",
      "  [10  6]]\n",
      "\n",
      " [[12  8]\n",
      "  [ 2  5]\n",
      "  [11  7]]]\n"
     ]
    }
   ],
   "source": [
    "o = m.reshape((2,6))\n",
    "print(o)\n",
    "p = m.reshape((2,3,2))\n",
    "print(p)"
   ]
  },
  {
   "cell_type": "code",
   "execution_count": null,
   "metadata": {
    "colab": {
     "base_uri": "https://localhost:8080/"
    },
    "id": "uTLsDmDYeHsP",
    "outputId": "44c76678-cd44-42ab-a3fd-0e092ca2283d"
   },
   "outputs": [
    {
     "name": "stdout",
     "output_type": "stream",
     "text": [
      "[[0 1 2 3 4]\n",
      " [5 6 7 8 9]]\n",
      "[[1 1 1 1 1]\n",
      " [1 1 1 1 1]]\n"
     ]
    },
    {
     "data": {
      "text/plain": [
       "array([[0, 1, 2, 3, 4],\n",
       "       [5, 6, 7, 8, 9],\n",
       "       [1, 1, 1, 1, 1],\n",
       "       [1, 1, 1, 1, 1]])"
      ]
     },
     "execution_count": 16,
     "metadata": {},
     "output_type": "execute_result"
    }
   ],
   "source": [
    "q = np.arange(10).reshape(2,-1)\n",
    "print(q)\n",
    "r = np.repeat(1, 10).reshape(2,-1)\n",
    "print(r)\n",
    "np.concatenate([q, r], axis=0)\n",
    "np.vstack([q, r])"
   ]
  },
  {
   "cell_type": "code",
   "execution_count": null,
   "metadata": {
    "colab": {
     "base_uri": "https://localhost:8080/"
    },
    "id": "WW5dpScjpbWd",
    "outputId": "9604bbf8-ca34-41bf-80c5-c93ed9a020a6"
   },
   "outputs": [
    {
     "data": {
      "text/plain": [
       "array([[0.60142643],\n",
       "       [1.18703926],\n",
       "       [0.65436124]])"
      ]
     },
     "execution_count": 5,
     "metadata": {},
     "output_type": "execute_result"
    }
   ],
   "source": [
    "# Generate random data \n",
    "data = np.random.randn(3, 1)\n",
    "data"
   ]
  },
  {
   "cell_type": "code",
   "execution_count": null,
   "metadata": {
    "colab": {
     "base_uri": "https://localhost:8080/"
    },
    "id": "iPamnMpYg_Wt",
    "outputId": "ab9343b4-484a-400b-d170-774a6c3fe488"
   },
   "outputs": [
    {
     "name": "stdout",
     "output_type": "stream",
     "text": [
      "[10 15 20 25]\n",
      "[0.  0.3 0.6 0.9 1.2 1.5 1.8]\n",
      "[0.   0.25 0.5  0.75 1.   1.25 1.5  1.75 2.  ]\n",
      "[0.         0.06346652 0.12693304 0.19039955 0.25386607 0.31733259\n",
      " 0.38079911 0.44426563 0.50773215 0.57119866 0.63466518 0.6981317\n",
      " 0.76159822 0.82506474 0.88853126 0.95199777 1.01546429 1.07893081\n",
      " 1.14239733 1.20586385 1.26933037 1.33279688 1.3962634  1.45972992\n",
      " 1.52319644 1.58666296 1.65012947 1.71359599 1.77706251 1.84052903\n",
      " 1.90399555 1.96746207 2.03092858 2.0943951  2.15786162 2.22132814\n",
      " 2.28479466 2.34826118 2.41172769 2.47519421 2.53866073 2.60212725\n",
      " 2.66559377 2.72906028 2.7925268  2.85599332 2.91945984 2.98292636\n",
      " 3.04639288 3.10985939 3.17332591 3.23679243 3.30025895 3.36372547\n",
      " 3.42719199 3.4906585  3.55412502 3.61759154 3.68105806 3.74452458\n",
      " 3.8079911  3.87145761 3.93492413 3.99839065 4.06185717 4.12532369\n",
      " 4.1887902  4.25225672 4.31572324 4.37918976 4.44265628 4.5061228\n",
      " 4.56958931 4.63305583 4.69652235 4.75998887 4.82345539 4.88692191\n",
      " 4.95038842 5.01385494 5.07732146 5.14078798 5.2042545  5.26772102\n",
      " 5.33118753 5.39465405 5.45812057 5.52158709 5.58505361 5.64852012\n",
      " 5.71198664 5.77545316 5.83891968 5.9023862  5.96585272 6.02931923\n",
      " 6.09278575 6.15625227 6.21971879 6.28318531]\n",
      "[ 0.00000000e+00  6.34239197e-02  1.26592454e-01  1.89251244e-01\n",
      "  2.51147987e-01  3.12033446e-01  3.71662456e-01  4.29794912e-01\n",
      "  4.86196736e-01  5.40640817e-01  5.92907929e-01  6.42787610e-01\n",
      "  6.90079011e-01  7.34591709e-01  7.76146464e-01  8.14575952e-01\n",
      "  8.49725430e-01  8.81453363e-01  9.09631995e-01  9.34147860e-01\n",
      "  9.54902241e-01  9.71811568e-01  9.84807753e-01  9.93838464e-01\n",
      "  9.98867339e-01  9.99874128e-01  9.96854776e-01  9.89821442e-01\n",
      "  9.78802446e-01  9.63842159e-01  9.45000819e-01  9.22354294e-01\n",
      "  8.95993774e-01  8.66025404e-01  8.32569855e-01  7.95761841e-01\n",
      "  7.55749574e-01  7.12694171e-01  6.66769001e-01  6.18158986e-01\n",
      "  5.67059864e-01  5.13677392e-01  4.58226522e-01  4.00930535e-01\n",
      "  3.42020143e-01  2.81732557e-01  2.20310533e-01  1.58001396e-01\n",
      "  9.50560433e-02  3.17279335e-02 -3.17279335e-02 -9.50560433e-02\n",
      " -1.58001396e-01 -2.20310533e-01 -2.81732557e-01 -3.42020143e-01\n",
      " -4.00930535e-01 -4.58226522e-01 -5.13677392e-01 -5.67059864e-01\n",
      " -6.18158986e-01 -6.66769001e-01 -7.12694171e-01 -7.55749574e-01\n",
      " -7.95761841e-01 -8.32569855e-01 -8.66025404e-01 -8.95993774e-01\n",
      " -9.22354294e-01 -9.45000819e-01 -9.63842159e-01 -9.78802446e-01\n",
      " -9.89821442e-01 -9.96854776e-01 -9.99874128e-01 -9.98867339e-01\n",
      " -9.93838464e-01 -9.84807753e-01 -9.71811568e-01 -9.54902241e-01\n",
      " -9.34147860e-01 -9.09631995e-01 -8.81453363e-01 -8.49725430e-01\n",
      " -8.14575952e-01 -7.76146464e-01 -7.34591709e-01 -6.90079011e-01\n",
      " -6.42787610e-01 -5.92907929e-01 -5.40640817e-01 -4.86196736e-01\n",
      " -4.29794912e-01 -3.71662456e-01 -3.12033446e-01 -2.51147987e-01\n",
      " -1.89251244e-01 -1.26592454e-01 -6.34239197e-02 -2.44929360e-16]\n"
     ]
    }
   ],
   "source": [
    "w = np.arange(10,30,5)\n",
    "print(w)\n",
    "x = np.arange(0,2,0.3)\n",
    "print(x)\n",
    "y = np.linspace(0,2,9)\n",
    "print(y)\n",
    "z = np.linspace(0,2*np.pi,100)\n",
    "print(z)\n",
    "ss= np.sin(z)\n",
    "print(ss)"
   ]
  },
  {
   "cell_type": "code",
   "execution_count": null,
   "metadata": {
    "colab": {
     "base_uri": "https://localhost:8080/"
    },
    "id": "5qF6CgXhiveF",
    "outputId": "e5331286-14cb-4059-ad4c-bffb06bddbc4"
   },
   "outputs": [
    {
     "name": "stdout",
     "output_type": "stream",
     "text": [
      "[-400 -200    0  200  400]\n",
      "[ 0  1  4  9 16 25 36 49 64 81]\n",
      "[ 8.62318872  4.87187675 -0.22096619 -5.25296339 -8.83849273]\n",
      "[False False False False False]\n"
     ]
    }
   ],
   "source": [
    "a = np.array([100,200,300,400,500])\n",
    "b = np.array([500,400,300,200,100])\n",
    "c = a-b\n",
    "print(c)\n",
    "d = np.arange(10)**2\n",
    "print(d)\n",
    "e = 10*np.cos(a)\n",
    "print(e)\n",
    "f = a<35\n",
    "print(f)"
   ]
  },
  {
   "cell_type": "code",
   "execution_count": null,
   "metadata": {
    "colab": {
     "base_uri": "https://localhost:8080/"
    },
    "id": "a_1hwhgqjICu",
    "outputId": "6b41f98e-3502-41b7-9cfe-9481d0840eea"
   },
   "outputs": [
    {
     "name": "stdout",
     "output_type": "stream",
     "text": [
      "[[2 0]\n",
      " [0 4]]\n",
      "[[5 4]\n",
      " [3 4]]\n",
      "[[5 4]\n",
      " [3 4]]\n"
     ]
    }
   ],
   "source": [
    "A = np.array([[1,1],[0,1]])\n",
    "B = np.array([[2,0],[3,4]])\n",
    "C = A * B\n",
    "print(C)\n",
    "D = A @ B\n",
    "print(D)\n",
    "E = A.dot(B)\n",
    "print(E)"
   ]
  },
  {
   "cell_type": "code",
   "execution_count": null,
   "metadata": {
    "colab": {
     "base_uri": "https://localhost:8080/"
    },
    "id": "9he-p-fBj19z",
    "outputId": "1eff7a64-c752-4098-8b1a-38446ad2eb54"
   },
   "outputs": [
    {
     "name": "stdout",
     "output_type": "stream",
     "text": [
      "[[0.2045737  0.21177573 0.34131946 0.84356127]\n",
      " [0.16795578 0.43599429 0.05585296 0.37424388]\n",
      " [0.02898885 0.24040325 0.25296159 0.62444623]]\n",
      "3.782076976659881\n",
      "0.028988847731186707\n",
      "0.8435612727805216\n",
      "[ 1.          2.71828183  7.3890561  20.08553692]\n",
      "[0.         1.         1.41421356 1.73205081]\n"
     ]
    }
   ],
   "source": [
    "a = np.random.random((3,4))\n",
    "print(a)\n",
    "print(a.sum())\n",
    "print(a.min())\n",
    "print(a.max())\n",
    "z = np.arange(4)\n",
    "print(np.exp(z))\n",
    "print(np.sqrt(z))"
   ]
  },
  {
   "cell_type": "code",
   "execution_count": null,
   "metadata": {
    "colab": {
     "base_uri": "https://localhost:8080/"
    },
    "id": "yUwv6om0kOXS",
    "outputId": "3eeaa5de-9cd5-4697-9585-d42577698978"
   },
   "outputs": [
    {
     "name": "stdout",
     "output_type": "stream",
     "text": [
      "[  0   1   8  27  64 125 216 343 512 729]\n",
      "[ 8 27 64]\n",
      "[ 27 125]\n",
      "[  0  -1  -1  -1  64 125 216 343 512 729]\n",
      "[729 512 343 216 125  64  -1  -1  -1   0]\n",
      "[   0   -1 1010   -1   64 1010  216  343 1010  729]\n"
     ]
    }
   ],
   "source": [
    "##Slicing \n",
    "a = np.arange(10)**3\n",
    "print(a)\n",
    "print(a[2:5])\n",
    "print(a[3:7:2])\n",
    "a[1:4] = -1\n",
    "print(a)\n",
    "print(a[::-1])\n",
    "a[2:9:3] = 1010\n",
    "print(a)"
   ]
  },
  {
   "cell_type": "code",
   "execution_count": null,
   "metadata": {
    "colab": {
     "base_uri": "https://localhost:8080/"
    },
    "id": "rsfuqNRLwG3q",
    "outputId": "9fc07366-8f96-44ce-98ce-2382d9533a92"
   },
   "outputs": [
    {
     "name": "stdout",
     "output_type": "stream",
     "text": [
      "Matrices\n",
      "Create a Matrix of 3 rows and 3 columns: \n"
     ]
    },
    {
     "data": {
      "text/plain": [
       "array([[1, 2, 3],\n",
       "       [4, 5, 6],\n",
       "       [7, 8, 9]])"
      ]
     },
     "execution_count": 21,
     "metadata": {},
     "output_type": "execute_result"
    }
   ],
   "source": [
    "print(\"Matrices\")\n",
    "\n",
    "print(\"Create a Matrix of 3 rows and 3 columns: \")\n",
    "A = np.array([[1, 2, 3], \n",
    "              [4, 5, 6],\n",
    "              [7, 8, 9]])\n",
    "A\n"
   ]
  },
  {
   "cell_type": "code",
   "execution_count": null,
   "metadata": {
    "colab": {
     "base_uri": "https://localhost:8080/"
    },
    "id": "cBzRiEftzlxl",
    "outputId": "c7ec5f44-6cc1-4674-c6ab-894a8d1c4545"
   },
   "outputs": [
    {
     "name": "stdout",
     "output_type": "stream",
     "text": [
      "Get Elements from a Matrix\n",
      "Get last row: \n"
     ]
    },
    {
     "data": {
      "text/plain": [
       "array([7, 8, 9])"
      ]
     },
     "execution_count": 22,
     "metadata": {},
     "output_type": "execute_result"
    }
   ],
   "source": [
    "print(\"Get Elements from a Matrix\")\n",
    "\n",
    "print(\"Get last row: \")\n",
    "A[2]\n",
    "A[2, :]"
   ]
  },
  {
   "cell_type": "code",
   "execution_count": null,
   "metadata": {
    "colab": {
     "base_uri": "https://localhost:8080/"
    },
    "id": "bZGNH7_90I5L",
    "outputId": "e6487e68-086a-4385-ecfd-1d7e7775ca51"
   },
   "outputs": [
    {
     "name": "stdout",
     "output_type": "stream",
     "text": [
      "Get firts column:\n"
     ]
    },
    {
     "data": {
      "text/plain": [
       "array([1, 4, 7])"
      ]
     },
     "execution_count": 23,
     "metadata": {},
     "output_type": "execute_result"
    }
   ],
   "source": [
    "print(\"Get firts column:\")\n",
    "A[:, 0]"
   ]
  },
  {
   "cell_type": "code",
   "execution_count": null,
   "metadata": {
    "colab": {
     "base_uri": "https://localhost:8080/"
    },
    "id": "oBydaYZT0Vf1",
    "outputId": "4bb206c3-8439-42bc-b8f8-1a2eaebd2f8a"
   },
   "outputs": [
    {
     "name": "stdout",
     "output_type": "stream",
     "text": [
      "More complex extaraction: \n"
     ]
    },
    {
     "data": {
      "text/plain": [
       "array([[2, 3],\n",
       "       [5, 6]])"
      ]
     },
     "execution_count": 24,
     "metadata": {},
     "output_type": "execute_result"
    }
   ],
   "source": [
    "print(\"More complex extaraction: \")\n",
    "#     c0 c1 c2\n",
    "# f0 | 1 [2  3]|\n",
    "# f1 | 4 [5  6]|\n",
    "# f2 | 7  8  9 |\n",
    "\n",
    "A[:2, 1:]\n"
   ]
  },
  {
   "cell_type": "code",
   "execution_count": null,
   "metadata": {
    "colab": {
     "base_uri": "https://localhost:8080/"
    },
    "id": "gfTfdX3F10EG",
    "outputId": "1ea7a2fc-85b7-4df3-f011-8fdddc4aacb0"
   },
   "outputs": [
    {
     "name": "stdout",
     "output_type": "stream",
     "text": [
      "Dot Product: \n"
     ]
    },
    {
     "data": {
      "text/plain": [
       "array([[ 1,  4,  9],\n",
       "       [16, 25, 36],\n",
       "       [49, 64, 81]])"
      ]
     },
     "execution_count": 26,
     "metadata": {},
     "output_type": "execute_result"
    }
   ],
   "source": [
    "print(\"Dot Product: \")\n",
    "\n",
    "np.dot(A, A)\n",
    "# elemento a elemneto\n",
    "A*A"
   ]
  },
  {
   "cell_type": "code",
   "execution_count": null,
   "metadata": {
    "colab": {
     "base_uri": "https://localhost:8080/"
    },
    "id": "lDyyZDka2NnX",
    "outputId": "c28fec07-d61e-4740-bb8e-2577ec2a7413"
   },
   "outputs": [
    {
     "name": "stdout",
     "output_type": "stream",
     "text": [
      "Dot Product (Python 3.5 or later): \n"
     ]
    },
    {
     "data": {
      "text/plain": [
       "array([[ 30,  36,  42],\n",
       "       [ 66,  81,  96],\n",
       "       [102, 126, 150]])"
      ]
     },
     "execution_count": 27,
     "metadata": {},
     "output_type": "execute_result"
    }
   ],
   "source": [
    "print(\"Dot Product (Python 3.5 or later): \") \n",
    "A@A"
   ]
  },
  {
   "cell_type": "code",
   "execution_count": null,
   "metadata": {
    "colab": {
     "base_uri": "https://localhost:8080/"
    },
    "id": "8K9FTArh2aVK",
    "outputId": "6b31a8a4-b1d3-44a9-bb3f-01ab4407f290"
   },
   "outputs": [
    {
     "name": "stdout",
     "output_type": "stream",
     "text": [
      "Transponse: \n"
     ]
    },
    {
     "data": {
      "text/plain": [
       "array([[1, 4, 7],\n",
       "       [2, 5, 8],\n",
       "       [3, 6, 9]])"
      ]
     },
     "execution_count": 28,
     "metadata": {},
     "output_type": "execute_result"
    }
   ],
   "source": [
    "print(\"Transponse: \")\n",
    "np.transpose(A)"
   ]
  },
  {
   "cell_type": "code",
   "execution_count": null,
   "metadata": {
    "colab": {
     "base_uri": "https://localhost:8080/"
    },
    "id": "VVRT0IZP2wjB",
    "outputId": "4b5cd97e-7a38-40fd-8138-76e0bdbc72eb"
   },
   "outputs": [
    {
     "name": "stdout",
     "output_type": "stream",
     "text": [
      "Transpose of A:\n"
     ]
    },
    {
     "data": {
      "text/plain": [
       "array([[1, 4, 7],\n",
       "       [2, 5, 8],\n",
       "       [3, 6, 9]])"
      ]
     },
     "execution_count": 29,
     "metadata": {},
     "output_type": "execute_result"
    }
   ],
   "source": [
    "print(\"Transpose of A:\")\n",
    "A.T"
   ]
  },
  {
   "cell_type": "code",
   "execution_count": null,
   "metadata": {
    "id": "heo4OlPo3BIx"
   },
   "outputs": [],
   "source": []
  }
 ],
 "metadata": {
  "colab": {
   "collapsed_sections": [],
   "name": "Numpy Practico.ipynb",
   "provenance": []
  },
  "kernelspec": {
   "display_name": "Python 3 (ipykernel)",
   "language": "python",
   "name": "python3"
  },
  "language_info": {
   "codemirror_mode": {
    "name": "ipython",
    "version": 3
   },
   "file_extension": ".py",
   "mimetype": "text/x-python",
   "name": "python",
   "nbconvert_exporter": "python",
   "pygments_lexer": "ipython3",
   "version": "3.9.7"
  }
 },
 "nbformat": 4,
 "nbformat_minor": 1
}
