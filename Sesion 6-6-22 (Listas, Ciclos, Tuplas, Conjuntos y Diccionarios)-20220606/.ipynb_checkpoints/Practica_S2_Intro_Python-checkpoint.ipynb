{
 "cells": [
  {
   "cell_type": "markdown",
   "metadata": {
    "id": "MCPbYH4-_8Sf"
   },
   "source": [
    "## Introducción a Python S2. \n",
    "Listas, Ciclos, Tuplas, Conjuntos y Diccionarios"
   ]
  },
  {
   "cell_type": "markdown",
   "metadata": {
    "id": "7hZH9YmgAO63"
   },
   "source": [
    "### Ciclos"
   ]
  },
  {
   "cell_type": "code",
   "execution_count": null,
   "metadata": {
    "id": "FSbIfXCx_6S_"
   },
   "outputs": [],
   "source": [
    "i = 1\n",
    "while i<10:\n",
    "  print(\"Python es lo mejor\")\n",
    "  i = i + 1"
   ]
  },
  {
   "cell_type": "code",
   "execution_count": null,
   "metadata": {
    "id": "fJfrepwDAzka"
   },
   "outputs": [],
   "source": [
    "i=1\n",
    "while i<6:\n",
    "  print(i)\n",
    "  if i==3:\n",
    "    break\n",
    "  i+=1"
   ]
  },
  {
   "cell_type": "markdown",
   "metadata": {
    "id": "dfyjsATxBkv1"
   },
   "source": [
    "### Listas"
   ]
  },
  {
   "cell_type": "code",
   "execution_count": null,
   "metadata": {
    "id": "kNtFB1RuBYdV"
   },
   "outputs": [],
   "source": [
    "cuadrados=[1,4,9,16,25]"
   ]
  },
  {
   "cell_type": "code",
   "execution_count": null,
   "metadata": {
    "id": "rnAzqhyMBuBv"
   },
   "outputs": [],
   "source": [
    "#acceder a los elementos\n",
    "print(cuadrados[3])\n",
    "print(cuadrados[0])\n",
    "print(cuadrados[1])"
   ]
  },
  {
   "cell_type": "code",
   "execution_count": null,
   "metadata": {
    "id": "lEws7V1mB0me"
   },
   "outputs": [],
   "source": [
    "# dimension de la lista\n",
    "print(len(cuadrados))"
   ]
  },
  {
   "cell_type": "code",
   "execution_count": null,
   "metadata": {
    "id": "ta7LJC63B4om"
   },
   "outputs": [],
   "source": [
    "#Slicing de la lista\n",
    "print(cuadrados[0:3])"
   ]
  },
  {
   "cell_type": "code",
   "execution_count": null,
   "metadata": {
    "id": "ldZgJVVhCE0f"
   },
   "outputs": [],
   "source": [
    "# no es necesario ni el inicio ni el final\n",
    "print(cuadrados[:3])\n",
    "print(cuadrados[1:])\n",
    "print(cuadrados[:])"
   ]
  },
  {
   "cell_type": "code",
   "execution_count": null,
   "metadata": {
    "id": "AuebwavZCWM2"
   },
   "outputs": [],
   "source": [
    "#concatenar\n",
    "cuadrados = cuadrados + [36,49,63]\n",
    "print(cuadrados)"
   ]
  },
  {
   "cell_type": "code",
   "execution_count": null,
   "metadata": {
    "id": "UND_MFu_Ckwy"
   },
   "outputs": [],
   "source": [
    "#modificar valores de cierta posicion\n",
    "cuadrados[7]=64\n",
    "print(cuadrados)"
   ]
  },
  {
   "cell_type": "code",
   "execution_count": null,
   "metadata": {
    "id": "s6kOcWxUCxJ7"
   },
   "outputs": [],
   "source": [
    "#tambien se pueden concatenar elmentos con la funcion append\n",
    "cuadrados.append(81)\n",
    "cuadrados.append(100)\n",
    "print(cuadrados)"
   ]
  },
  {
   "cell_type": "code",
   "execution_count": null,
   "metadata": {
    "id": "3H8ui2NiC_-G"
   },
   "outputs": [],
   "source": [
    "#El operador “in” de python para evaluar la membresía de un elemento de una lista.\n",
    "print(4 in cuadrados)\n",
    "print(0 in cuadrados)"
   ]
  },
  {
   "cell_type": "code",
   "execution_count": null,
   "metadata": {
    "id": "8FlMk-E6DOOf"
   },
   "outputs": [],
   "source": [
    "#También es posible anidar listas\n",
    "a=[0,1,2,3,4]\n",
    "b=[5,6,7,8,9]\n",
    "numeros=[a,b]\n",
    "print(numeros)"
   ]
  },
  {
   "cell_type": "markdown",
   "metadata": {
    "id": "LtdGZdErD0FS"
   },
   "source": [
    "### El Ciclo For"
   ]
  },
  {
   "cell_type": "code",
   "execution_count": null,
   "metadata": {
    "id": "DZbLbIC_DsZc"
   },
   "outputs": [],
   "source": [
    "animales=[\"Gato\",\"Perro\",\"Loro\"]"
   ]
  },
  {
   "cell_type": "code",
   "execution_count": null,
   "metadata": {
    "id": "4g8r7AOND9z7"
   },
   "outputs": [],
   "source": [
    "for animal in animales:\n",
    "  print(animal, len(animal))"
   ]
  },
  {
   "cell_type": "code",
   "execution_count": null,
   "metadata": {
    "id": "h-OzMdmcEF5o"
   },
   "outputs": [],
   "source": [
    "#Generar progresiones aritmeticas\n",
    "for i in range(6):\n",
    "  print(i)"
   ]
  },
  {
   "cell_type": "code",
   "execution_count": null,
   "metadata": {
    "id": "fQBUkpz1ES-W"
   },
   "outputs": [],
   "source": [
    "for i in range(5,10):\n",
    "  print(i)"
   ]
  },
  {
   "cell_type": "code",
   "execution_count": null,
   "metadata": {
    "id": "8Et5slFBEW8A"
   },
   "outputs": [],
   "source": [
    "print(list(range(2,12,2)))"
   ]
  },
  {
   "cell_type": "markdown",
   "metadata": {
    "id": "J7HLRvwWEvX3"
   },
   "source": [
    "[Mas sobre range](https://www.w3schools.com/python/ref_func_range.asp)"
   ]
  },
  {
   "cell_type": "markdown",
   "metadata": {
    "id": "dk04OTYtFFiw"
   },
   "source": [
    "### Tuplas"
   ]
  },
  {
   "cell_type": "code",
   "execution_count": null,
   "metadata": {
    "id": "T8B0P44KFG5P"
   },
   "outputs": [],
   "source": [
    "#incializar\n",
    "persona=(\"Ana\",\"Paz\",35)\n",
    "print(persona)"
   ]
  },
  {
   "cell_type": "code",
   "execution_count": null,
   "metadata": {
    "id": "QukN3__eFNZV"
   },
   "outputs": [],
   "source": [
    "#tambien sin parentesis\n",
    "tupla=3,4,23\n",
    "print(tupla)"
   ]
  },
  {
   "cell_type": "code",
   "execution_count": null,
   "metadata": {
    "id": "UglCyK7jFYZQ"
   },
   "outputs": [],
   "source": [
    "#concatenacion \n",
    "tupla=tupla+(87,45)\n",
    "print(tupla)"
   ]
  },
  {
   "cell_type": "code",
   "execution_count": null,
   "metadata": {
    "id": "pFP9BqmcFheP"
   },
   "outputs": [],
   "source": [
    "#Los elementos de una tupla pueden ser otras tuplas o valores de cualquier otro tipo de dato.\n",
    "familia = ((\"Luis\",\"padre\",\"amarillo\"),\n",
    "           (\"Felipe\",\"hijo\",True),\n",
    "           (\"Doris\",\"prima\",[5,6,7,8]) )\n",
    "print(familia)"
   ]
  },
  {
   "cell_type": "code",
   "execution_count": null,
   "metadata": {
    "id": "3-AFxs56GBov"
   },
   "outputs": [],
   "source": [
    "#verificar tipo \n",
    "type(familia)"
   ]
  },
  {
   "cell_type": "code",
   "execution_count": null,
   "metadata": {
    "id": "wHjAY1d3GDkE"
   },
   "outputs": [],
   "source": [
    "#Puedes acceder a las posiciones de una\n",
    "#tupla con corchetes igual que las listas y\n",
    "#cadenas de texto\n",
    "\n",
    "print(persona[1]) \n",
    "print(familia[2])"
   ]
  },
  {
   "cell_type": "code",
   "execution_count": null,
   "metadata": {
    "id": "5CHMcERqGPX-"
   },
   "outputs": [],
   "source": [
    "#Las posiciones en una tupla no se\n",
    "#pueden modificar, pero si las\n",
    "#posiciones de un elemento mutable\n",
    "#(como las listas) al interior de una\n",
    "#tupla\n",
    "gastos = ([150,320,474],[42,86])\n",
    "print(gastos)"
   ]
  },
  {
   "cell_type": "code",
   "execution_count": null,
   "metadata": {
    "id": "pQGqXgaUGdkJ"
   },
   "outputs": [],
   "source": [
    "gastos[1][0]"
   ]
  },
  {
   "cell_type": "code",
   "execution_count": null,
   "metadata": {
    "id": "HKQ3rb4RGfkt"
   },
   "outputs": [],
   "source": [
    "gastos[1][0]= 56"
   ]
  },
  {
   "cell_type": "code",
   "execution_count": null,
   "metadata": {
    "id": "A3wbP8GMGiKr"
   },
   "outputs": [],
   "source": [
    "print(gastos)"
   ]
  },
  {
   "cell_type": "code",
   "execution_count": null,
   "metadata": {
    "id": "W2c9imi8GjvV"
   },
   "outputs": [],
   "source": [
    "#packing y unpacking \n",
    "x = 1,2,3,4 \n",
    "print(x)"
   ]
  },
  {
   "cell_type": "code",
   "execution_count": null,
   "metadata": {
    "id": "b71Q3tsUGr57"
   },
   "outputs": [],
   "source": [
    "a,b,c,d = x"
   ]
  },
  {
   "cell_type": "code",
   "execution_count": null,
   "metadata": {
    "id": "IJdaP63fGzhP"
   },
   "outputs": [],
   "source": [
    "print(a)\n",
    "print(b)\n",
    "print(c)\n",
    "print(d)"
   ]
  },
  {
   "cell_type": "markdown",
   "metadata": {
    "id": "LQW7kQL0HCjG"
   },
   "source": [
    "### Conjuntos (Set)\n"
   ]
  },
  {
   "cell_type": "code",
   "execution_count": null,
   "metadata": {
    "id": "T7UZlVbKG3nb"
   },
   "outputs": [],
   "source": [
    "#incializar conjunto con elementos no repetido\n",
    "cesta = {'Limón','Naranja','Limón'}\n",
    "print(cesta)"
   ]
  },
  {
   "cell_type": "code",
   "execution_count": null,
   "metadata": {
    "id": "us_MLFZKHS6f"
   },
   "outputs": [],
   "source": [
    "#verificar existencia\n",
    "print ('Naranja' in cesta)"
   ]
  },
  {
   "cell_type": "code",
   "execution_count": null,
   "metadata": {
    "id": "wBmvJxbxHcC8"
   },
   "outputs": [],
   "source": [
    "#Función set también es posible con\n",
    "#algunos tipos (listas, cadenas, tuplas)\n",
    "codigos = set(\"abcdefg\")\n",
    "codigos2 = set(range(20))\n",
    "\n",
    "print(codigos)\n",
    "print(codigos2)"
   ]
  },
  {
   "cell_type": "code",
   "execution_count": null,
   "metadata": {
    "id": "jRY9-1YvH6HR"
   },
   "outputs": [],
   "source": [
    "#Podemos utilizar las operaciones\n",
    "#clásicas de conjuntos\n",
    "a = set(\"abcdefghi\")\n",
    "b = set(\"acegijklm\")\n",
    "print(a|b) \n",
    "print(a&b)\n",
    "print(a^b)\n",
    "print(a-b)"
   ]
  },
  {
   "cell_type": "code",
   "execution_count": null,
   "metadata": {
    "id": "1MDeKBDgIR0B"
   },
   "outputs": [],
   "source": [
    "#Iterar sobre los elementos de un conjunto\n",
    "for elem in a:\n",
    "  print(elem)"
   ]
  },
  {
   "cell_type": "markdown",
   "metadata": {
    "id": "iXWPVjCVIvFV"
   },
   "source": [
    "### Diccionarios"
   ]
  },
  {
   "cell_type": "code",
   "execution_count": null,
   "metadata": {
    "id": "I1yXbkeoIaEO"
   },
   "outputs": [],
   "source": [
    "casa = {'color':'rojo','area':500}\n",
    "print(casa)\n",
    "print(casa['color'])\n",
    "print(list(casa))"
   ]
  },
  {
   "cell_type": "code",
   "execution_count": null,
   "metadata": {
    "id": "kWdwLjdbI-KR"
   },
   "outputs": [],
   "source": [
    "print('color' in casa)\n",
    "print('area' not in casa)"
   ]
  },
  {
   "cell_type": "code",
   "execution_count": null,
   "metadata": {
    "id": "6hhCb0_nJMVO"
   },
   "outputs": [],
   "source": [
    "producto = dict([('nombre','silla'),\n",
    "('precio',24500.0),('cantidad',12)])"
   ]
  },
  {
   "cell_type": "code",
   "execution_count": null,
   "metadata": {
    "id": "V-5-xMocJcEv"
   },
   "outputs": [],
   "source": [
    "print(producto)"
   ]
  },
  {
   "cell_type": "code",
   "execution_count": null,
   "metadata": {
    "id": "JDwPvIh4JdkE"
   },
   "outputs": [],
   "source": [
    "vuelo =dict (origen='Cali', destino='Bogotá', distancia=350)\n",
    "print(vuelo)"
   ]
  },
  {
   "cell_type": "code",
   "execution_count": null,
   "metadata": {
    "id": "56C5blU9KBEH"
   },
   "outputs": [],
   "source": [
    "salud = {'peso':62, 'altura':1.72,'edad':28}"
   ]
  },
  {
   "cell_type": "code",
   "execution_count": null,
   "metadata": {
    "id": "hagTUspkJrie"
   },
   "outputs": [],
   "source": [
    "for clave, valor in salud.items():\n",
    "  print(clave, valor)"
   ]
  },
  {
   "cell_type": "code",
   "execution_count": null,
   "metadata": {
    "id": "MDhF80heKjo2"
   },
   "outputs": [],
   "source": [
    "for clave in salud:\n",
    "  print(clave, salud[clave])"
   ]
  },
  {
   "cell_type": "code",
   "execution_count": null,
   "metadata": {
    "id": "FwLMqfQSKxBO"
   },
   "outputs": [],
   "source": []
  }
 ],
 "metadata": {
  "colab": {
   "collapsed_sections": [],
   "name": "Practica S2 Intro Python.ipynb",
   "provenance": []
  },
  "kernelspec": {
   "display_name": "Python 3 (ipykernel)",
   "language": "python",
   "name": "python3"
  },
  "language_info": {
   "codemirror_mode": {
    "name": "ipython",
    "version": 3
   },
   "file_extension": ".py",
   "mimetype": "text/x-python",
   "name": "python",
   "nbconvert_exporter": "python",
   "pygments_lexer": "ipython3",
   "version": "3.9.7"
  }
 },
 "nbformat": 4,
 "nbformat_minor": 1
}
