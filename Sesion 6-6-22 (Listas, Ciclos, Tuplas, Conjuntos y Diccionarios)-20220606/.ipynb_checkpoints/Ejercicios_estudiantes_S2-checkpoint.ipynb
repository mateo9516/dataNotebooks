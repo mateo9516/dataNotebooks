{
 "cells": [
  {
   "cell_type": "markdown",
   "metadata": {
    "id": "tlM5S40xl6Ps"
   },
   "source": [
    "1. Escriba un programa que pregunte el\n",
    "valor de n y calcule la siguiente\n",
    "sumatoria: "
   ]
  },
  {
   "cell_type": "markdown",
   "metadata": {
    "id": "uWg3qrD_mmvM"
   },
   "source": [
    "![image.png](data:image/png;base64,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)"
   ]
  },
  {
   "cell_type": "code",
   "execution_count": 5,
   "metadata": {
    "id": "SaYOS129l2SA"
   },
   "outputs": [
    {
     "name": "stdout",
     "output_type": "stream",
     "text": [
      "ingrese el valor de n2\n",
      "1\n",
      "2\n",
      "1.5\n"
     ]
    }
   ],
   "source": [
    "n = int(input(\"ingrese el valor de n\"))\n",
    "result = 0.0\n",
    "for k in range(1,n+1):\n",
    "    print(k)\n",
    "    result += 1/k\n",
    "print(result)"
   ]
  },
  {
   "cell_type": "markdown",
   "metadata": {
    "id": "vixMA4U_mtmk"
   },
   "source": [
    "2. Escriba un programa que lea los\n",
    "nombres de la lista de participantes\n",
    "de una reunión e imprima el número\n",
    "total de caracteres (letras) de los\n",
    "nombres de todos los participantes"
   ]
  },
  {
   "cell_type": "code",
   "execution_count": 6,
   "metadata": {
    "id": "669bk_Afmuex"
   },
   "outputs": [
    {
     "name": "stdout",
     "output_type": "stream",
     "text": [
      "6\n",
      "6\n",
      "5\n",
      "6\n"
     ]
    }
   ],
   "source": [
    "nombres = ['andrea','felipe','mateo','carlos']\n",
    "\n",
    "for nombre in nombres:\n",
    "    print(len(nombre))"
   ]
  },
  {
   "cell_type": "markdown",
   "metadata": {
    "id": "qVwLtLZvmwLY"
   },
   "source": [
    "3. Escriba un programa que pregunte la\n",
    "cantidad de notas de un estudiante\n",
    "en el semestre, luego pregunte por\n",
    "cada una ellas, las promedie e\n",
    "imprima la nota final"
   ]
  },
  {
   "cell_type": "code",
   "execution_count": 10,
   "metadata": {
    "id": "uqdkWDrnm3Br"
   },
   "outputs": [
    {
     "name": "stdout",
     "output_type": "stream",
     "text": [
      "ingrese la cantidad de notas2\n",
      "ingrese el valor de la nota 13\n",
      "ingrese el valor de la nota 24.5\n",
      "3.75\n"
     ]
    }
   ],
   "source": [
    "cantidadNotas = int(input(\"ingrese la cantidad de notas\"))\n",
    "notas = []\n",
    "for i in range(cantidadNotas):\n",
    "    notas.append(float(input('ingrese el valor de la nota '+str(i+1))))\n",
    "\n",
    "numerador = 0\n",
    "for nota in notas:\n",
    "    numerador += nota\n",
    "\n",
    "promedio = numerador/cantidadNotas\n",
    "\n",
    "print(promedio)"
   ]
  },
  {
   "cell_type": "markdown",
   "metadata": {
    "id": "XR9TRMY7m7Ar"
   },
   "source": [
    "4. Escriba un programa que permita\n",
    "leer n números enteros, luego lea un\n",
    "(1) número y diga cuántas veces se\n",
    "encuentra dicho número en el listado\n",
    "inicial"
   ]
  },
  {
   "cell_type": "code",
   "execution_count": 5,
   "metadata": {
    "id": "gPQWEpOinWHk"
   },
   "outputs": [
    {
     "name": "stdout",
     "output_type": "stream",
     "text": [
      "ingrese el valor o la opcion salir(fin)1\n",
      "ingrese el valor o la opcion salir(fin)4\n",
      "ingrese el valor o la opcion salir(fin)3\n",
      "ingrese el valor o la opcion salir(fin)5\n",
      "ingrese el valor o la opcion salir(fin)4\n",
      "ingrese el valor o la opcion salir(fin)3\n",
      "ingrese el valor o la opcion salir(fin)fin\n",
      "numero que desea buscar3\n",
      "<class 'int'>\n",
      "el numero  3 aparece:  2  veces\n"
     ]
    }
   ],
   "source": [
    "entrada = \"\"\n",
    "numeros = []\n",
    "while(entrada != 'fin'):\n",
    "    entrada = input(\"ingrese el valor o la opcion salir(fin)\")\n",
    "    if(entrada != 'fin'):\n",
    "        numeros.append(int(entrada))\n",
    "num = int(input('numero que desea buscar'))\n",
    "contador = 0\n",
    "for numero in numeros:\n",
    "    if(numero == num):\n",
    "        contador += 1\n",
    "print(\"el numero \",num ,\"aparece: \",contador,\" veces\")"
   ]
  },
  {
   "cell_type": "code",
   "execution_count": 1,
   "metadata": {},
   "outputs": [
    {
     "data": {
      "text/plain": [
       "str"
      ]
     },
     "execution_count": 1,
     "metadata": {},
     "output_type": "execute_result"
    }
   ],
   "source": [
    "type(\"fin\")"
   ]
  },
  {
   "cell_type": "markdown",
   "metadata": {
    "id": "WjWyCzY2nWwP"
   },
   "source": [
    "5. Escribir un programa que almacene en una lista los números del 1 al 10 y los muestre por pantalla en orden inverso separados por comas."
   ]
  },
  {
   "cell_type": "code",
   "execution_count": 13,
   "metadata": {
    "id": "BMQtDaxQn78u"
   },
   "outputs": [
    {
     "name": "stdout",
     "output_type": "stream",
     "text": [
      "10\n",
      "9\n",
      "8\n",
      "7\n",
      "6\n",
      "5\n",
      "4\n",
      "3\n",
      "2\n",
      "1\n",
      "10\n",
      "9\n",
      "8\n",
      "7\n",
      "6\n",
      "5\n",
      "4\n",
      "3\n",
      "2\n",
      "1\n"
     ]
    }
   ],
   "source": [
    "numeros = [1,2,3,4,5,6,7,8,9,10]\n",
    "\n",
    "for numero in reversed(numeros):\n",
    "    print(numero)\n",
    "\n",
    "for i in range(len(numeros)-1,-1,-1):\n",
    "    print(numeros[i])"
   ]
  },
  {
   "cell_type": "markdown",
   "metadata": {
    "id": "yNEAvoaWoG4_"
   },
   "source": [
    "6. Escribir un programa que almacene en una lista los siguientes precios, 50, 75, 46, 22, 80, 65, 8, y muestre por pantalla el menor y el mayor de los precios."
   ]
  },
  {
   "cell_type": "code",
   "execution_count": 15,
   "metadata": {
    "id": "LorPvXSboH-B"
   },
   "outputs": [
    {
     "name": "stdout",
     "output_type": "stream",
     "text": [
      "el precio minimo es:  8\n",
      "el precio minimo es:  80\n",
      "maximo  80  minimo  8\n"
     ]
    }
   ],
   "source": [
    "precios = [50,75,46,22,80,65,8]\n",
    "\n",
    "print(\"el precio minimo es: \",min(precios))\n",
    "print(\"el precio minimo es: \",max(precios))\n",
    "\n",
    "#### a pie ######\n",
    "minimo = 1000000\n",
    "maximo = 0\n",
    "\n",
    "for precio in precios:\n",
    "    if(precio < minimo):\n",
    "        minimo = precio\n",
    "    elif(precio > maximo):\n",
    "        maximo = precio\n",
    "\n",
    "print('maximo ',maximo,' minimo ',minimo)\n"
   ]
  },
  {
   "cell_type": "markdown",
   "metadata": {
    "id": "_Yk8lseTodst"
   },
   "source": [
    "7. Escribir un programa que guarde en un diccionario los precios de las frutas de la tabla, pregunte al usuario por una fruta, un número de kilos y muestre por pantalla el precio de ese número de kilos de fruta. Si la fruta no está en el diccionario debe mostrar un mensaje informando de ello.\n",
    "\n",
    "| Fruta | Precio|\n",
    "|:-|:-:|\n",
    "|Plátano | 1.35 |\n",
    "|Manzana | 0.80|\n",
    "|Pera| 0.85|\n",
    "|Naranja | 0.70|\n"
   ]
  },
  {
   "cell_type": "code",
   "execution_count": 21,
   "metadata": {},
   "outputs": [
    {
     "name": "stdout",
     "output_type": "stream",
     "text": [
      "ingrese la fruta: Pera\n",
      "cantidad de kilos4\n",
      "le valen  3.4\n"
     ]
    }
   ],
   "source": [
    "precios ={\n",
    "    \"Platano\":1.35,\n",
    "    \"Manzana\":0.8,\n",
    "    \"Pera\":0.85,\n",
    "    \"Naranja\":0.70\n",
    "}\n",
    "\n",
    "fruta = input(\"ingrese la fruta: \")\n",
    "\n",
    "if fruta not in precios:\n",
    "    print('no tengo')\n",
    "else:\n",
    "    kilos = float(input(\"cantidad de kilos\"))\n",
    "    print('le valen ',precios[fruta]*kilos)"
   ]
  },
  {
   "cell_type": "markdown",
   "metadata": {
    "id": "Q97xsDVnorV7"
   },
   "source": [
    "8. Escribir un programa que almacene el diccionario con los créditos de las asignaturas de un curso {'Matemáticas': 6, 'Física': 4, 'Química': 5} y después muestre por pantalla los créditos de cada asignatura en el formato <asignatura> tiene <créditos> créditos, donde <asignatura> es cada una de las asignaturas del curso, y <créditos> son sus créditos. Al final debe mostrar también el número total de créditos del curso."
   ]
  },
  {
   "cell_type": "code",
   "execution_count": 17,
   "metadata": {
    "id": "ggsx1rH5oev9"
   },
   "outputs": [
    {
     "name": "stdout",
     "output_type": "stream",
     "text": [
      "la asignatura  Matematicas  tiene  6  creditos\n",
      "la asignatura  Fisica  tiene  4  creditos\n",
      "la asignatura  Quimica  tiene  5  creditos\n",
      "el total es:  15\n"
     ]
    }
   ],
   "source": [
    "creditos = {\n",
    "    \"Matematicas\":6,\n",
    "    \"Fisica\":4,\n",
    "    \"Quimica\":5\n",
    "}\n",
    "totalCr = 0\n",
    "for clave,valor in creditos.items():\n",
    "    print(\"la asignatura \",clave,\" tiene \",valor,\" creditos\")\n",
    "    totalCr += valor\n",
    "print(\"el total es: \",totalCr)"
   ]
  },
  {
   "cell_type": "markdown",
   "metadata": {
    "id": "FAa-CU_Ppx7S"
   },
   "source": [
    "9. Imprima todos los valores de la lista hasta donde encuentre el primer numero par..."
   ]
  },
  {
   "cell_type": "code",
   "execution_count": 19,
   "metadata": {
    "id": "6vAGob_YrVJU"
   },
   "outputs": [
    {
     "name": "stdout",
     "output_type": "stream",
     "text": [
      "3\n",
      "7\n",
      "21\n",
      "43\n",
      "41\n",
      "57\n",
      "77\n",
      "67\n",
      "63\n",
      "25\n",
      "81\n",
      "89\n",
      "97\n",
      "53\n",
      "31\n",
      "35\n",
      "33\n",
      "22\n"
     ]
    }
   ],
   "source": [
    "valores=[3,7,21,43,41,57,77,67,63,25,81,89,97,53,31,35,33,22,58,40,28,21,44]\n",
    "\n",
    "for valor in valores:\n",
    "    print(valor)\n",
    "    if valor % 2 == 0:\n",
    "        break\n",
    "    \n",
    "\n",
    "    "
   ]
  },
  {
   "cell_type": "code",
   "execution_count": null,
   "metadata": {},
   "outputs": [],
   "source": []
  }
 ],
 "metadata": {
  "colab": {
   "collapsed_sections": [],
   "name": "Ejercicios estudiantes S2.ipynb",
   "provenance": []
  },
  "kernelspec": {
   "display_name": "Python 3 (ipykernel)",
   "language": "python",
   "name": "python3"
  },
  "language_info": {
   "codemirror_mode": {
    "name": "ipython",
    "version": 3
   },
   "file_extension": ".py",
   "mimetype": "text/x-python",
   "name": "python",
   "nbconvert_exporter": "python",
   "pygments_lexer": "ipython3",
   "version": "3.9.7"
  }
 },
 "nbformat": 4,
 "nbformat_minor": 1
}
