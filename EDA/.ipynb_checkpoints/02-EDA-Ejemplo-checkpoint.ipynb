{
 "cells": [
  {
   "cell_type": "markdown",
   "id": "f0889115",
   "metadata": {},
   "source": [
    "# Fundamentos de Analítica I\n",
    "# Ejemplo de Análisis Exploratorio de Datos en Python\n"
   ]
  },
  {
   "cell_type": "markdown",
   "id": "b354dfad",
   "metadata": {},
   "source": [
    "El dataset que vamos analizar contiene registros de pacientes con síntomas de problemas cardíacos.\n",
    "Se tienen los datos provenientes bases de datos de enfermedades del corazón, provenientes de diferentes centros médicos:\n",
    "- Cleveland Clinic Foundation\n",
    "- Hungarian Institute of Cardiology, Budapest\n",
    "- University Hospital, Zurich, & University Hospital, Basel, Switzerland "
   ]
  },
  {
   "cell_type": "markdown",
   "id": "097fef1c",
   "metadata": {},
   "source": [
    "Los campos del dataset son los siguientes:\n",
    "1. ciudad: ciudad del paciente (Cleveland, Hungria, Suiza)\n",
    "2. edad: en años\n",
    "3. sexo: \"1\"=hombre, \"0\"=mujer\n",
    "4. tipo_dolor: tipo de dolor de pecho (\"1\"=angina típico, \"2\"=angina atípico, \"3\"=dolor no de angina, \"4\"=sin síntoma de dolor)\n",
    "5. presion: presión de la sangre en reposo (en mm/Hg, en el momento de admisión al hospital)\n",
    "6. colesterol: en densidad del colesterol (en mg/dl)\n",
    "7. azucar: indica si el nivel de azucar en la sangre en ayunas es superior a 120 mg/dl (\"1\") o no (\"0\")\n",
    "8. ecg: resultado el electro cardiograma (\"0\"=normal, \"1\"=anormalidad del nivel de ST, \"2\"=hipertrofía ventricular probable)\n",
    "9. pulso: frecuencia cardiaca máxima alcanzada\n",
    "10. angina: si se induce a una angina a través del ejercicio (\"1\") o no (\"0\")\n",
    "11. st: diferencia relativa entre el nivel de ST inducido por el ejercicio comparado con el nivel del reposo.\n",
    "12. pendiente: la pendiente de llegada al máximo del nivel ST durante el ejercicio (\"1\"creciente, \"2\"=plana, \"3\"=decreciente)\n",
    "13. venas: número de venas coloreadas a partir de la fluorescopia (0 a 3)\n",
    "14. thal: tipo de defecto (valores aceptados 3=normal, 4=defecto arreglado, 7=defecto reversible)\n",
    "15. target: indica si en efecto el paciente presenta una enfermedad cardiaca (\"1\", \"2\", \"3\", \"4\") o no (\"0\")"
   ]
  },
  {
   "cell_type": "markdown",
   "id": "0818ae2c",
   "metadata": {},
   "source": [
    "# Entendimiento de los datos, limpieza"
   ]
  },
  {
   "cell_type": "markdown",
   "id": "9a7331bf",
   "metadata": {},
   "source": [
    "El archivo \"DatosCorazon.csv\" contiene el dataset que a analizar."
   ]
  },
  {
   "cell_type": "markdown",
   "id": "02759150",
   "metadata": {},
   "source": [
    "Vamos a realizar un análisis exploratorio de los datos estableciendo el baseline, verificando la calidad de los datos (tipos de las variables, valores inválidos, excepciones, valores faltantes, etc.), utilizando gráficos para poder entender las distribuciones de los datos e identificar posibles problemas."
   ]
  },
  {
   "cell_type": "markdown",
   "id": "3e8ce28a",
   "metadata": {},
   "source": [
    "# 1 Carga y baselines pre-limpieza de datos"
   ]
  },
  {
   "cell_type": "code",
   "execution_count": 1,
   "id": "939d1496",
   "metadata": {},
   "outputs": [],
   "source": [
    "import pandas as pd #tratamiento de datos\n",
    "import numpy as np #operaciones matriciales y con vectores\n",
    "import matplotlib.pyplot as plt #gráficos\n",
    "import seaborn as sns\n",
    "\n",
    "import warnings\n",
    "warnings.filterwarnings('ignore')"
   ]
  },
  {
   "cell_type": "markdown",
   "id": "39e04a38",
   "metadata": {},
   "source": [
    "Cargamos los datos en memoria y visualizamos los datos iniciales y resumidos."
   ]
  },
  {
   "cell_type": "code",
   "execution_count": 2,
   "id": "95405eb0",
   "metadata": {},
   "outputs": [
    {
     "data": {
      "text/html": [
       "<div>\n",
       "<style scoped>\n",
       "    .dataframe tbody tr th:only-of-type {\n",
       "        vertical-align: middle;\n",
       "    }\n",
       "\n",
       "    .dataframe tbody tr th {\n",
       "        vertical-align: top;\n",
       "    }\n",
       "\n",
       "    .dataframe thead th {\n",
       "        text-align: right;\n",
       "    }\n",
       "</style>\n",
       "<table border=\"1\" class=\"dataframe\">\n",
       "  <thead>\n",
       "    <tr style=\"text-align: right;\">\n",
       "      <th></th>\n",
       "      <th>0</th>\n",
       "      <th>1</th>\n",
       "      <th>2</th>\n",
       "      <th>3</th>\n",
       "      <th>4</th>\n",
       "      <th>5</th>\n",
       "      <th>6</th>\n",
       "      <th>7</th>\n",
       "      <th>8</th>\n",
       "      <th>9</th>\n",
       "      <th>10</th>\n",
       "      <th>11</th>\n",
       "      <th>12</th>\n",
       "      <th>13</th>\n",
       "      <th>14</th>\n",
       "    </tr>\n",
       "  </thead>\n",
       "  <tbody>\n",
       "    <tr>\n",
       "      <th>0</th>\n",
       "      <td>Cleveland</td>\n",
       "      <td>63.0</td>\n",
       "      <td>1</td>\n",
       "      <td>1</td>\n",
       "      <td>145.0</td>\n",
       "      <td>233.0</td>\n",
       "      <td>1</td>\n",
       "      <td>2</td>\n",
       "      <td>150.0</td>\n",
       "      <td>0</td>\n",
       "      <td>2.3</td>\n",
       "      <td>3</td>\n",
       "      <td>0</td>\n",
       "      <td>6</td>\n",
       "      <td>0</td>\n",
       "    </tr>\n",
       "    <tr>\n",
       "      <th>1</th>\n",
       "      <td>Cleveland</td>\n",
       "      <td>67.0</td>\n",
       "      <td>1</td>\n",
       "      <td>4</td>\n",
       "      <td>160.0</td>\n",
       "      <td>286.0</td>\n",
       "      <td>0</td>\n",
       "      <td>2</td>\n",
       "      <td>108.0</td>\n",
       "      <td>1</td>\n",
       "      <td>1.5</td>\n",
       "      <td>2</td>\n",
       "      <td>3</td>\n",
       "      <td>3</td>\n",
       "      <td>2</td>\n",
       "    </tr>\n",
       "    <tr>\n",
       "      <th>2</th>\n",
       "      <td>Cleveland</td>\n",
       "      <td>67.0</td>\n",
       "      <td>1</td>\n",
       "      <td>4</td>\n",
       "      <td>120.0</td>\n",
       "      <td>229.0</td>\n",
       "      <td>0</td>\n",
       "      <td>2</td>\n",
       "      <td>129.0</td>\n",
       "      <td>1</td>\n",
       "      <td>2.6</td>\n",
       "      <td>2</td>\n",
       "      <td>2</td>\n",
       "      <td>7</td>\n",
       "      <td>1</td>\n",
       "    </tr>\n",
       "    <tr>\n",
       "      <th>3</th>\n",
       "      <td>Cleveland</td>\n",
       "      <td>37.0</td>\n",
       "      <td>1</td>\n",
       "      <td>3</td>\n",
       "      <td>130.0</td>\n",
       "      <td>250.0</td>\n",
       "      <td>0</td>\n",
       "      <td>0</td>\n",
       "      <td>187.0</td>\n",
       "      <td>0</td>\n",
       "      <td>3.5</td>\n",
       "      <td>3</td>\n",
       "      <td>0</td>\n",
       "      <td>3</td>\n",
       "      <td>0</td>\n",
       "    </tr>\n",
       "    <tr>\n",
       "      <th>4</th>\n",
       "      <td>Cleveland</td>\n",
       "      <td>41.0</td>\n",
       "      <td>0</td>\n",
       "      <td>2</td>\n",
       "      <td>130.0</td>\n",
       "      <td>204.0</td>\n",
       "      <td>0</td>\n",
       "      <td>2</td>\n",
       "      <td>172.0</td>\n",
       "      <td>0</td>\n",
       "      <td>1.4</td>\n",
       "      <td>1</td>\n",
       "      <td>0</td>\n",
       "      <td>3</td>\n",
       "      <td>0</td>\n",
       "    </tr>\n",
       "  </tbody>\n",
       "</table>\n",
       "</div>"
      ],
      "text/plain": [
       "          0     1   2   3      4      5  6  7      8  9    10 11 12 13  14\n",
       "0  Cleveland  63.0   1   1  145.0  233.0  1  2  150.0  0  2.3  3  0  6   0\n",
       "1  Cleveland  67.0   1   4  160.0  286.0  0  2  108.0  1  1.5  2  3  3   2\n",
       "2  Cleveland  67.0   1   4  120.0  229.0  0  2  129.0  1  2.6  2  2  7   1\n",
       "3  Cleveland  37.0   1   3  130.0  250.0  0  0  187.0  0  3.5  3  0  3   0\n",
       "4  Cleveland  41.0   0   2  130.0  204.0  0  2  172.0  0  1.4  1  0  3   0"
      ]
     },
     "execution_count": 2,
     "metadata": {},
     "output_type": "execute_result"
    }
   ],
   "source": [
    "data = pd.read_csv('DatosCorazon.csv',sep=\";\",header=None)\n",
    "data.head()"
   ]
  },
  {
   "cell_type": "markdown",
   "id": "7cc86df1",
   "metadata": {},
   "source": [
    "Los campos no vienen con los datos, por lo que los especificamos directamente"
   ]
  },
  {
   "cell_type": "code",
   "execution_count": 3,
   "id": "c5acee91",
   "metadata": {},
   "outputs": [
    {
     "data": {
      "text/html": [
       "<div>\n",
       "<style scoped>\n",
       "    .dataframe tbody tr th:only-of-type {\n",
       "        vertical-align: middle;\n",
       "    }\n",
       "\n",
       "    .dataframe tbody tr th {\n",
       "        vertical-align: top;\n",
       "    }\n",
       "\n",
       "    .dataframe thead th {\n",
       "        text-align: right;\n",
       "    }\n",
       "</style>\n",
       "<table border=\"1\" class=\"dataframe\">\n",
       "  <thead>\n",
       "    <tr style=\"text-align: right;\">\n",
       "      <th></th>\n",
       "      <th>ciudad</th>\n",
       "      <th>edad</th>\n",
       "      <th>sexo</th>\n",
       "      <th>tipo_dolor</th>\n",
       "      <th>presion</th>\n",
       "      <th>colesterol</th>\n",
       "      <th>azucar</th>\n",
       "      <th>ecg</th>\n",
       "      <th>pulso</th>\n",
       "      <th>angina</th>\n",
       "      <th>st</th>\n",
       "      <th>pendiente</th>\n",
       "      <th>venas</th>\n",
       "      <th>thal</th>\n",
       "      <th>target</th>\n",
       "    </tr>\n",
       "  </thead>\n",
       "  <tbody>\n",
       "    <tr>\n",
       "      <th>0</th>\n",
       "      <td>Cleveland</td>\n",
       "      <td>63.0</td>\n",
       "      <td>1</td>\n",
       "      <td>1</td>\n",
       "      <td>145.0</td>\n",
       "      <td>233.0</td>\n",
       "      <td>1</td>\n",
       "      <td>2</td>\n",
       "      <td>150.0</td>\n",
       "      <td>0</td>\n",
       "      <td>2.3</td>\n",
       "      <td>3</td>\n",
       "      <td>0</td>\n",
       "      <td>6</td>\n",
       "      <td>0</td>\n",
       "    </tr>\n",
       "    <tr>\n",
       "      <th>1</th>\n",
       "      <td>Cleveland</td>\n",
       "      <td>67.0</td>\n",
       "      <td>1</td>\n",
       "      <td>4</td>\n",
       "      <td>160.0</td>\n",
       "      <td>286.0</td>\n",
       "      <td>0</td>\n",
       "      <td>2</td>\n",
       "      <td>108.0</td>\n",
       "      <td>1</td>\n",
       "      <td>1.5</td>\n",
       "      <td>2</td>\n",
       "      <td>3</td>\n",
       "      <td>3</td>\n",
       "      <td>2</td>\n",
       "    </tr>\n",
       "    <tr>\n",
       "      <th>2</th>\n",
       "      <td>Cleveland</td>\n",
       "      <td>67.0</td>\n",
       "      <td>1</td>\n",
       "      <td>4</td>\n",
       "      <td>120.0</td>\n",
       "      <td>229.0</td>\n",
       "      <td>0</td>\n",
       "      <td>2</td>\n",
       "      <td>129.0</td>\n",
       "      <td>1</td>\n",
       "      <td>2.6</td>\n",
       "      <td>2</td>\n",
       "      <td>2</td>\n",
       "      <td>7</td>\n",
       "      <td>1</td>\n",
       "    </tr>\n",
       "    <tr>\n",
       "      <th>3</th>\n",
       "      <td>Cleveland</td>\n",
       "      <td>37.0</td>\n",
       "      <td>1</td>\n",
       "      <td>3</td>\n",
       "      <td>130.0</td>\n",
       "      <td>250.0</td>\n",
       "      <td>0</td>\n",
       "      <td>0</td>\n",
       "      <td>187.0</td>\n",
       "      <td>0</td>\n",
       "      <td>3.5</td>\n",
       "      <td>3</td>\n",
       "      <td>0</td>\n",
       "      <td>3</td>\n",
       "      <td>0</td>\n",
       "    </tr>\n",
       "    <tr>\n",
       "      <th>4</th>\n",
       "      <td>Cleveland</td>\n",
       "      <td>41.0</td>\n",
       "      <td>0</td>\n",
       "      <td>2</td>\n",
       "      <td>130.0</td>\n",
       "      <td>204.0</td>\n",
       "      <td>0</td>\n",
       "      <td>2</td>\n",
       "      <td>172.0</td>\n",
       "      <td>0</td>\n",
       "      <td>1.4</td>\n",
       "      <td>1</td>\n",
       "      <td>0</td>\n",
       "      <td>3</td>\n",
       "      <td>0</td>\n",
       "    </tr>\n",
       "  </tbody>\n",
       "</table>\n",
       "</div>"
      ],
      "text/plain": [
       "      ciudad  edad  sexo  tipo_dolor presion colesterol azucar ecg  pulso  \\\n",
       "0  Cleveland  63.0     1           1   145.0      233.0      1   2  150.0   \n",
       "1  Cleveland  67.0     1           4   160.0      286.0      0   2  108.0   \n",
       "2  Cleveland  67.0     1           4   120.0      229.0      0   2  129.0   \n",
       "3  Cleveland  37.0     1           3   130.0      250.0      0   0  187.0   \n",
       "4  Cleveland  41.0     0           2   130.0      204.0      0   2  172.0   \n",
       "\n",
       "  angina   st pendiente venas thal  target  \n",
       "0      0  2.3         3     0    6       0  \n",
       "1      1  1.5         2     3    3       2  \n",
       "2      1  2.6         2     2    7       1  \n",
       "3      0  3.5         3     0    3       0  \n",
       "4      0  1.4         1     0    3       0  "
      ]
     },
     "execution_count": 3,
     "metadata": {},
     "output_type": "execute_result"
    }
   ],
   "source": [
    "colnames = [\"ciudad\", \"edad\", \"sexo\", \"tipo_dolor\", \"presion\", \"colesterol\", \"azucar\", \"ecg\", \"pulso\", \"angina\", \n",
    "         \"st\", \"pendiente\", \"venas\", \"thal\", \"target\"]\n",
    "data.columns=colnames\n",
    "data.head()"
   ]
  },
  {
   "cell_type": "markdown",
   "id": "3d5eb1db",
   "metadata": {},
   "source": [
    "Vamos a arreglar la variable categórica. Primero establecemos los 2 valores posibles.\n",
    "Modificamos reemplazando los 4 valores que se considerarán como positivos."
   ]
  },
  {
   "cell_type": "code",
   "execution_count": 4,
   "id": "bbfb2c79",
   "metadata": {},
   "outputs": [
    {
     "data": {
      "text/plain": [
       "<AxesSubplot:xlabel='target', ylabel='count'>"
      ]
     },
     "execution_count": 4,
     "metadata": {},
     "output_type": "execute_result"
    },
    {
     "data": {
      "image/png": "[encoded data removed]",
      "text/plain": [
       "<Figure size 576x576 with 1 Axes>"
      ]
     },
     "metadata": {
      "needs_background": "light"
     },
     "output_type": "display_data"
    }
   ],
   "source": [
    "plt.figure(figsize=(8,8))\n",
    "sns.countplot(x=\"target\", data=data)"
   ]
  },
  {
   "cell_type": "markdown",
   "id": "cff17165",
   "metadata": {},
   "source": [
    "Vamos a ver la cantidad de observaciones por categoría de la variable objetivo"
   ]
  },
  {
   "cell_type": "code",
   "execution_count": 5,
   "id": "97bb15be",
   "metadata": {},
   "outputs": [
    {
     "data": {
      "text/html": [
       "<div>\n",
       "<style scoped>\n",
       "    .dataframe tbody tr th:only-of-type {\n",
       "        vertical-align: middle;\n",
       "    }\n",
       "\n",
       "    .dataframe tbody tr th {\n",
       "        vertical-align: top;\n",
       "    }\n",
       "\n",
       "    .dataframe thead th {\n",
       "        text-align: right;\n",
       "    }\n",
       "</style>\n",
       "<table border=\"1\" class=\"dataframe\">\n",
       "  <thead>\n",
       "    <tr style=\"text-align: right;\">\n",
       "      <th>col_0</th>\n",
       "      <th>count</th>\n",
       "    </tr>\n",
       "    <tr>\n",
       "      <th>target</th>\n",
       "      <th></th>\n",
       "    </tr>\n",
       "  </thead>\n",
       "  <tbody>\n",
       "    <tr>\n",
       "      <th>0</th>\n",
       "      <td>360</td>\n",
       "    </tr>\n",
       "    <tr>\n",
       "      <th>1</th>\n",
       "      <td>209</td>\n",
       "    </tr>\n",
       "    <tr>\n",
       "      <th>2</th>\n",
       "      <td>68</td>\n",
       "    </tr>\n",
       "    <tr>\n",
       "      <th>3</th>\n",
       "      <td>65</td>\n",
       "    </tr>\n",
       "    <tr>\n",
       "      <th>4</th>\n",
       "      <td>18</td>\n",
       "    </tr>\n",
       "  </tbody>\n",
       "</table>\n",
       "</div>"
      ],
      "text/plain": [
       "col_0   count\n",
       "target       \n",
       "0         360\n",
       "1         209\n",
       "2          68\n",
       "3          65\n",
       "4          18"
      ]
     },
     "execution_count": 5,
     "metadata": {},
     "output_type": "execute_result"
    }
   ],
   "source": [
    "pd.crosstab(index=data[\"target\"], columns=\"count\")"
   ]
  },
  {
   "cell_type": "markdown",
   "id": "40aa05dc",
   "metadata": {},
   "source": [
    "Vamos a convertir todas aquellas observaciones con variable objetivo positiva como 1"
   ]
  },
  {
   "cell_type": "code",
   "execution_count": 6,
   "id": "d6e03029",
   "metadata": {},
   "outputs": [],
   "source": [
    "data.loc[(data.target > 0), \"target\"] = 1"
   ]
  },
  {
   "cell_type": "markdown",
   "id": "2a875e68",
   "metadata": {},
   "source": [
    "### Baseline global"
   ]
  },
  {
   "cell_type": "code",
   "execution_count": 7,
   "id": "f22dc277",
   "metadata": {},
   "outputs": [
    {
     "data": {
      "text/plain": [
       "<AxesSubplot:xlabel='target', ylabel='count'>"
      ]
     },
     "execution_count": 7,
     "metadata": {},
     "output_type": "execute_result"
    },
    {
     "data": {
      "image/png": "[encoded data removed]",
      "text/plain": [
       "<Figure size 576x576 with 1 Axes>"
      ]
     },
     "metadata": {
      "needs_background": "light"
     },
     "output_type": "display_data"
    }
   ],
   "source": [
    "plt.figure(figsize=(8,8))\n",
    "sns.countplot(x='target',data=data)"
   ]
  },
  {
   "cell_type": "markdown",
   "id": "45909b94",
   "metadata": {},
   "source": [
    "La variable objetivo debería ser categórica, por tal razón hacemos la conversión"
   ]
  },
  {
   "cell_type": "code",
   "execution_count": 8,
   "id": "88f6db28",
   "metadata": {},
   "outputs": [
    {
     "name": "stdout",
     "output_type": "stream",
     "text": [
      "<class 'pandas.core.frame.DataFrame'>\n",
      "RangeIndex: 720 entries, 0 to 719\n",
      "Data columns (total 15 columns):\n",
      " #   Column      Non-Null Count  Dtype  \n",
      "---  ------      --------------  -----  \n",
      " 0   ciudad      720 non-null    object \n",
      " 1   edad        720 non-null    float64\n",
      " 2   sexo        720 non-null    int64  \n",
      " 3   tipo_dolor  720 non-null    int64  \n",
      " 4   presion     720 non-null    object \n",
      " 5   colesterol  720 non-null    object \n",
      " 6   azucar      720 non-null    object \n",
      " 7   ecg         720 non-null    object \n",
      " 8   pulso       720 non-null    object \n",
      " 9   angina      720 non-null    object \n",
      " 10  st          720 non-null    object \n",
      " 11  pendiente   720 non-null    object \n",
      " 12  venas       720 non-null    object \n",
      " 13  thal        720 non-null    object \n",
      " 14  target      720 non-null    int64  \n",
      "dtypes: float64(1), int64(3), object(11)\n",
      "memory usage: 84.5+ KB\n"
     ]
    }
   ],
   "source": [
    "data.info()"
   ]
  },
  {
   "cell_type": "code",
   "execution_count": 9,
   "id": "63344d14",
   "metadata": {},
   "outputs": [],
   "source": [
    "data.target = data.target.astype(str)"
   ]
  },
  {
   "cell_type": "code",
   "execution_count": 10,
   "id": "f52800f9",
   "metadata": {},
   "outputs": [
    {
     "data": {
      "text/html": [
       "<div>\n",
       "<style scoped>\n",
       "    .dataframe tbody tr th:only-of-type {\n",
       "        vertical-align: middle;\n",
       "    }\n",
       "\n",
       "    .dataframe tbody tr th {\n",
       "        vertical-align: top;\n",
       "    }\n",
       "\n",
       "    .dataframe thead th {\n",
       "        text-align: right;\n",
       "    }\n",
       "</style>\n",
       "<table border=\"1\" class=\"dataframe\">\n",
       "  <thead>\n",
       "    <tr style=\"text-align: right;\">\n",
       "      <th>col_0</th>\n",
       "      <th>count</th>\n",
       "    </tr>\n",
       "    <tr>\n",
       "      <th>target</th>\n",
       "      <th></th>\n",
       "    </tr>\n",
       "  </thead>\n",
       "  <tbody>\n",
       "    <tr>\n",
       "      <th>0</th>\n",
       "      <td>360</td>\n",
       "    </tr>\n",
       "    <tr>\n",
       "      <th>1</th>\n",
       "      <td>360</td>\n",
       "    </tr>\n",
       "  </tbody>\n",
       "</table>\n",
       "</div>"
      ],
      "text/plain": [
       "col_0   count\n",
       "target       \n",
       "0         360\n",
       "1         360"
      ]
     },
     "execution_count": 10,
     "metadata": {},
     "output_type": "execute_result"
    }
   ],
   "source": [
    "pd.crosstab(index=data[\"target\"], columns=\"count\")"
   ]
  },
  {
   "cell_type": "code",
   "execution_count": 11,
   "id": "9e524b63",
   "metadata": {},
   "outputs": [
    {
     "data": {
      "text/plain": [
       "(720, 15)"
      ]
     },
     "execution_count": 11,
     "metadata": {},
     "output_type": "execute_result"
    }
   ],
   "source": [
    "data.shape"
   ]
  },
  {
   "cell_type": "code",
   "execution_count": 12,
   "id": "b4d8c800",
   "metadata": {},
   "outputs": [
    {
     "data": {
      "text/plain": [
       "50.0"
      ]
     },
     "execution_count": 12,
     "metadata": {},
     "output_type": "execute_result"
    }
   ],
   "source": [
    "data['target'][data['target'] == '0'].count()/data.shape[0]*100"
   ]
  },
  {
   "cell_type": "markdown",
   "id": "515b3f58",
   "metadata": {},
   "source": [
    "Observamos que el baseline global es de 50%, con las dos clases igualmente representadas en perfecto balance."
   ]
  },
  {
   "cell_type": "markdown",
   "id": "9beea2fe",
   "metadata": {},
   "source": [
    "### Baseline por ciudad"
   ]
  },
  {
   "cell_type": "code",
   "execution_count": 13,
   "id": "ab4f41aa",
   "metadata": {},
   "outputs": [
    {
     "data": {
      "text/plain": [
       "<AxesSubplot:xlabel='ciudad', ylabel='count'>"
      ]
     },
     "execution_count": 13,
     "metadata": {},
     "output_type": "execute_result"
    },
    {
     "data": {
      "image/png": "[encoded data removed]",
      "text/plain": [
       "<Figure size 576x576 with 1 Axes>"
      ]
     },
     "metadata": {
      "needs_background": "light"
     },
     "output_type": "display_data"
    }
   ],
   "source": [
    "plt.figure(figsize=(8,8))\n",
    "sns.countplot(x='ciudad',data=data)"
   ]
  },
  {
   "cell_type": "code",
   "execution_count": 14,
   "id": "26a44f7a",
   "metadata": {},
   "outputs": [
    {
     "data": {
      "text/html": [
       "<div>\n",
       "<style scoped>\n",
       "    .dataframe tbody tr th:only-of-type {\n",
       "        vertical-align: middle;\n",
       "    }\n",
       "\n",
       "    .dataframe tbody tr th {\n",
       "        vertical-align: top;\n",
       "    }\n",
       "\n",
       "    .dataframe thead th {\n",
       "        text-align: right;\n",
       "    }\n",
       "</style>\n",
       "<table border=\"1\" class=\"dataframe\">\n",
       "  <thead>\n",
       "    <tr style=\"text-align: right;\">\n",
       "      <th>col_0</th>\n",
       "      <th>count</th>\n",
       "    </tr>\n",
       "    <tr>\n",
       "      <th>ciudad</th>\n",
       "      <th></th>\n",
       "    </tr>\n",
       "  </thead>\n",
       "  <tbody>\n",
       "    <tr>\n",
       "      <th>Cleveland</th>\n",
       "      <td>303</td>\n",
       "    </tr>\n",
       "    <tr>\n",
       "      <th>Hungria</th>\n",
       "      <td>294</td>\n",
       "    </tr>\n",
       "    <tr>\n",
       "      <th>Suiza</th>\n",
       "      <td>123</td>\n",
       "    </tr>\n",
       "  </tbody>\n",
       "</table>\n",
       "</div>"
      ],
      "text/plain": [
       "col_0      count\n",
       "ciudad          \n",
       "Cleveland    303\n",
       "Hungria      294\n",
       "Suiza        123"
      ]
     },
     "execution_count": 14,
     "metadata": {},
     "output_type": "execute_result"
    }
   ],
   "source": [
    "pd.crosstab(index=data['ciudad'],columns='count')"
   ]
  },
  {
   "cell_type": "markdown",
   "id": "44ffc840",
   "metadata": {},
   "source": [
    "Vemos que la mayoría de los datos son de Cleveland"
   ]
  },
  {
   "cell_type": "code",
   "execution_count": 15,
   "id": "ed540ad1",
   "metadata": {},
   "outputs": [],
   "source": [
    "dataCleveland=data[data.ciudad==\"Cleveland\"]\n",
    "dataHungria=data[data.ciudad==\"Hungria\"]\n",
    "dataSuiza=data[data.ciudad==\"Suiza\"]"
   ]
  },
  {
   "cell_type": "markdown",
   "id": "91580b86",
   "metadata": {},
   "source": [
    "### Baseline Cleveland"
   ]
  },
  {
   "cell_type": "code",
   "execution_count": 16,
   "id": "fa108358",
   "metadata": {},
   "outputs": [
    {
     "data": {
      "text/plain": [
       "<AxesSubplot:xlabel='target', ylabel='count'>"
      ]
     },
     "execution_count": 16,
     "metadata": {},
     "output_type": "execute_result"
    },
    {
     "data": {
      "image/png": "[encoded data removed]",
      "text/plain": [
       "<Figure size 576x576 with 1 Axes>"
      ]
     },
     "metadata": {
      "needs_background": "light"
     },
     "output_type": "display_data"
    }
   ],
   "source": [
    "plt.figure(figsize=(8,8))\n",
    "sns.countplot(x='target',data=dataCleveland)"
   ]
  },
  {
   "cell_type": "code",
   "execution_count": 17,
   "id": "72877138",
   "metadata": {},
   "outputs": [
    {
     "data": {
      "text/plain": [
       "54.12541254125413"
      ]
     },
     "execution_count": 17,
     "metadata": {},
     "output_type": "execute_result"
    }
   ],
   "source": [
    "dataCleveland['target'][dataCleveland['target'] == '0'].count()/dataCleveland.shape[0]*100"
   ]
  },
  {
   "cell_type": "markdown",
   "id": "3e69c19b",
   "metadata": {},
   "source": [
    "Podemos observar que el 54% de las personas que viven en Cleveland no tienen problemas del corazón"
   ]
  },
  {
   "cell_type": "markdown",
   "id": "2fdb77da",
   "metadata": {},
   "source": [
    "### Baseline Suiza"
   ]
  },
  {
   "cell_type": "code",
   "execution_count": 18,
   "id": "f436ebc1",
   "metadata": {},
   "outputs": [
    {
     "data": {
      "text/plain": [
       "<AxesSubplot:xlabel='target', ylabel='count'>"
      ]
     },
     "execution_count": 18,
     "metadata": {},
     "output_type": "execute_result"
    },
    {
     "data": {
      "image/png": "[encoded data removed]",
      "text/plain": [
       "<Figure size 576x576 with 1 Axes>"
      ]
     },
     "metadata": {
      "needs_background": "light"
     },
     "output_type": "display_data"
    }
   ],
   "source": [
    "plt.figure(figsize=(8,8))\n",
    "sns.countplot(x='target',data=dataSuiza)"
   ]
  },
  {
   "cell_type": "code",
   "execution_count": 19,
   "id": "b1fa81ee",
   "metadata": {},
   "outputs": [
    {
     "data": {
      "text/plain": [
       "93.4959349593496"
      ]
     },
     "execution_count": 19,
     "metadata": {},
     "output_type": "execute_result"
    }
   ],
   "source": [
    "dataSuiza[dataSuiza['target'] == '1']['target'].count()/dataSuiza.shape[0]*100"
   ]
  },
  {
   "cell_type": "markdown",
   "id": "6f9d457d",
   "metadata": {},
   "source": [
    "El baseline de Suiza es que la gente tiene problemas cardíacos en un 93.5%"
   ]
  },
  {
   "cell_type": "markdown",
   "id": "617f7422",
   "metadata": {},
   "source": [
    "### Baseline Hungría"
   ]
  },
  {
   "cell_type": "code",
   "execution_count": 20,
   "id": "29eb5f19",
   "metadata": {},
   "outputs": [
    {
     "data": {
      "text/plain": [
       "<AxesSubplot:xlabel='target', ylabel='count'>"
      ]
     },
     "execution_count": 20,
     "metadata": {},
     "output_type": "execute_result"
    },
    {
     "data": {
      "image/png": "[encoded data removed]",
      "text/plain": [
       "<Figure size 576x576 with 1 Axes>"
      ]
     },
     "metadata": {
      "needs_background": "light"
     },
     "output_type": "display_data"
    }
   ],
   "source": [
    "plt.figure(figsize=(8,8))\n",
    "sns.countplot(x='target',data=dataHungria)"
   ]
  },
  {
   "cell_type": "code",
   "execution_count": 21,
   "id": "15143d40",
   "metadata": {},
   "outputs": [
    {
     "data": {
      "text/plain": [
       "63.94557823129252"
      ]
     },
     "execution_count": 21,
     "metadata": {},
     "output_type": "execute_result"
    }
   ],
   "source": [
    "dataHungria[dataHungria['target'] == '0']['target'].count()/dataHungria.shape[0]*100"
   ]
  },
  {
   "cell_type": "markdown",
   "id": "c37c802d",
   "metadata": {},
   "source": [
    "El Baseline para Hungría es que la gente no tienen problemas cardíacos en un 63.95%"
   ]
  },
  {
   "cell_type": "markdown",
   "id": "43b067c5",
   "metadata": {},
   "source": [
    "Los datasets son bastante diferentes y de pronto no sería bueno utilizarlos conjuntamente. No resulta proudente para diagnosticar un paciente de Cleveland utilizar un modelo aprendido con los tres conjuntos de datos, pues sus niveles de desbalanceo son muy diferentes. La clase positiva tiene una proporción de 50% para Cleveland, 93.5% para Suiza y de 36.05% para Hungría."
   ]
  },
  {
   "cell_type": "markdown",
   "id": "5ec12f20",
   "metadata": {},
   "source": [
    "## 2. Análisis de los problemas de calidad de los datos"
   ]
  },
  {
   "cell_type": "code",
   "execution_count": 22,
   "id": "71234b59",
   "metadata": {},
   "outputs": [
    {
     "name": "stdout",
     "output_type": "stream",
     "text": [
      "<class 'pandas.core.frame.DataFrame'>\n",
      "RangeIndex: 720 entries, 0 to 719\n",
      "Data columns (total 15 columns):\n",
      " #   Column      Non-Null Count  Dtype  \n",
      "---  ------      --------------  -----  \n",
      " 0   ciudad      720 non-null    object \n",
      " 1   edad        720 non-null    float64\n",
      " 2   sexo        720 non-null    int64  \n",
      " 3   tipo_dolor  720 non-null    int64  \n",
      " 4   presion     720 non-null    object \n",
      " 5   colesterol  720 non-null    object \n",
      " 6   azucar      720 non-null    object \n",
      " 7   ecg         720 non-null    object \n",
      " 8   pulso       720 non-null    object \n",
      " 9   angina      720 non-null    object \n",
      " 10  st          720 non-null    object \n",
      " 11  pendiente   720 non-null    object \n",
      " 12  venas       720 non-null    object \n",
      " 13  thal        720 non-null    object \n",
      " 14  target      720 non-null    object \n",
      "dtypes: float64(1), int64(2), object(12)\n",
      "memory usage: 84.5+ KB\n"
     ]
    }
   ],
   "source": [
    "data.info()"
   ]
  },
  {
   "cell_type": "markdown",
   "id": "3657ef9f",
   "metadata": {},
   "source": [
    "Aquí podemos ver que:\n",
    "- hay tipos de datos que no corresponden a los del diccionario\n",
    "- aparentemente no hay valores faltantes"
   ]
  },
  {
   "cell_type": "code",
   "execution_count": 23,
   "id": "62adb62e",
   "metadata": {},
   "outputs": [
    {
     "data": {
      "text/html": [
       "<div>\n",
       "<style scoped>\n",
       "    .dataframe tbody tr th:only-of-type {\n",
       "        vertical-align: middle;\n",
       "    }\n",
       "\n",
       "    .dataframe tbody tr th {\n",
       "        vertical-align: top;\n",
       "    }\n",
       "\n",
       "    .dataframe thead th {\n",
       "        text-align: right;\n",
       "    }\n",
       "</style>\n",
       "<table border=\"1\" class=\"dataframe\">\n",
       "  <thead>\n",
       "    <tr style=\"text-align: right;\">\n",
       "      <th></th>\n",
       "      <th>ciudad</th>\n",
       "      <th>edad</th>\n",
       "      <th>sexo</th>\n",
       "      <th>tipo_dolor</th>\n",
       "      <th>presion</th>\n",
       "      <th>colesterol</th>\n",
       "      <th>azucar</th>\n",
       "      <th>ecg</th>\n",
       "      <th>pulso</th>\n",
       "      <th>angina</th>\n",
       "      <th>st</th>\n",
       "      <th>pendiente</th>\n",
       "      <th>venas</th>\n",
       "      <th>thal</th>\n",
       "      <th>target</th>\n",
       "    </tr>\n",
       "  </thead>\n",
       "  <tbody>\n",
       "    <tr>\n",
       "      <th>count</th>\n",
       "      <td>720</td>\n",
       "      <td>720.000000</td>\n",
       "      <td>720.000000</td>\n",
       "      <td>720.000000</td>\n",
       "      <td>720</td>\n",
       "      <td>720</td>\n",
       "      <td>720</td>\n",
       "      <td>720</td>\n",
       "      <td>720</td>\n",
       "      <td>720</td>\n",
       "      <td>720</td>\n",
       "      <td>720</td>\n",
       "      <td>720</td>\n",
       "      <td>720</td>\n",
       "      <td>720</td>\n",
       "    </tr>\n",
       "    <tr>\n",
       "      <th>unique</th>\n",
       "      <td>3</td>\n",
       "      <td>NaN</td>\n",
       "      <td>NaN</td>\n",
       "      <td>NaN</td>\n",
       "      <td>86</td>\n",
       "      <td>307</td>\n",
       "      <td>3</td>\n",
       "      <td>4</td>\n",
       "      <td>188</td>\n",
       "      <td>3</td>\n",
       "      <td>61</td>\n",
       "      <td>6</td>\n",
       "      <td>6</td>\n",
       "      <td>6</td>\n",
       "      <td>2</td>\n",
       "    </tr>\n",
       "    <tr>\n",
       "      <th>top</th>\n",
       "      <td>Cleveland</td>\n",
       "      <td>NaN</td>\n",
       "      <td>NaN</td>\n",
       "      <td>NaN</td>\n",
       "      <td>120</td>\n",
       "      <td>0</td>\n",
       "      <td>0</td>\n",
       "      <td>0</td>\n",
       "      <td>150</td>\n",
       "      <td>0</td>\n",
       "      <td>0</td>\n",
       "      <td>2</td>\n",
       "      <td>?</td>\n",
       "      <td>?</td>\n",
       "      <td>0</td>\n",
       "    </tr>\n",
       "    <tr>\n",
       "      <th>freq</th>\n",
       "      <td>303</td>\n",
       "      <td>NaN</td>\n",
       "      <td>NaN</td>\n",
       "      <td>NaN</td>\n",
       "      <td>78</td>\n",
       "      <td>123</td>\n",
       "      <td>567</td>\n",
       "      <td>471</td>\n",
       "      <td>32</td>\n",
       "      <td>476</td>\n",
       "      <td>330</td>\n",
       "      <td>290</td>\n",
       "      <td>413</td>\n",
       "      <td>320</td>\n",
       "      <td>360</td>\n",
       "    </tr>\n",
       "    <tr>\n",
       "      <th>mean</th>\n",
       "      <td>NaN</td>\n",
       "      <td>51.888889</td>\n",
       "      <td>0.738889</td>\n",
       "      <td>3.179167</td>\n",
       "      <td>NaN</td>\n",
       "      <td>NaN</td>\n",
       "      <td>NaN</td>\n",
       "      <td>NaN</td>\n",
       "      <td>NaN</td>\n",
       "      <td>NaN</td>\n",
       "      <td>NaN</td>\n",
       "      <td>NaN</td>\n",
       "      <td>NaN</td>\n",
       "      <td>NaN</td>\n",
       "      <td>NaN</td>\n",
       "    </tr>\n",
       "    <tr>\n",
       "      <th>std</th>\n",
       "      <td>NaN</td>\n",
       "      <td>9.193720</td>\n",
       "      <td>0.439546</td>\n",
       "      <td>0.953646</td>\n",
       "      <td>NaN</td>\n",
       "      <td>NaN</td>\n",
       "      <td>NaN</td>\n",
       "      <td>NaN</td>\n",
       "      <td>NaN</td>\n",
       "      <td>NaN</td>\n",
       "      <td>NaN</td>\n",
       "      <td>NaN</td>\n",
       "      <td>NaN</td>\n",
       "      <td>NaN</td>\n",
       "      <td>NaN</td>\n",
       "    </tr>\n",
       "    <tr>\n",
       "      <th>min</th>\n",
       "      <td>NaN</td>\n",
       "      <td>28.000000</td>\n",
       "      <td>0.000000</td>\n",
       "      <td>1.000000</td>\n",
       "      <td>NaN</td>\n",
       "      <td>NaN</td>\n",
       "      <td>NaN</td>\n",
       "      <td>NaN</td>\n",
       "      <td>NaN</td>\n",
       "      <td>NaN</td>\n",
       "      <td>NaN</td>\n",
       "      <td>NaN</td>\n",
       "      <td>NaN</td>\n",
       "      <td>NaN</td>\n",
       "      <td>NaN</td>\n",
       "    </tr>\n",
       "    <tr>\n",
       "      <th>25%</th>\n",
       "      <td>NaN</td>\n",
       "      <td>45.000000</td>\n",
       "      <td>0.000000</td>\n",
       "      <td>2.000000</td>\n",
       "      <td>NaN</td>\n",
       "      <td>NaN</td>\n",
       "      <td>NaN</td>\n",
       "      <td>NaN</td>\n",
       "      <td>NaN</td>\n",
       "      <td>NaN</td>\n",
       "      <td>NaN</td>\n",
       "      <td>NaN</td>\n",
       "      <td>NaN</td>\n",
       "      <td>NaN</td>\n",
       "      <td>NaN</td>\n",
       "    </tr>\n",
       "    <tr>\n",
       "      <th>50%</th>\n",
       "      <td>NaN</td>\n",
       "      <td>53.000000</td>\n",
       "      <td>1.000000</td>\n",
       "      <td>4.000000</td>\n",
       "      <td>NaN</td>\n",
       "      <td>NaN</td>\n",
       "      <td>NaN</td>\n",
       "      <td>NaN</td>\n",
       "      <td>NaN</td>\n",
       "      <td>NaN</td>\n",
       "      <td>NaN</td>\n",
       "      <td>NaN</td>\n",
       "      <td>NaN</td>\n",
       "      <td>NaN</td>\n",
       "      <td>NaN</td>\n",
       "    </tr>\n",
       "    <tr>\n",
       "      <th>75%</th>\n",
       "      <td>NaN</td>\n",
       "      <td>58.000000</td>\n",
       "      <td>1.000000</td>\n",
       "      <td>4.000000</td>\n",
       "      <td>NaN</td>\n",
       "      <td>NaN</td>\n",
       "      <td>NaN</td>\n",
       "      <td>NaN</td>\n",
       "      <td>NaN</td>\n",
       "      <td>NaN</td>\n",
       "      <td>NaN</td>\n",
       "      <td>NaN</td>\n",
       "      <td>NaN</td>\n",
       "      <td>NaN</td>\n",
       "      <td>NaN</td>\n",
       "    </tr>\n",
       "    <tr>\n",
       "      <th>max</th>\n",
       "      <td>NaN</td>\n",
       "      <td>77.000000</td>\n",
       "      <td>1.000000</td>\n",
       "      <td>4.000000</td>\n",
       "      <td>NaN</td>\n",
       "      <td>NaN</td>\n",
       "      <td>NaN</td>\n",
       "      <td>NaN</td>\n",
       "      <td>NaN</td>\n",
       "      <td>NaN</td>\n",
       "      <td>NaN</td>\n",
       "      <td>NaN</td>\n",
       "      <td>NaN</td>\n",
       "      <td>NaN</td>\n",
       "      <td>NaN</td>\n",
       "    </tr>\n",
       "  </tbody>\n",
       "</table>\n",
       "</div>"
      ],
      "text/plain": [
       "           ciudad        edad        sexo  tipo_dolor presion colesterol  \\\n",
       "count         720  720.000000  720.000000  720.000000     720        720   \n",
       "unique          3         NaN         NaN         NaN      86        307   \n",
       "top     Cleveland         NaN         NaN         NaN     120          0   \n",
       "freq          303         NaN         NaN         NaN      78        123   \n",
       "mean          NaN   51.888889    0.738889    3.179167     NaN        NaN   \n",
       "std           NaN    9.193720    0.439546    0.953646     NaN        NaN   \n",
       "min           NaN   28.000000    0.000000    1.000000     NaN        NaN   \n",
       "25%           NaN   45.000000    0.000000    2.000000     NaN        NaN   \n",
       "50%           NaN   53.000000    1.000000    4.000000     NaN        NaN   \n",
       "75%           NaN   58.000000    1.000000    4.000000     NaN        NaN   \n",
       "max           NaN   77.000000    1.000000    4.000000     NaN        NaN   \n",
       "\n",
       "       azucar  ecg pulso angina   st pendiente venas thal target  \n",
       "count     720  720   720    720  720       720   720  720    720  \n",
       "unique      3    4   188      3   61         6     6    6      2  \n",
       "top         0    0   150      0    0         2     ?    ?      0  \n",
       "freq      567  471    32    476  330       290   413  320    360  \n",
       "mean      NaN  NaN   NaN    NaN  NaN       NaN   NaN  NaN    NaN  \n",
       "std       NaN  NaN   NaN    NaN  NaN       NaN   NaN  NaN    NaN  \n",
       "min       NaN  NaN   NaN    NaN  NaN       NaN   NaN  NaN    NaN  \n",
       "25%       NaN  NaN   NaN    NaN  NaN       NaN   NaN  NaN    NaN  \n",
       "50%       NaN  NaN   NaN    NaN  NaN       NaN   NaN  NaN    NaN  \n",
       "75%       NaN  NaN   NaN    NaN  NaN       NaN   NaN  NaN    NaN  \n",
       "max       NaN  NaN   NaN    NaN  NaN       NaN   NaN  NaN    NaN  "
      ]
     },
     "execution_count": 23,
     "metadata": {},
     "output_type": "execute_result"
    }
   ],
   "source": [
    "data.describe(include='all')"
   ]
  },
  {
   "cell_type": "markdown",
   "id": "6385495b",
   "metadata": {},
   "source": [
    "Aquí podemos ver que:\n",
    "- confirmamos los tipos de variables que no corresponden para bastantes de las columnas.\n",
    "- encontramos en las variables venas y thal datos categóricos donde el valor más común es \"?\", este problema podría aparecer en otras variables categóricas donde \"?\" no es el valor más preponderante.\n",
    "- el número de valores posibles no corresponde para las variables: \n",
    "  - azucar (3 en vez de 2) \n",
    "  - ecg (4 en vez de 3)\n",
    "  - angina (3 en vez de 2)\n",
    "  - pendiente (6 en vez de 3)\n",
    "  - venas (6 en vez de 4)\n",
    "  - thal (6 en vez de 3)"
   ]
  },
  {
   "cell_type": "code",
   "execution_count": 24,
   "id": "3d949e35",
   "metadata": {},
   "outputs": [
    {
     "data": {
      "text/plain": [
       "ciudad         object\n",
       "edad          float64\n",
       "sexo            int64\n",
       "tipo_dolor      int64\n",
       "presion        object\n",
       "colesterol     object\n",
       "azucar         object\n",
       "ecg            object\n",
       "pulso          object\n",
       "angina         object\n",
       "st             object\n",
       "pendiente      object\n",
       "venas          object\n",
       "thal           object\n",
       "target         object\n",
       "dtype: object"
      ]
     },
     "execution_count": 24,
     "metadata": {},
     "output_type": "execute_result"
    }
   ],
   "source": [
    "data.dtypes"
   ]
  },
  {
   "cell_type": "markdown",
   "id": "e3595cec",
   "metadata": {},
   "source": [
    "### Limpieza: valores inválidos y tipos de columnas\n",
    "Varias de los atributos del dataset fueron leidos con el tipo de datos que no correspondía:\n",
    "- \"sexo\" es una variable categórica codificada con valores \"0\" y \"1\"\n",
    "- \"tipo_dolor\" es una variable categórica codificada con valores \"1\", \"2\", \"3\", y \"4\"\n",
    "- \"presion\" es una variable numérica que aparece como categórica\n",
    "- \"colesterol\" es una variable numérica que aparece como categórica\n",
    "- \"pulso\": es una variable numérica que aparece como categórica\n",
    "- \"st\": es una variable numérica que aparece como categórica"
   ]
  },
  {
   "cell_type": "markdown",
   "id": "97dfb90f",
   "metadata": {},
   "source": [
    "Primero convertimos las variables numéricas incorrectas a categóricas"
   ]
  },
  {
   "cell_type": "code",
   "execution_count": 25,
   "id": "1eecca9a",
   "metadata": {},
   "outputs": [],
   "source": [
    "cols = ['sexo','tipo_dolor']\n",
    "for col in cols:\n",
    "    data[col] = data[col].astype(str)"
   ]
  },
  {
   "cell_type": "markdown",
   "id": "b4ea185a",
   "metadata": {},
   "source": [
    "Verificamos que variables categóricas tienen valores de ?"
   ]
  },
  {
   "cell_type": "code",
   "execution_count": 26,
   "id": "9ff06b6f",
   "metadata": {},
   "outputs": [
    {
     "name": "stdout",
     "output_type": "stream",
     "text": [
      "Existen 0 valores en ciudad con el valor ?\n",
      "Existen 0 valores en sexo con el valor ?\n",
      "Existen 0 valores en tipo_dolor con el valor ?\n",
      "Existen 3 valores en presion con el valor ?\n",
      "Existen 23 valores en colesterol con el valor ?\n",
      "Existen 83 valores en azucar con el valor ?\n",
      "Existen 2 valores en ecg con el valor ?\n",
      "Existen 2 valores en pulso con el valor ?\n",
      "Existen 2 valores en angina con el valor ?\n",
      "Existen 6 valores en st con el valor ?\n",
      "Existen 207 valores en pendiente con el valor ?\n",
      "Existen 413 valores en venas con el valor ?\n",
      "Existen 320 valores en thal con el valor ?\n",
      "Existen 0 valores en target con el valor ?\n"
     ]
    }
   ],
   "source": [
    "for var in data.select_dtypes(include=['object']).columns:\n",
    "    cantidad = data[data[var] == '?'][var].count()\n",
    "    print(f\"Existen {cantidad} valores en {var} con el valor ?\")"
   ]
  },
  {
   "cell_type": "markdown",
   "id": "11deadc2",
   "metadata": {},
   "source": [
    "No podemos convertir en numéricos algunos de los campos presion, colesterol, pulso y st, ya que se encuentra el caracter \"?\", que no se puede convertir a número.\n",
    "Suponemos que este caracter indica un valor faltante, por lo que convertimos todos los valores correspondientes a nan."
   ]
  },
  {
   "cell_type": "code",
   "execution_count": 27,
   "id": "42138016",
   "metadata": {},
   "outputs": [],
   "source": [
    "data = data.replace('?',np.nan)"
   ]
  },
  {
   "cell_type": "markdown",
   "id": "72d5a565",
   "metadata": {},
   "source": [
    "Habiendo realizado estos cambios ya podemos convertir las variables categóricas incorrectas en numéricas"
   ]
  },
  {
   "cell_type": "code",
   "execution_count": 28,
   "id": "0986b434",
   "metadata": {},
   "outputs": [],
   "source": [
    "columns = ['presion','colesterol','pulso','st']\n",
    "for col in columns:\n",
    "    data[col] = data[col].astype('float64')"
   ]
  },
  {
   "cell_type": "markdown",
   "id": "01ddc23b",
   "metadata": {},
   "source": [
    "Revisamos los nuevos tipos de datos para todas las variables del dataset"
   ]
  },
  {
   "cell_type": "code",
   "execution_count": 29,
   "id": "c8e96603",
   "metadata": {},
   "outputs": [
    {
     "data": {
      "text/html": [
       "<div>\n",
       "<style scoped>\n",
       "    .dataframe tbody tr th:only-of-type {\n",
       "        vertical-align: middle;\n",
       "    }\n",
       "\n",
       "    .dataframe tbody tr th {\n",
       "        vertical-align: top;\n",
       "    }\n",
       "\n",
       "    .dataframe thead th {\n",
       "        text-align: right;\n",
       "    }\n",
       "</style>\n",
       "<table border=\"1\" class=\"dataframe\">\n",
       "  <thead>\n",
       "    <tr style=\"text-align: right;\">\n",
       "      <th></th>\n",
       "      <th>ciudad</th>\n",
       "      <th>edad</th>\n",
       "      <th>sexo</th>\n",
       "      <th>tipo_dolor</th>\n",
       "      <th>presion</th>\n",
       "      <th>colesterol</th>\n",
       "      <th>azucar</th>\n",
       "      <th>ecg</th>\n",
       "      <th>pulso</th>\n",
       "      <th>angina</th>\n",
       "      <th>st</th>\n",
       "      <th>pendiente</th>\n",
       "      <th>venas</th>\n",
       "      <th>thal</th>\n",
       "      <th>target</th>\n",
       "    </tr>\n",
       "  </thead>\n",
       "  <tbody>\n",
       "    <tr>\n",
       "      <th>count</th>\n",
       "      <td>720</td>\n",
       "      <td>720.000000</td>\n",
       "      <td>720</td>\n",
       "      <td>720</td>\n",
       "      <td>717.000000</td>\n",
       "      <td>697.000000</td>\n",
       "      <td>637</td>\n",
       "      <td>718</td>\n",
       "      <td>718.000000</td>\n",
       "      <td>718</td>\n",
       "      <td>714.000000</td>\n",
       "      <td>513</td>\n",
       "      <td>307</td>\n",
       "      <td>400</td>\n",
       "      <td>720</td>\n",
       "    </tr>\n",
       "    <tr>\n",
       "      <th>unique</th>\n",
       "      <td>3</td>\n",
       "      <td>NaN</td>\n",
       "      <td>2</td>\n",
       "      <td>4</td>\n",
       "      <td>NaN</td>\n",
       "      <td>NaN</td>\n",
       "      <td>2</td>\n",
       "      <td>3</td>\n",
       "      <td>NaN</td>\n",
       "      <td>2</td>\n",
       "      <td>NaN</td>\n",
       "      <td>5</td>\n",
       "      <td>5</td>\n",
       "      <td>5</td>\n",
       "      <td>2</td>\n",
       "    </tr>\n",
       "    <tr>\n",
       "      <th>top</th>\n",
       "      <td>Cleveland</td>\n",
       "      <td>NaN</td>\n",
       "      <td>1</td>\n",
       "      <td>4</td>\n",
       "      <td>NaN</td>\n",
       "      <td>NaN</td>\n",
       "      <td>0</td>\n",
       "      <td>0</td>\n",
       "      <td>NaN</td>\n",
       "      <td>0</td>\n",
       "      <td>NaN</td>\n",
       "      <td>2</td>\n",
       "      <td>0</td>\n",
       "      <td>3</td>\n",
       "      <td>0</td>\n",
       "    </tr>\n",
       "    <tr>\n",
       "      <th>freq</th>\n",
       "      <td>303</td>\n",
       "      <td>NaN</td>\n",
       "      <td>532</td>\n",
       "      <td>365</td>\n",
       "      <td>NaN</td>\n",
       "      <td>NaN</td>\n",
       "      <td>567</td>\n",
       "      <td>471</td>\n",
       "      <td>NaN</td>\n",
       "      <td>476</td>\n",
       "      <td>NaN</td>\n",
       "      <td>290</td>\n",
       "      <td>177</td>\n",
       "      <td>190</td>\n",
       "      <td>360</td>\n",
       "    </tr>\n",
       "    <tr>\n",
       "      <th>mean</th>\n",
       "      <td>NaN</td>\n",
       "      <td>51.888889</td>\n",
       "      <td>NaN</td>\n",
       "      <td>NaN</td>\n",
       "      <td>131.804742</td>\n",
       "      <td>204.774749</td>\n",
       "      <td>NaN</td>\n",
       "      <td>NaN</td>\n",
       "      <td>140.565460</td>\n",
       "      <td>NaN</td>\n",
       "      <td>0.789636</td>\n",
       "      <td>NaN</td>\n",
       "      <td>NaN</td>\n",
       "      <td>NaN</td>\n",
       "      <td>NaN</td>\n",
       "    </tr>\n",
       "    <tr>\n",
       "      <th>std</th>\n",
       "      <td>NaN</td>\n",
       "      <td>9.193720</td>\n",
       "      <td>NaN</td>\n",
       "      <td>NaN</td>\n",
       "      <td>18.529331</td>\n",
       "      <td>109.275156</td>\n",
       "      <td>NaN</td>\n",
       "      <td>NaN</td>\n",
       "      <td>25.647172</td>\n",
       "      <td>NaN</td>\n",
       "      <td>1.066961</td>\n",
       "      <td>NaN</td>\n",
       "      <td>NaN</td>\n",
       "      <td>NaN</td>\n",
       "      <td>NaN</td>\n",
       "    </tr>\n",
       "    <tr>\n",
       "      <th>min</th>\n",
       "      <td>NaN</td>\n",
       "      <td>28.000000</td>\n",
       "      <td>NaN</td>\n",
       "      <td>NaN</td>\n",
       "      <td>80.000000</td>\n",
       "      <td>0.000000</td>\n",
       "      <td>NaN</td>\n",
       "      <td>NaN</td>\n",
       "      <td>60.000000</td>\n",
       "      <td>NaN</td>\n",
       "      <td>-2.600000</td>\n",
       "      <td>NaN</td>\n",
       "      <td>NaN</td>\n",
       "      <td>NaN</td>\n",
       "      <td>NaN</td>\n",
       "    </tr>\n",
       "    <tr>\n",
       "      <th>25%</th>\n",
       "      <td>NaN</td>\n",
       "      <td>45.000000</td>\n",
       "      <td>NaN</td>\n",
       "      <td>NaN</td>\n",
       "      <td>120.000000</td>\n",
       "      <td>182.000000</td>\n",
       "      <td>NaN</td>\n",
       "      <td>NaN</td>\n",
       "      <td>122.000000</td>\n",
       "      <td>NaN</td>\n",
       "      <td>0.000000</td>\n",
       "      <td>NaN</td>\n",
       "      <td>NaN</td>\n",
       "      <td>NaN</td>\n",
       "      <td>NaN</td>\n",
       "    </tr>\n",
       "    <tr>\n",
       "      <th>50%</th>\n",
       "      <td>NaN</td>\n",
       "      <td>53.000000</td>\n",
       "      <td>NaN</td>\n",
       "      <td>NaN</td>\n",
       "      <td>130.000000</td>\n",
       "      <td>227.000000</td>\n",
       "      <td>NaN</td>\n",
       "      <td>NaN</td>\n",
       "      <td>142.000000</td>\n",
       "      <td>NaN</td>\n",
       "      <td>0.200000</td>\n",
       "      <td>NaN</td>\n",
       "      <td>NaN</td>\n",
       "      <td>NaN</td>\n",
       "      <td>NaN</td>\n",
       "    </tr>\n",
       "    <tr>\n",
       "      <th>75%</th>\n",
       "      <td>NaN</td>\n",
       "      <td>58.000000</td>\n",
       "      <td>NaN</td>\n",
       "      <td>NaN</td>\n",
       "      <td>140.000000</td>\n",
       "      <td>270.000000</td>\n",
       "      <td>NaN</td>\n",
       "      <td>NaN</td>\n",
       "      <td>160.000000</td>\n",
       "      <td>NaN</td>\n",
       "      <td>1.500000</td>\n",
       "      <td>NaN</td>\n",
       "      <td>NaN</td>\n",
       "      <td>NaN</td>\n",
       "      <td>NaN</td>\n",
       "    </tr>\n",
       "    <tr>\n",
       "      <th>max</th>\n",
       "      <td>NaN</td>\n",
       "      <td>77.000000</td>\n",
       "      <td>NaN</td>\n",
       "      <td>NaN</td>\n",
       "      <td>200.000000</td>\n",
       "      <td>603.000000</td>\n",
       "      <td>NaN</td>\n",
       "      <td>NaN</td>\n",
       "      <td>202.000000</td>\n",
       "      <td>NaN</td>\n",
       "      <td>6.200000</td>\n",
       "      <td>NaN</td>\n",
       "      <td>NaN</td>\n",
       "      <td>NaN</td>\n",
       "      <td>NaN</td>\n",
       "    </tr>\n",
       "  </tbody>\n",
       "</table>\n",
       "</div>"
      ],
      "text/plain": [
       "           ciudad        edad sexo tipo_dolor     presion  colesterol azucar  \\\n",
       "count         720  720.000000  720        720  717.000000  697.000000    637   \n",
       "unique          3         NaN    2          4         NaN         NaN      2   \n",
       "top     Cleveland         NaN    1          4         NaN         NaN      0   \n",
       "freq          303         NaN  532        365         NaN         NaN    567   \n",
       "mean          NaN   51.888889  NaN        NaN  131.804742  204.774749    NaN   \n",
       "std           NaN    9.193720  NaN        NaN   18.529331  109.275156    NaN   \n",
       "min           NaN   28.000000  NaN        NaN   80.000000    0.000000    NaN   \n",
       "25%           NaN   45.000000  NaN        NaN  120.000000  182.000000    NaN   \n",
       "50%           NaN   53.000000  NaN        NaN  130.000000  227.000000    NaN   \n",
       "75%           NaN   58.000000  NaN        NaN  140.000000  270.000000    NaN   \n",
       "max           NaN   77.000000  NaN        NaN  200.000000  603.000000    NaN   \n",
       "\n",
       "        ecg       pulso angina          st pendiente venas thal target  \n",
       "count   718  718.000000    718  714.000000       513   307  400    720  \n",
       "unique    3         NaN      2         NaN         5     5    5      2  \n",
       "top       0         NaN      0         NaN         2     0    3      0  \n",
       "freq    471         NaN    476         NaN       290   177  190    360  \n",
       "mean    NaN  140.565460    NaN    0.789636       NaN   NaN  NaN    NaN  \n",
       "std     NaN   25.647172    NaN    1.066961       NaN   NaN  NaN    NaN  \n",
       "min     NaN   60.000000    NaN   -2.600000       NaN   NaN  NaN    NaN  \n",
       "25%     NaN  122.000000    NaN    0.000000       NaN   NaN  NaN    NaN  \n",
       "50%     NaN  142.000000    NaN    0.200000       NaN   NaN  NaN    NaN  \n",
       "75%     NaN  160.000000    NaN    1.500000       NaN   NaN  NaN    NaN  \n",
       "max     NaN  202.000000    NaN    6.200000       NaN   NaN  NaN    NaN  "
      ]
     },
     "execution_count": 29,
     "metadata": {},
     "output_type": "execute_result"
    }
   ],
   "source": [
    "data.describe(include='all')"
   ]
  },
  {
   "cell_type": "code",
   "execution_count": 30,
   "id": "06f43a7c",
   "metadata": {},
   "outputs": [
    {
     "name": "stdout",
     "output_type": "stream",
     "text": [
      "<class 'pandas.core.frame.DataFrame'>\n",
      "RangeIndex: 720 entries, 0 to 719\n",
      "Data columns (total 15 columns):\n",
      " #   Column      Non-Null Count  Dtype  \n",
      "---  ------      --------------  -----  \n",
      " 0   ciudad      720 non-null    object \n",
      " 1   edad        720 non-null    float64\n",
      " 2   sexo        720 non-null    object \n",
      " 3   tipo_dolor  720 non-null    object \n",
      " 4   presion     717 non-null    float64\n",
      " 5   colesterol  697 non-null    float64\n",
      " 6   azucar      637 non-null    object \n",
      " 7   ecg         718 non-null    object \n",
      " 8   pulso       718 non-null    float64\n",
      " 9   angina      718 non-null    object \n",
      " 10  st          714 non-null    float64\n",
      " 11  pendiente   513 non-null    object \n",
      " 12  venas       307 non-null    object \n",
      " 13  thal        400 non-null    object \n",
      " 14  target      720 non-null    object \n",
      "dtypes: float64(5), object(10)\n",
      "memory usage: 84.5+ KB\n"
     ]
    }
   ],
   "source": [
    "data.info()"
   ]
  },
  {
   "cell_type": "markdown",
   "id": "5341f065",
   "metadata": {},
   "source": [
    "### Limpieza: valores faltantes\n",
    "Varias de los atributos del dataset presentan valores faltantes\n",
    "- \"presion\" tiene 3 registros sin valor\n",
    "- \"colesterol\" tiene 23 registros sin valor\n",
    "- \"azucar\" tiene 83 registros sin valor\n",
    "- \"ecg\" tiene 2 registros sin valor\n",
    "- \"pulso\" tiene 2 registros sin valor\n",
    "- \"angina\" tiene 2 registros sin valor\n",
    "- \"st\" tiene 6 registros sin valor\n",
    "- \"pendiente\" tiene 207 registros sin valor\n",
    "- \"venas\" tiene 413 registros sin valor\n",
    "- \"thal\" tiene 320 registros sin valor"
   ]
  },
  {
   "cell_type": "markdown",
   "id": "1723dc76",
   "metadata": {},
   "source": [
    "Vamos a tratar de encontrar patrones en los valores faltantes.\n",
    "\n",
    "Primero analizamos los registros con pocos valores faltantes.\n",
    "\n",
    "Empezamos con la presión"
   ]
  },
  {
   "cell_type": "code",
   "execution_count": 31,
   "id": "25ee2455",
   "metadata": {},
   "outputs": [
    {
     "data": {
      "text/html": [
       "<div>\n",
       "<style scoped>\n",
       "    .dataframe tbody tr th:only-of-type {\n",
       "        vertical-align: middle;\n",
       "    }\n",
       "\n",
       "    .dataframe tbody tr th {\n",
       "        vertical-align: top;\n",
       "    }\n",
       "\n",
       "    .dataframe thead th {\n",
       "        text-align: right;\n",
       "    }\n",
       "</style>\n",
       "<table border=\"1\" class=\"dataframe\">\n",
       "  <thead>\n",
       "    <tr style=\"text-align: right;\">\n",
       "      <th></th>\n",
       "      <th>ciudad</th>\n",
       "      <th>edad</th>\n",
       "      <th>sexo</th>\n",
       "      <th>tipo_dolor</th>\n",
       "      <th>presion</th>\n",
       "      <th>colesterol</th>\n",
       "      <th>azucar</th>\n",
       "      <th>ecg</th>\n",
       "      <th>pulso</th>\n",
       "      <th>angina</th>\n",
       "      <th>st</th>\n",
       "      <th>pendiente</th>\n",
       "      <th>venas</th>\n",
       "      <th>thal</th>\n",
       "      <th>target</th>\n",
       "    </tr>\n",
       "  </thead>\n",
       "  <tbody>\n",
       "    <tr>\n",
       "      <th>393</th>\n",
       "      <td>Hungria</td>\n",
       "      <td>48.0</td>\n",
       "      <td>0</td>\n",
       "      <td>2</td>\n",
       "      <td>NaN</td>\n",
       "      <td>308.0</td>\n",
       "      <td>0</td>\n",
       "      <td>1</td>\n",
       "      <td>NaN</td>\n",
       "      <td>NaN</td>\n",
       "      <td>2.0</td>\n",
       "      <td>1</td>\n",
       "      <td>NaN</td>\n",
       "      <td>NaN</td>\n",
       "      <td>0</td>\n",
       "    </tr>\n",
       "    <tr>\n",
       "      <th>599</th>\n",
       "      <td>Suiza</td>\n",
       "      <td>35.0</td>\n",
       "      <td>1</td>\n",
       "      <td>4</td>\n",
       "      <td>NaN</td>\n",
       "      <td>0.0</td>\n",
       "      <td>NaN</td>\n",
       "      <td>0</td>\n",
       "      <td>130.0</td>\n",
       "      <td>1</td>\n",
       "      <td>NaN</td>\n",
       "      <td>NaN</td>\n",
       "      <td>NaN</td>\n",
       "      <td>7</td>\n",
       "      <td>1</td>\n",
       "    </tr>\n",
       "    <tr>\n",
       "      <th>714</th>\n",
       "      <td>Suiza</td>\n",
       "      <td>69.0</td>\n",
       "      <td>1</td>\n",
       "      <td>4</td>\n",
       "      <td>NaN</td>\n",
       "      <td>0.0</td>\n",
       "      <td>0</td>\n",
       "      <td>1</td>\n",
       "      <td>NaN</td>\n",
       "      <td>NaN</td>\n",
       "      <td>NaN</td>\n",
       "      <td>NaN</td>\n",
       "      <td>NaN</td>\n",
       "      <td>7</td>\n",
       "      <td>1</td>\n",
       "    </tr>\n",
       "  </tbody>\n",
       "</table>\n",
       "</div>"
      ],
      "text/plain": [
       "      ciudad  edad sexo tipo_dolor  presion  colesterol azucar ecg  pulso  \\\n",
       "393  Hungria  48.0    0          2      NaN       308.0      0   1    NaN   \n",
       "599    Suiza  35.0    1          4      NaN         0.0    NaN   0  130.0   \n",
       "714    Suiza  69.0    1          4      NaN         0.0      0   1    NaN   \n",
       "\n",
       "    angina   st pendiente venas thal target  \n",
       "393    NaN  2.0         1   NaN  NaN      0  \n",
       "599      1  NaN       NaN   NaN    7      1  \n",
       "714    NaN  NaN       NaN   NaN    7      1  "
      ]
     },
     "execution_count": 31,
     "metadata": {},
     "output_type": "execute_result"
    }
   ],
   "source": [
    "data[data['presion'].isna()]"
   ]
  },
  {
   "cell_type": "markdown",
   "id": "365c4390",
   "metadata": {},
   "source": [
    "Vemos que los 3 registros de presion con NAs (393, 599, 714). Son los 2 de pulso, los 2 de angina, 2 de los 6 de st. Vamos a eliminarlos. Vemos además que estos registros corresponden a 2 de las ciudades, por lo que no hay un patrón con respecto a la provenencia de los registros faltantes."
   ]
  },
  {
   "cell_type": "code",
   "execution_count": 32,
   "id": "b1a1425f",
   "metadata": {},
   "outputs": [],
   "source": [
    "data = data[~data['presion'].isna()]"
   ]
  },
  {
   "cell_type": "code",
   "execution_count": 33,
   "id": "2785c418",
   "metadata": {},
   "outputs": [
    {
     "name": "stdout",
     "output_type": "stream",
     "text": [
      "<class 'pandas.core.frame.DataFrame'>\n",
      "Int64Index: 717 entries, 0 to 719\n",
      "Data columns (total 15 columns):\n",
      " #   Column      Non-Null Count  Dtype  \n",
      "---  ------      --------------  -----  \n",
      " 0   ciudad      717 non-null    object \n",
      " 1   edad        717 non-null    float64\n",
      " 2   sexo        717 non-null    object \n",
      " 3   tipo_dolor  717 non-null    object \n",
      " 4   presion     717 non-null    float64\n",
      " 5   colesterol  694 non-null    float64\n",
      " 6   azucar      635 non-null    object \n",
      " 7   ecg         715 non-null    object \n",
      " 8   pulso       717 non-null    float64\n",
      " 9   angina      717 non-null    object \n",
      " 10  st          713 non-null    float64\n",
      " 11  pendiente   512 non-null    object \n",
      " 12  venas       307 non-null    object \n",
      " 13  thal        398 non-null    object \n",
      " 14  target      717 non-null    object \n",
      "dtypes: float64(5), object(10)\n",
      "memory usage: 89.6+ KB\n"
     ]
    }
   ],
   "source": [
    "data.info()"
   ]
  },
  {
   "cell_type": "markdown",
   "id": "aa80bfd6",
   "metadata": {},
   "source": [
    "Continuamos con los valores faltantes de ecg y st"
   ]
  },
  {
   "cell_type": "code",
   "execution_count": 34,
   "id": "1be29904",
   "metadata": {},
   "outputs": [
    {
     "data": {
      "text/html": [
       "<div>\n",
       "<style scoped>\n",
       "    .dataframe tbody tr th:only-of-type {\n",
       "        vertical-align: middle;\n",
       "    }\n",
       "\n",
       "    .dataframe tbody tr th {\n",
       "        vertical-align: top;\n",
       "    }\n",
       "\n",
       "    .dataframe thead th {\n",
       "        text-align: right;\n",
       "    }\n",
       "</style>\n",
       "<table border=\"1\" class=\"dataframe\">\n",
       "  <thead>\n",
       "    <tr style=\"text-align: right;\">\n",
       "      <th></th>\n",
       "      <th>ciudad</th>\n",
       "      <th>edad</th>\n",
       "      <th>sexo</th>\n",
       "      <th>tipo_dolor</th>\n",
       "      <th>presion</th>\n",
       "      <th>colesterol</th>\n",
       "      <th>azucar</th>\n",
       "      <th>ecg</th>\n",
       "      <th>pulso</th>\n",
       "      <th>angina</th>\n",
       "      <th>st</th>\n",
       "      <th>pendiente</th>\n",
       "      <th>venas</th>\n",
       "      <th>thal</th>\n",
       "      <th>target</th>\n",
       "    </tr>\n",
       "  </thead>\n",
       "  <tbody>\n",
       "    <tr>\n",
       "      <th>571</th>\n",
       "      <td>Hungria</td>\n",
       "      <td>55.0</td>\n",
       "      <td>1</td>\n",
       "      <td>1</td>\n",
       "      <td>140.0</td>\n",
       "      <td>295.0</td>\n",
       "      <td>0</td>\n",
       "      <td>NaN</td>\n",
       "      <td>136.0</td>\n",
       "      <td>0</td>\n",
       "      <td>0.0</td>\n",
       "      <td>NaN</td>\n",
       "      <td>NaN</td>\n",
       "      <td>NaN</td>\n",
       "      <td>1</td>\n",
       "    </tr>\n",
       "    <tr>\n",
       "      <th>598</th>\n",
       "      <td>Suiza</td>\n",
       "      <td>34.0</td>\n",
       "      <td>1</td>\n",
       "      <td>4</td>\n",
       "      <td>115.0</td>\n",
       "      <td>0.0</td>\n",
       "      <td>NaN</td>\n",
       "      <td>NaN</td>\n",
       "      <td>154.0</td>\n",
       "      <td>0</td>\n",
       "      <td>0.2</td>\n",
       "      <td>1</td>\n",
       "      <td>NaN</td>\n",
       "      <td>NaN</td>\n",
       "      <td>1</td>\n",
       "    </tr>\n",
       "  </tbody>\n",
       "</table>\n",
       "</div>"
      ],
      "text/plain": [
       "      ciudad  edad sexo tipo_dolor  presion  colesterol azucar  ecg  pulso  \\\n",
       "571  Hungria  55.0    1          1    140.0       295.0      0  NaN  136.0   \n",
       "598    Suiza  34.0    1          4    115.0         0.0    NaN  NaN  154.0   \n",
       "\n",
       "    angina   st pendiente venas thal target  \n",
       "571      0  0.0       NaN   NaN  NaN      1  \n",
       "598      0  0.2         1   NaN  NaN      1  "
      ]
     },
     "execution_count": 34,
     "metadata": {},
     "output_type": "execute_result"
    }
   ],
   "source": [
    "data[data['ecg'].isna()]"
   ]
  },
  {
   "cell_type": "code",
   "execution_count": 35,
   "id": "e87ff744",
   "metadata": {},
   "outputs": [
    {
     "data": {
      "text/html": [
       "<div>\n",
       "<style scoped>\n",
       "    .dataframe tbody tr th:only-of-type {\n",
       "        vertical-align: middle;\n",
       "    }\n",
       "\n",
       "    .dataframe tbody tr th {\n",
       "        vertical-align: top;\n",
       "    }\n",
       "\n",
       "    .dataframe thead th {\n",
       "        text-align: right;\n",
       "    }\n",
       "</style>\n",
       "<table border=\"1\" class=\"dataframe\">\n",
       "  <thead>\n",
       "    <tr style=\"text-align: right;\">\n",
       "      <th></th>\n",
       "      <th>ciudad</th>\n",
       "      <th>edad</th>\n",
       "      <th>sexo</th>\n",
       "      <th>tipo_dolor</th>\n",
       "      <th>presion</th>\n",
       "      <th>colesterol</th>\n",
       "      <th>azucar</th>\n",
       "      <th>ecg</th>\n",
       "      <th>pulso</th>\n",
       "      <th>angina</th>\n",
       "      <th>st</th>\n",
       "      <th>pendiente</th>\n",
       "      <th>venas</th>\n",
       "      <th>thal</th>\n",
       "      <th>target</th>\n",
       "    </tr>\n",
       "  </thead>\n",
       "  <tbody>\n",
       "    <tr>\n",
       "      <th>606</th>\n",
       "      <td>Suiza</td>\n",
       "      <td>38.0</td>\n",
       "      <td>1</td>\n",
       "      <td>4</td>\n",
       "      <td>150.0</td>\n",
       "      <td>0.0</td>\n",
       "      <td>NaN</td>\n",
       "      <td>0</td>\n",
       "      <td>120.0</td>\n",
       "      <td>1</td>\n",
       "      <td>NaN</td>\n",
       "      <td>NaN</td>\n",
       "      <td>NaN</td>\n",
       "      <td>3</td>\n",
       "      <td>1</td>\n",
       "    </tr>\n",
       "    <tr>\n",
       "      <th>636</th>\n",
       "      <td>Suiza</td>\n",
       "      <td>52.0</td>\n",
       "      <td>1</td>\n",
       "      <td>4</td>\n",
       "      <td>95.0</td>\n",
       "      <td>0.0</td>\n",
       "      <td>NaN</td>\n",
       "      <td>0</td>\n",
       "      <td>82.0</td>\n",
       "      <td>1</td>\n",
       "      <td>NaN</td>\n",
       "      <td>NaN</td>\n",
       "      <td>NaN</td>\n",
       "      <td>NaN</td>\n",
       "      <td>1</td>\n",
       "    </tr>\n",
       "    <tr>\n",
       "      <th>705</th>\n",
       "      <td>Suiza</td>\n",
       "      <td>65.0</td>\n",
       "      <td>1</td>\n",
       "      <td>4</td>\n",
       "      <td>145.0</td>\n",
       "      <td>0.0</td>\n",
       "      <td>NaN</td>\n",
       "      <td>1</td>\n",
       "      <td>67.0</td>\n",
       "      <td>0</td>\n",
       "      <td>NaN</td>\n",
       "      <td>NaN</td>\n",
       "      <td>NaN</td>\n",
       "      <td>6</td>\n",
       "      <td>1</td>\n",
       "    </tr>\n",
       "    <tr>\n",
       "      <th>707</th>\n",
       "      <td>Suiza</td>\n",
       "      <td>65.0</td>\n",
       "      <td>1</td>\n",
       "      <td>4</td>\n",
       "      <td>160.0</td>\n",
       "      <td>0.0</td>\n",
       "      <td>1</td>\n",
       "      <td>1</td>\n",
       "      <td>122.0</td>\n",
       "      <td>0</td>\n",
       "      <td>NaN</td>\n",
       "      <td>NaN</td>\n",
       "      <td>NaN</td>\n",
       "      <td>7</td>\n",
       "      <td>1</td>\n",
       "    </tr>\n",
       "  </tbody>\n",
       "</table>\n",
       "</div>"
      ],
      "text/plain": [
       "    ciudad  edad sexo tipo_dolor  presion  colesterol azucar ecg  pulso  \\\n",
       "606  Suiza  38.0    1          4    150.0         0.0    NaN   0  120.0   \n",
       "636  Suiza  52.0    1          4     95.0         0.0    NaN   0   82.0   \n",
       "705  Suiza  65.0    1          4    145.0         0.0    NaN   1   67.0   \n",
       "707  Suiza  65.0    1          4    160.0         0.0      1   1  122.0   \n",
       "\n",
       "    angina  st pendiente venas thal target  \n",
       "606      1 NaN       NaN   NaN    3      1  \n",
       "636      1 NaN       NaN   NaN  NaN      1  \n",
       "705      0 NaN       NaN   NaN    6      1  \n",
       "707      0 NaN       NaN   NaN    7      1  "
      ]
     },
     "execution_count": 35,
     "metadata": {},
     "output_type": "execute_result"
    }
   ],
   "source": [
    "data[data['st'].isna()]"
   ]
  },
  {
   "cell_type": "markdown",
   "id": "c51c593b",
   "metadata": {},
   "source": [
    "Son registros diferentes, la mayoria de ellos provenientes de Suiza. Los vamos a eliminar"
   ]
  },
  {
   "cell_type": "code",
   "execution_count": 36,
   "id": "11540c79",
   "metadata": {},
   "outputs": [],
   "source": [
    "data = data[~data['ecg'].isna()]"
   ]
  },
  {
   "cell_type": "code",
   "execution_count": 37,
   "id": "25cbb2f0",
   "metadata": {},
   "outputs": [],
   "source": [
    "data = data[~data['st'].isna()]"
   ]
  },
  {
   "cell_type": "code",
   "execution_count": 38,
   "id": "c9a6793a",
   "metadata": {},
   "outputs": [
    {
     "name": "stdout",
     "output_type": "stream",
     "text": [
      "<class 'pandas.core.frame.DataFrame'>\n",
      "Int64Index: 711 entries, 0 to 719\n",
      "Data columns (total 15 columns):\n",
      " #   Column      Non-Null Count  Dtype  \n",
      "---  ------      --------------  -----  \n",
      " 0   ciudad      711 non-null    object \n",
      " 1   edad        711 non-null    float64\n",
      " 2   sexo        711 non-null    object \n",
      " 3   tipo_dolor  711 non-null    object \n",
      " 4   presion     711 non-null    float64\n",
      " 5   colesterol  688 non-null    float64\n",
      " 6   azucar      633 non-null    object \n",
      " 7   ecg         711 non-null    object \n",
      " 8   pulso       711 non-null    float64\n",
      " 9   angina      711 non-null    object \n",
      " 10  st          711 non-null    float64\n",
      " 11  pendiente   511 non-null    object \n",
      " 12  venas       307 non-null    object \n",
      " 13  thal        395 non-null    object \n",
      " 14  target      711 non-null    object \n",
      "dtypes: float64(5), object(10)\n",
      "memory usage: 88.9+ KB\n"
     ]
    }
   ],
   "source": [
    "data.info()"
   ]
  },
  {
   "cell_type": "markdown",
   "id": "b846057f",
   "metadata": {},
   "source": [
    "Las variables venas, pendiente y thal tienen demasiados valores faltantes, por lo cual las vamos a eliminar"
   ]
  },
  {
   "cell_type": "code",
   "execution_count": 39,
   "id": "5ca3de7a",
   "metadata": {},
   "outputs": [],
   "source": [
    "data.drop(columns=['venas','pendiente','thal'],inplace=True)"
   ]
  },
  {
   "cell_type": "code",
   "execution_count": 40,
   "id": "f0b5d3b5",
   "metadata": {},
   "outputs": [
    {
     "name": "stdout",
     "output_type": "stream",
     "text": [
      "<class 'pandas.core.frame.DataFrame'>\n",
      "Int64Index: 711 entries, 0 to 719\n",
      "Data columns (total 12 columns):\n",
      " #   Column      Non-Null Count  Dtype  \n",
      "---  ------      --------------  -----  \n",
      " 0   ciudad      711 non-null    object \n",
      " 1   edad        711 non-null    float64\n",
      " 2   sexo        711 non-null    object \n",
      " 3   tipo_dolor  711 non-null    object \n",
      " 4   presion     711 non-null    float64\n",
      " 5   colesterol  688 non-null    float64\n",
      " 6   azucar      633 non-null    object \n",
      " 7   ecg         711 non-null    object \n",
      " 8   pulso       711 non-null    float64\n",
      " 9   angina      711 non-null    object \n",
      " 10  st          711 non-null    float64\n",
      " 11  target      711 non-null    object \n",
      "dtypes: float64(5), object(7)\n",
      "memory usage: 72.2+ KB\n"
     ]
    }
   ],
   "source": [
    "data.info()"
   ]
  },
  {
   "cell_type": "markdown",
   "id": "18d18db7",
   "metadata": {},
   "source": [
    "Vamos a modificar azucar, creando una nueva categoría para los valores faltantes"
   ]
  },
  {
   "cell_type": "code",
   "execution_count": 41,
   "id": "cb028d87",
   "metadata": {},
   "outputs": [
    {
     "data": {
      "text/html": [
       "<div>\n",
       "<style scoped>\n",
       "    .dataframe tbody tr th:only-of-type {\n",
       "        vertical-align: middle;\n",
       "    }\n",
       "\n",
       "    .dataframe tbody tr th {\n",
       "        vertical-align: top;\n",
       "    }\n",
       "\n",
       "    .dataframe thead th {\n",
       "        text-align: right;\n",
       "    }\n",
       "</style>\n",
       "<table border=\"1\" class=\"dataframe\">\n",
       "  <thead>\n",
       "    <tr style=\"text-align: right;\">\n",
       "      <th>col_0</th>\n",
       "      <th>count</th>\n",
       "    </tr>\n",
       "    <tr>\n",
       "      <th>azucar</th>\n",
       "      <th></th>\n",
       "    </tr>\n",
       "  </thead>\n",
       "  <tbody>\n",
       "    <tr>\n",
       "      <th>0</th>\n",
       "      <td>564</td>\n",
       "    </tr>\n",
       "    <tr>\n",
       "      <th>1</th>\n",
       "      <td>69</td>\n",
       "    </tr>\n",
       "  </tbody>\n",
       "</table>\n",
       "</div>"
      ],
      "text/plain": [
       "col_0   count\n",
       "azucar       \n",
       "0         564\n",
       "1          69"
      ]
     },
     "execution_count": 41,
     "metadata": {},
     "output_type": "execute_result"
    }
   ],
   "source": [
    "pd.crosstab(index=data['azucar'],columns='count')"
   ]
  },
  {
   "cell_type": "code",
   "execution_count": 42,
   "id": "813ecb24",
   "metadata": {},
   "outputs": [],
   "source": [
    "data.loc[data['azucar'].isna(),'azucar'] = -1"
   ]
  },
  {
   "cell_type": "code",
   "execution_count": 43,
   "id": "1f06cc98",
   "metadata": {},
   "outputs": [
    {
     "data": {
      "text/html": [
       "<div>\n",
       "<style scoped>\n",
       "    .dataframe tbody tr th:only-of-type {\n",
       "        vertical-align: middle;\n",
       "    }\n",
       "\n",
       "    .dataframe tbody tr th {\n",
       "        vertical-align: top;\n",
       "    }\n",
       "\n",
       "    .dataframe thead th {\n",
       "        text-align: right;\n",
       "    }\n",
       "</style>\n",
       "<table border=\"1\" class=\"dataframe\">\n",
       "  <thead>\n",
       "    <tr style=\"text-align: right;\">\n",
       "      <th>col_0</th>\n",
       "      <th>count</th>\n",
       "    </tr>\n",
       "    <tr>\n",
       "      <th>azucar</th>\n",
       "      <th></th>\n",
       "    </tr>\n",
       "  </thead>\n",
       "  <tbody>\n",
       "    <tr>\n",
       "      <th>-1</th>\n",
       "      <td>78</td>\n",
       "    </tr>\n",
       "    <tr>\n",
       "      <th>0</th>\n",
       "      <td>564</td>\n",
       "    </tr>\n",
       "    <tr>\n",
       "      <th>1</th>\n",
       "      <td>69</td>\n",
       "    </tr>\n",
       "  </tbody>\n",
       "</table>\n",
       "</div>"
      ],
      "text/plain": [
       "col_0   count\n",
       "azucar       \n",
       "-1         78\n",
       "0         564\n",
       "1          69"
      ]
     },
     "execution_count": 43,
     "metadata": {},
     "output_type": "execute_result"
    }
   ],
   "source": [
    "pd.crosstab(index=data['azucar'],columns='count')"
   ]
  },
  {
   "cell_type": "code",
   "execution_count": 44,
   "id": "b316b05b",
   "metadata": {},
   "outputs": [
    {
     "name": "stdout",
     "output_type": "stream",
     "text": [
      "<class 'pandas.core.frame.DataFrame'>\n",
      "Int64Index: 711 entries, 0 to 719\n",
      "Data columns (total 12 columns):\n",
      " #   Column      Non-Null Count  Dtype  \n",
      "---  ------      --------------  -----  \n",
      " 0   ciudad      711 non-null    object \n",
      " 1   edad        711 non-null    float64\n",
      " 2   sexo        711 non-null    object \n",
      " 3   tipo_dolor  711 non-null    object \n",
      " 4   presion     711 non-null    float64\n",
      " 5   colesterol  688 non-null    float64\n",
      " 6   azucar      711 non-null    object \n",
      " 7   ecg         711 non-null    object \n",
      " 8   pulso       711 non-null    float64\n",
      " 9   angina      711 non-null    object \n",
      " 10  st          711 non-null    float64\n",
      " 11  target      711 non-null    object \n",
      "dtypes: float64(5), object(7)\n",
      "memory usage: 72.2+ KB\n"
     ]
    }
   ],
   "source": [
    "data.info()"
   ]
  },
  {
   "cell_type": "markdown",
   "id": "570861a3",
   "metadata": {},
   "source": [
    "Vamos a reemplazar los valores faltantes de colesterol por el promedio"
   ]
  },
  {
   "cell_type": "code",
   "execution_count": 45,
   "id": "d2c39584",
   "metadata": {},
   "outputs": [],
   "source": [
    "data.loc[data['colesterol'].isna(),'colesterol'] = data['colesterol'].mean()"
   ]
  },
  {
   "cell_type": "code",
   "execution_count": 46,
   "id": "f1aaf2cb",
   "metadata": {},
   "outputs": [
    {
     "name": "stdout",
     "output_type": "stream",
     "text": [
      "<class 'pandas.core.frame.DataFrame'>\n",
      "Int64Index: 711 entries, 0 to 719\n",
      "Data columns (total 12 columns):\n",
      " #   Column      Non-Null Count  Dtype  \n",
      "---  ------      --------------  -----  \n",
      " 0   ciudad      711 non-null    object \n",
      " 1   edad        711 non-null    float64\n",
      " 2   sexo        711 non-null    object \n",
      " 3   tipo_dolor  711 non-null    object \n",
      " 4   presion     711 non-null    float64\n",
      " 5   colesterol  711 non-null    float64\n",
      " 6   azucar      711 non-null    object \n",
      " 7   ecg         711 non-null    object \n",
      " 8   pulso       711 non-null    float64\n",
      " 9   angina      711 non-null    object \n",
      " 10  st          711 non-null    float64\n",
      " 11  target      711 non-null    object \n",
      "dtypes: float64(5), object(7)\n",
      "memory usage: 72.2+ KB\n"
     ]
    }
   ],
   "source": [
    "data.info()"
   ]
  },
  {
   "cell_type": "markdown",
   "id": "c3de312d",
   "metadata": {},
   "source": [
    "### Limpieza Búsqueda de excepciones"
   ]
  },
  {
   "cell_type": "code",
   "execution_count": 47,
   "id": "0cda8197",
   "metadata": {},
   "outputs": [
    {
     "data": {
      "image/png": "[encoded data removed]",
      "text/plain": [
       "<Figure size 1296x1440 with 5 Axes>"
      ]
     },
     "metadata": {
      "needs_background": "light"
     },
     "output_type": "display_data"
    }
   ],
   "source": [
    "cols = ['edad','presion','colesterol','pulso','st']\n",
    "i=1\n",
    "plt.figure(figsize=(18,20))\n",
    "for col in cols:\n",
    "    plt.subplot(3,2,i)\n",
    "    sns.boxplot(x='target',y=col,data=data)\n",
    "    i += 1"
   ]
  },
  {
   "cell_type": "markdown",
   "id": "027545b9",
   "metadata": {},
   "source": [
    "Vamos a verificar los valores para las variables colesterol y st que pareciese que tienen valores alejados de la media."
   ]
  },
  {
   "cell_type": "code",
   "execution_count": 48,
   "id": "a4a0e069",
   "metadata": {},
   "outputs": [
    {
     "data": {
      "image/png": "[encoded data removed]",
      "text/plain": [
       "<Figure size 1296x360 with 2 Axes>"
      ]
     },
     "metadata": {
      "needs_background": "light"
     },
     "output_type": "display_data"
    }
   ],
   "source": [
    "cols = ['colesterol','st']\n",
    "i=1\n",
    "plt.figure(figsize=(18,5))\n",
    "for col in cols:\n",
    "    plt.subplot(1,2,i)\n",
    "    sns.kdeplot(data[data['target']=='0'][col],shade=True,color='blue')\n",
    "    sns.kdeplot(data[data['target']=='1'][col],shade=True,color='orange')\n",
    "    plt.legend(['negative','positive'])\n",
    "    plt.title(col)\n",
    "    i += 1"
   ]
  },
  {
   "cell_type": "markdown",
   "id": "3037c276",
   "metadata": {},
   "source": [
    "No consideramos que hay valores que se salen demasiado de lo normal:\n",
    "- En el st tenemos colas largas sin ser anómalas\n",
    "- En el colesterol tenemos datos marcadamente bimodales, por lo que no se tratan de anomalías."
   ]
  },
  {
   "cell_type": "code",
   "execution_count": 49,
   "id": "09c56a46",
   "metadata": {},
   "outputs": [],
   "source": [
    "upper_bounds={}\n",
    "lower_bounds={}\n",
    "cols = ['edad','presion','colesterol','pulso','st']\n",
    "for col in cols:\n",
    "    values=data[col]\n",
    "    upper_bounds[col]=values.mean()+4*values.std()\n",
    "    lower_bounds[col]=values.mean()-4*values.std()"
   ]
  },
  {
   "cell_type": "code",
   "execution_count": 50,
   "id": "58c0918d",
   "metadata": {},
   "outputs": [
    {
     "name": "stdout",
     "output_type": "stream",
     "text": [
      "91     6.2\n",
      "123    5.6\n",
      "Name: st, dtype: float64\n"
     ]
    }
   ],
   "source": [
    "for col in cols:\n",
    "    values=data[col]\n",
    "    if(data[values>upper_bounds[col]][col].count() > 0):\n",
    "        print(data[values>upper_bounds[col]][col])\n",
    "    if(data[values<lower_bounds[col]][col].count() > 0):\n",
    "        print(data[values<lower_bounds[col]][col])"
   ]
  },
  {
   "cell_type": "code",
   "execution_count": null,
   "id": "73223af7",
   "metadata": {},
   "outputs": [],
   "source": []
  },
  {
   "cell_type": "markdown",
   "id": "5839934c",
   "metadata": {},
   "source": []
  }
 ],
 "metadata": {
  "kernelspec": {
   "display_name": "Python 3 (ipykernel)",
   "language": "python",
   "name": "python3"
  },
  "language_info": {
   "codemirror_mode": {
    "name": "ipython",
    "version": 3
   },
   "file_extension": ".py",
   "mimetype": "text/x-python",
   "name": "python",
   "nbconvert_exporter": "python",
   "pygments_lexer": "ipython3",
   "version": "3.9.7"
  }
 },
 "nbformat": 4,
 "nbformat_minor": 5
}
