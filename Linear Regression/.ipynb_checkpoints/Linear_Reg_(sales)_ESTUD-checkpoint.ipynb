{
 "cells": [
  {
   "cell_type": "markdown",
   "metadata": {
    "id": "lc2aRmrEawUK"
   },
   "source": [
    "Una importante firma de consulturía digital 'Data-Driven Marketing' le ha contratado a usted para realizar un forecast (predicción) de las ventas futuras de unos productos segun las siguientes variables:"
   ]
  },
  {
   "cell_type": "markdown",
   "metadata": {
    "id": "gfAgBcqga_vA"
   },
   "source": [
    "* TV promotion budget (in million)\n",
    "* Social Media promotion budget (in million)\n",
    "* Radio promotion budget (in million)\n",
    "* Influencer: Whether the promotion collaborate with Mega, Macro, Nano, Micro influencer\n",
    "* Sales (in million)"
   ]
  },
  {
   "cell_type": "markdown",
   "metadata": {
    "id": "nCzvthUCbyze"
   },
   "source": [
    "## Ejercicios"
   ]
  },
  {
   "cell_type": "code",
   "execution_count": null,
   "metadata": {
    "id": "h0kmQnF-b5IH"
   },
   "outputs": [],
   "source": [
    "#espacio para declara las librerias...\n",
    "\n",
    "\n"
   ]
  },
  {
   "cell_type": "markdown",
   "metadata": {
    "id": "DRml157nb2KK"
   },
   "source": [
    "1. Cargue los datos"
   ]
  },
  {
   "cell_type": "code",
   "execution_count": null,
   "metadata": {
    "id": "xH_gCNf9YemW"
   },
   "outputs": [],
   "source": []
  },
  {
   "cell_type": "markdown",
   "metadata": {
    "id": "KDsxY4VGb8w_"
   },
   "source": [
    "2. Describa el tipo de variables que se encuentran en el dataset"
   ]
  },
  {
   "cell_type": "code",
   "execution_count": null,
   "metadata": {
    "id": "YZpeBL3icFmV"
   },
   "outputs": [],
   "source": []
  },
  {
   "cell_type": "markdown",
   "metadata": {
    "id": "jUq12yiCdA9I"
   },
   "source": [
    "3. Con el metodo describe, genere estadisticas descriptivas y mencionelas"
   ]
  },
  {
   "cell_type": "code",
   "execution_count": null,
   "metadata": {
    "id": "Xy1o04nBdksN"
   },
   "outputs": [],
   "source": []
  },
  {
   "cell_type": "markdown",
   "metadata": {
    "id": "zZyjODZWdQ0E"
   },
   "source": [
    "4. Existen datos nulos/Na's, repetidos?"
   ]
  },
  {
   "cell_type": "code",
   "execution_count": null,
   "metadata": {
    "id": "yS0esJKudIuF"
   },
   "outputs": [],
   "source": []
  },
  {
   "cell_type": "markdown",
   "metadata": {
    "id": "mpmX0SO6cGYu"
   },
   "source": [
    "5. Existen variables categóricas? De ser así, cuantas categorias existen y cunetelas (pista: value_counts)"
   ]
  },
  {
   "cell_type": "code",
   "execution_count": null,
   "metadata": {
    "id": "E7ksXGEMccSZ"
   },
   "outputs": [],
   "source": []
  },
  {
   "cell_type": "markdown",
   "metadata": {
    "id": "rnx5-F73fvKZ"
   },
   "source": [
    "6. Crea un diagrama de cajas y bigotes cuya variable x sea Influencer y y sea Sales. Realiza un breve analisis de lo que encuentras"
   ]
  },
  {
   "cell_type": "code",
   "execution_count": null,
   "metadata": {
    "id": "XEolfsQof6mB"
   },
   "outputs": [],
   "source": []
  },
  {
   "cell_type": "markdown",
   "metadata": {
    "id": "O-6in1ymcdXZ"
   },
   "source": [
    "7. Cree un histograma para cada variable numerica"
   ]
  },
  {
   "cell_type": "code",
   "execution_count": null,
   "metadata": {
    "id": "W4XLvTZHcdFw"
   },
   "outputs": [],
   "source": []
  },
  {
   "cell_type": "markdown",
   "metadata": {
    "id": "uOZbggYCcl_l"
   },
   "source": [
    "8. Genere un pairplot y describa brevemente como se compaortan las variables"
   ]
  },
  {
   "cell_type": "code",
   "execution_count": null,
   "metadata": {
    "id": "Zky4DF8sc1xZ"
   },
   "outputs": [],
   "source": []
  },
  {
   "cell_type": "markdown",
   "metadata": {
    "id": "QFMP_lwjc2TP"
   },
   "source": [
    "9. Genere un heatmap de correlacion y diga cuales de las variables estan mas y menos correlacionadas."
   ]
  },
  {
   "cell_type": "code",
   "execution_count": null,
   "metadata": {
    "id": "Rns4SIqnc8m6"
   },
   "outputs": [],
   "source": []
  },
  {
   "cell_type": "markdown",
   "metadata": {
    "id": "L7K81yM2gXM5"
   },
   "source": [
    "10. Usando el metodo [train_test_split](https://scikit-learn.org/stable/modules/generated/sklearn.model_selection.train_test_split.html) de sklearn haga un 'hold-out' separando los datos en 2 conjuntos de train y test (80/20 efectivamente:)"
   ]
  },
  {
   "cell_type": "code",
   "execution_count": null,
   "metadata": {
    "id": "OfES2CFQgW42"
   },
   "outputs": [],
   "source": []
  },
  {
   "cell_type": "markdown",
   "metadata": {
    "id": "DmHyZLFoc9S4"
   },
   "source": [
    "11. Trate de entrenar un modelo lineal de sklearn ([LinearRegression](https://scikit-learn.org/stable/modules/generated/sklearn.linear_model.LinearRegression.html)) cuyas X sean todas las variables menos Sales, y Y sea solo Sales. Qué error da?"
   ]
  },
  {
   "cell_type": "code",
   "execution_count": null,
   "metadata": {
    "id": "7-3TcmKKeHWu"
   },
   "outputs": [],
   "source": []
  },
  {
   "cell_type": "markdown",
   "metadata": {
    "id": "blN0eAopeMff"
   },
   "source": [
    "11. Como se observo en el punto atenrior, la variable Influencer no es numerica (es categorica) por lo que debemos realizarle una transformacion especial para poder utilizarla en nuestro modelo. A esto se le conoce como variables dummies"
   ]
  },
  {
   "cell_type": "markdown",
   "metadata": {
    "id": "3Ir7oN4-fDhs"
   },
   "source": [
    "Crea variables dummy para la columna Influencer. Pista: puedes usar el metodo get_dummies() de pandas. Puedes encontrar mas info [aqui](https://www.sharpsightlabs.com/blog/pandas-get-dummies/)"
   ]
  },
  {
   "cell_type": "code",
   "execution_count": null,
   "metadata": {
    "id": "gezYrJ3-fCra"
   },
   "outputs": [],
   "source": []
  },
  {
   "cell_type": "markdown",
   "metadata": {
    "id": "p4V6VAt_fcRR"
   },
   "source": [
    "12. Ahora intenta entrenar de nuevo (esta vez si te deberia funcionar)"
   ]
  },
  {
   "cell_type": "code",
   "execution_count": null,
   "metadata": {
    "id": "K0kxLf-1fqzG"
   },
   "outputs": [],
   "source": []
  },
  {
   "cell_type": "markdown",
   "metadata": {
    "id": "gwj_gHGMfrdh"
   },
   "source": [
    "13. Evalua el modelo con sus distintas metricas (pista, use el metodo predict). Que puedes decir de ellas? "
   ]
  },
  {
   "cell_type": "code",
   "execution_count": null,
   "metadata": {
    "id": "qOg_TlaAgHlm"
   },
   "outputs": [],
   "source": []
  },
  {
   "cell_type": "markdown",
   "metadata": {
    "id": "tOW-e2Q8gIO1"
   },
   "source": [
    "14. Imprime los coeficientes e interpretalos segun la variable dependiente y (Sales)."
   ]
  },
  {
   "cell_type": "code",
   "execution_count": null,
   "metadata": {
    "id": "tqFRgr6ngPrs"
   },
   "outputs": [],
   "source": []
  }
 ],
 "metadata": {
  "colab": {
   "collapsed_sections": [],
   "name": "Linear Reg (sales) ESTUD.ipynb",
   "provenance": []
  },
  "kernelspec": {
   "display_name": "Python 3 (ipykernel)",
   "language": "python",
   "name": "python3"
  },
  "language_info": {
   "codemirror_mode": {
    "name": "ipython",
    "version": 3
   },
   "file_extension": ".py",
   "mimetype": "text/x-python",
   "name": "python",
   "nbconvert_exporter": "python",
   "pygments_lexer": "ipython3",
   "version": "3.9.7"
  }
 },
 "nbformat": 4,
 "nbformat_minor": 1
}
