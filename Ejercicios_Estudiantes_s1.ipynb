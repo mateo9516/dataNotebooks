{
 "cells": [
  {
   "cell_type": "markdown",
   "metadata": {
    "id": "FZBrBdkvnZ1s"
   },
   "source": [
    "## Ejercicios"
   ]
  },
  {
   "cell_type": "markdown",
   "metadata": {
    "id": "_7VVSfOjndUB"
   },
   "source": [
    "1. Escriba un programa que dado\n",
    "un número entero indique si es\n",
    "par o impar"
   ]
  },
  {
   "cell_type": "code",
   "execution_count": 1,
   "metadata": {
    "id": "iBnx0A7GngIf"
   },
   "outputs": [
    {
     "data": {
      "text/plain": [
       "False"
      ]
     },
     "execution_count": 1,
     "metadata": {},
     "output_type": "execute_result"
    }
   ],
   "source": [
    "def esPar(x):\n",
    "    if (x%2 ==0):\n",
    "        return True\n",
    "    else:\n",
    "        return False\n",
    "esPar(3)"
   ]
  },
  {
   "cell_type": "markdown",
   "metadata": {
    "id": "bxe-aeGPnnIm"
   },
   "source": [
    "2. Escriba un programa que dado el\n",
    "salario base de un empleado\n",
    "indique si tiene derecho a auxilio\n",
    "de transporte y cuánto es total\n",
    "devengado. Un empleado recibe\n",
    "auxilio de transporte si devenga\n",
    "menos de dos salarios mínimos.\n",
    "\n",
    "El salario mínimo establecido\n",
    "por el gobierno para esa época era de\n",
    "877.803 y el valor mensual por concepto\n",
    "de auxilio de transporte fue\n",
    "establecido en 102.854"
   ]
  },
  {
   "cell_type": "code",
   "execution_count": null,
   "metadata": {
    "id": "M36kvIuIn40f"
   },
   "outputs": [],
   "source": []
  },
  {
   "cell_type": "markdown",
   "metadata": {
    "id": "-beb8WvqoMU-"
   },
   "source": [
    "3. Si los días están enumerados del\n",
    "1 al 7 empezando desde el\n",
    "Lunes. Escriba un programa que\n",
    "dado un número imprima el\n",
    "nombre del día de la semana\n",
    "correspondiente."
   ]
  },
  {
   "cell_type": "code",
   "execution_count": null,
   "metadata": {
    "id": "r-0rGn8VoYzk"
   },
   "outputs": [],
   "source": []
  },
  {
   "cell_type": "markdown",
   "metadata": {
    "id": "rG-XBvVrovaT"
   },
   "source": [
    "4. Escribir un programa que pregunte al usuario su edad y muestre por pantalla si es mayor de edad o no"
   ]
  },
  {
   "cell_type": "code",
   "execution_count": null,
   "metadata": {
    "id": "d6G9zm_6ow3S"
   },
   "outputs": [],
   "source": []
  },
  {
   "cell_type": "markdown",
   "metadata": {
    "id": "lgyAg5RSoxbI"
   },
   "source": [
    "5. Para tributar un determinado impuesto se debe ser mayor de 16 años y tener unos ingresos iguales o superiores a 1000 € mensuales. Escribir un programa que pregunte al usuario su edad y sus ingresos mensuales y muestre por pantalla si el usuario tiene que tributar o no."
   ]
  },
  {
   "cell_type": "code",
   "execution_count": null,
   "metadata": {
    "id": "TPgOl0i7pmzG"
   },
   "outputs": [],
   "source": []
  },
  {
   "cell_type": "markdown",
   "metadata": {
    "id": "sN-D-Iewp9az"
   },
   "source": [
    "6. Escribir un programa para una empresa que tiene salas de juegos para todas las edades y quiere calcular de forma automática el precio que debe cobrar a sus clientes por entrar. El programa debe preguntar al usuario la edad del cliente y mostrar el precio de la entrada. Si el cliente es menor de 4 años puede entrar gratis, si tiene entre 4 y 18 años debe pagar 5€ y si es mayor de 18 años, 10€."
   ]
  },
  {
   "cell_type": "code",
   "execution_count": null,
   "metadata": {
    "id": "YqkWjr9fqDWn"
   },
   "outputs": [],
   "source": []
  }
 ],
 "metadata": {
  "colab": {
   "collapsed_sections": [],
   "name": "Ejercicios Estudiantes s1.ipynb",
   "provenance": []
  },
  "kernelspec": {
   "display_name": "Python 3 (ipykernel)",
   "language": "python",
   "name": "python3"
  },
  "language_info": {
   "codemirror_mode": {
    "name": "ipython",
    "version": 3
   },
   "file_extension": ".py",
   "mimetype": "text/x-python",
   "name": "python",
   "nbconvert_exporter": "python",
   "pygments_lexer": "ipython3",
   "version": "3.9.7"
  }
 },
 "nbformat": 4,
 "nbformat_minor": 1
}
